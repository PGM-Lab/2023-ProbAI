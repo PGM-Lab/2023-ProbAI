{
  "cells": [
    {
      "cell_type": "markdown",
      "metadata": {
        "id": "view-in-github",
        "colab_type": "text"
      },
      "source": [
        "<a href=\"https://colab.research.google.com/github/PGM-Lab/2023-ProbAI/blob/main/Day1/notebooks/students_PPLs_Intro.ipynb\" target=\"_parent\"><img src=\"https://colab.research.google.com/assets/colab-badge.svg\" alt=\"Open In Colab\"/></a>"
      ]
    },
    {
      "cell_type": "markdown",
      "metadata": {
        "id": "a75mGrGgL-0g"
      },
      "source": [
        "<img src=\"https://github.com/PGM-Lab/probai-2021-pyro/blob/main/Day1/Figures/blue.png?raw=1\" alt=\"Drawing\" width=2000 height=20>\n",
        "\n",
        "\n",
        "# Setup\n",
        "Let's begin by installing and importing the modules we'll need."
      ]
    },
    {
      "cell_type": "code",
      "execution_count": null,
      "metadata": {
        "id": "7Owp2eKrL-0j",
        "tags": [],
        "colab": {
          "base_uri": "https://localhost:8080/"
        },
        "outputId": "5359b6ee-c5e3-4cbc-a65b-0e4a4065c6bf"
      },
      "outputs": [
        {
          "output_type": "stream",
          "name": "stdout",
          "text": [
            "\u001b[?25l     \u001b[90m━━━━━━━━━━━━━━━━━━━━━━━━━━━━━━━━━━━━━━━━\u001b[0m \u001b[32m0.0/732.5 kB\u001b[0m \u001b[31m?\u001b[0m eta \u001b[36m-:--:--\u001b[0m\r\u001b[2K     \u001b[91m━━━━━━━━━━━━━━━━━━━━━━━━━━━━━━━━━━━━━\u001b[0m\u001b[91m╸\u001b[0m \u001b[32m727.0/732.5 kB\u001b[0m \u001b[31m27.9 MB/s\u001b[0m eta \u001b[36m0:00:01\u001b[0m\r\u001b[2K     \u001b[90m━━━━━━━━━━━━━━━━━━━━━━━━━━━━━━━━━━━━━━\u001b[0m \u001b[32m732.5/732.5 kB\u001b[0m \u001b[31m18.4 MB/s\u001b[0m eta \u001b[36m0:00:00\u001b[0m\n",
            "\u001b[?25h"
          ]
        }
      ],
      "source": [
        "!pip install -q --upgrade pyro-ppl torch graphviz\n",
        "import pyro\n",
        "import torch\n",
        "import pyro.distributions as dist"
      ]
    },
    {
      "cell_type": "markdown",
      "metadata": {
        "id": "I-EvHtlvL-0k"
      },
      "source": [
        "<img src=\"https://github.com/PGM-Lab/probai-2021-pyro/blob/main/Day1/Figures/blue.png?raw=1\" alt=\"Drawing\" width=2000 height=20>\n",
        "\n",
        "\n",
        "# 1. **Pyro’s distributions** (http://docs.pyro.ai/en/stable/distributions.html) :\n",
        "\n",
        "\n",
        "Pyro provides a wide range of distributions: **Normal, Beta, Cauchy, Dirichlet, Gumbel, Poisson, Pareto, etc.**"
      ]
    },
    {
      "cell_type": "code",
      "execution_count": null,
      "metadata": {
        "colab": {
          "base_uri": "https://localhost:8080/"
        },
        "id": "_w52OifSL-0l",
        "outputId": "5d09c33d-0575-45f1-865f-6a4d89f124a8",
        "tags": []
      },
      "outputs": [
        {
          "output_type": "execute_result",
          "data": {
            "text/plain": [
              "Normal(loc: 0.0, scale: 1.0)"
            ]
          },
          "metadata": {},
          "execution_count": 2
        }
      ],
      "source": [
        "normal = dist.Normal(0,1)\n",
        "normal"
      ]
    },
    {
      "cell_type": "markdown",
      "metadata": {
        "id": "yOSdcF4_L-0m"
      },
      "source": [
        "\n",
        "<img src=\"https://github.com/PGM-Lab/probai-2021-pyro/blob/main/Day1/Figures/blue.png?raw=1\" alt=\"Drawing\" width=2000 height=20>\n",
        "\n",
        "Samples from the distributions are [Pytorch’s Tensor objects](https://pytorch.org/cppdocs/notes/tensor_creation.html) (i.e. multidimensional arrays).\n"
      ]
    },
    {
      "cell_type": "code",
      "execution_count": null,
      "metadata": {
        "colab": {
          "base_uri": "https://localhost:8080/"
        },
        "id": "wloQxYMXL-0m",
        "outputId": "44407e9e-aea9-4483-efca-8b894aa07dac",
        "tags": []
      },
      "outputs": [
        {
          "output_type": "execute_result",
          "data": {
            "text/plain": [
              "tensor(-0.5125)"
            ]
          },
          "metadata": {},
          "execution_count": 3
        }
      ],
      "source": [
        "sample = normal.sample()\n",
        "sample"
      ]
    },
    {
      "cell_type": "code",
      "execution_count": null,
      "metadata": {
        "colab": {
          "base_uri": "https://localhost:8080/"
        },
        "id": "2h2iOp-qL-0o",
        "outputId": "ec11731d-eff6-453b-fa7e-75bd4b4c9cd3",
        "tags": []
      },
      "outputs": [
        {
          "output_type": "execute_result",
          "data": {
            "text/plain": [
              "tensor([[[ 0.3494,  1.5369, -0.0528,  0.2923,  1.1200],\n",
              "         [ 0.5620,  2.1929, -0.8866, -0.0314,  1.5297],\n",
              "         [-1.0121, -0.2184,  0.1054,  0.9920, -1.2109],\n",
              "         [ 0.6203, -0.2369, -0.4233, -0.0433,  0.6142]],\n",
              "\n",
              "        [[-1.4073, -0.7640, -0.0517, -0.7666,  0.0270],\n",
              "         [-1.2736,  1.3069,  1.2396,  0.6301, -0.1661],\n",
              "         [-0.3009, -1.5408, -1.2803,  1.8469,  0.6391],\n",
              "         [-0.0348,  0.4062, -0.2878, -2.4241,  0.4834]],\n",
              "\n",
              "        [[ 2.6001, -0.5994, -1.0425, -1.3948,  0.1051],\n",
              "         [ 0.4001, -1.9279, -0.8510, -0.9967, -1.2338],\n",
              "         [ 2.5268,  0.8260,  0.0164,  1.4364, -0.4866],\n",
              "         [ 1.1739,  2.1341,  0.4845,  0.4962,  0.3747]]])"
            ]
          },
          "metadata": {},
          "execution_count": 4
        }
      ],
      "source": [
        "sample = normal.sample(sample_shape=[3,4,5])\n",
        "sample"
      ]
    },
    {
      "cell_type": "markdown",
      "metadata": {
        "id": "r-0pNd9tL-0o"
      },
      "source": [
        "<img src=\"https://github.com/PGM-Lab/probai-2021-pyro/blob/main/Day1/Figures/blue.png?raw=1\" alt=\"Drawing\" width=2000 height=20>\n",
        "\n",
        "We can query the **dimensionlity** of a tensor with the ``shape`` property"
      ]
    },
    {
      "cell_type": "code",
      "execution_count": null,
      "metadata": {
        "colab": {
          "base_uri": "https://localhost:8080/"
        },
        "id": "Dk2ebGoYL-0p",
        "outputId": "d7aabb53-70bb-49e8-aaae-c5f86a0d1798",
        "tags": []
      },
      "outputs": [
        {
          "output_type": "execute_result",
          "data": {
            "text/plain": [
              "torch.Size([3, 4, 5])"
            ]
          },
          "metadata": {},
          "execution_count": 5
        }
      ],
      "source": [
        "sample = normal.sample(sample_shape=[3,4,5])\n",
        "sample.shape"
      ]
    },
    {
      "cell_type": "markdown",
      "metadata": {
        "id": "DsVjombqL-0p"
      },
      "source": [
        "\n",
        "<img src=\"https://github.com/PGM-Lab/probai-2021-pyro/blob/main/Day1/Figures/blue.png?raw=1\" alt=\"Drawing\" width=2000 height=20>\n",
        "\n",
        "Operations, like **log-likelihood**, are defined over tensors."
      ]
    },
    {
      "cell_type": "code",
      "execution_count": null,
      "metadata": {
        "colab": {
          "base_uri": "https://localhost:8080/"
        },
        "id": "06G293JdL-0p",
        "outputId": "88f4423a-cb06-4250-ea23-723dd8b21be0",
        "tags": []
      },
      "outputs": [
        {
          "output_type": "execute_result",
          "data": {
            "text/plain": [
              "tensor([[[-0.9869, -0.9370, -0.9196, -1.6906, -1.5401],\n",
              "         [-1.1505, -1.6124, -1.4727, -1.0882, -0.9529],\n",
              "         [-1.8837, -1.9899, -2.1947, -0.9697, -0.9838],\n",
              "         [-0.9568, -1.7595, -0.9281, -1.3244, -1.7178]],\n",
              "\n",
              "        [[-1.1509, -0.9287, -1.5301, -1.3275, -1.0882],\n",
              "         [-1.0311, -1.2753, -0.9727, -1.0573, -1.7808],\n",
              "         [-1.3629, -0.9191, -0.9511, -1.5163, -3.3538],\n",
              "         [-7.4071, -1.2519, -1.6354, -1.2575, -1.0093]],\n",
              "\n",
              "        [[-0.9572, -3.8765, -0.9444, -1.0119, -1.0642],\n",
              "         [-1.2516, -1.2426, -1.1825, -0.9190, -5.7825],\n",
              "         [-0.9203, -0.9877, -0.9245, -0.9614, -1.7357],\n",
              "         [-0.9220, -1.0455, -1.0290, -1.3419, -1.3879]]])"
            ]
          },
          "metadata": {},
          "execution_count": 6
        }
      ],
      "source": [
        "normal.log_prob(sample)"
      ]
    },
    {
      "cell_type": "code",
      "execution_count": null,
      "metadata": {
        "colab": {
          "base_uri": "https://localhost:8080/"
        },
        "id": "R3v2rpRAL-0q",
        "outputId": "8859e6f9-9c28-4a83-e20c-4088d59b9817",
        "tags": []
      },
      "outputs": [
        {
          "output_type": "execute_result",
          "data": {
            "text/plain": [
              "tensor(-89.3547)"
            ]
          },
          "metadata": {},
          "execution_count": 7
        }
      ],
      "source": [
        "torch.sum(normal.log_prob(sample))"
      ]
    },
    {
      "cell_type": "markdown",
      "metadata": {
        "id": "zErtSTzYL-0q"
      },
      "source": [
        "<img src=\"https://github.com/PGM-Lab/probai-2021-pyro/blob/main/Day1/Figures/blue.png?raw=1\" alt=\"Drawing\" width=2000 height=20>\n",
        "\n",
        "**Multiple distributions** can be embedded in single object.\n",
        "\n",
        "* Below we define **three Normal distributions with different means but the same scale** in a single object.\n"
      ]
    },
    {
      "cell_type": "code",
      "execution_count": null,
      "metadata": {
        "colab": {
          "base_uri": "https://localhost:8080/"
        },
        "id": "VEcgGuTqL-0q",
        "outputId": "2e71ddd5-866a-4048-d73d-8b75a54ee01c",
        "tags": []
      },
      "outputs": [
        {
          "output_type": "execute_result",
          "data": {
            "text/plain": [
              "Normal(loc: torch.Size([3]), scale: torch.Size([3]))"
            ]
          },
          "metadata": {},
          "execution_count": 8
        }
      ],
      "source": [
        "normal = dist.Normal(torch.tensor([1.,2.,3.]),1.)\n",
        "normal"
      ]
    },
    {
      "cell_type": "code",
      "execution_count": null,
      "metadata": {
        "colab": {
          "base_uri": "https://localhost:8080/"
        },
        "id": "1cRRDgTbL-0r",
        "outputId": "b0d2e935-7a2a-4043-9ef9-3acda1577b73",
        "tags": []
      },
      "outputs": [
        {
          "output_type": "execute_result",
          "data": {
            "text/plain": [
              "tensor([0.5263, 1.4322, 3.3168])"
            ]
          },
          "metadata": {},
          "execution_count": 9
        }
      ],
      "source": [
        "normal.sample()"
      ]
    },
    {
      "cell_type": "code",
      "execution_count": null,
      "metadata": {
        "colab": {
          "base_uri": "https://localhost:8080/"
        },
        "id": "hji5mTnhL-0r",
        "outputId": "f11c2360-5538-43e3-f441-359f37b4b84c",
        "tags": []
      },
      "outputs": [
        {
          "output_type": "execute_result",
          "data": {
            "text/plain": [
              "tensor([-1.0949, -0.9764, -1.1274])"
            ]
          },
          "metadata": {},
          "execution_count": 10
        }
      ],
      "source": [
        "normal.log_prob(normal.sample())"
      ]
    },
    {
      "cell_type": "markdown",
      "metadata": {
        "id": "drChKHsWJ--U"
      },
      "source": [
        "<img src=\"https://github.com/PGM-Lab/probai-2021-pyro/blob/main/Day1/Figures/blue.png?raw=1\" alt=\"Drawing\" width=2000 height=20>"
      ]
    },
    {
      "cell_type": "markdown",
      "metadata": {
        "id": "T7drVBrtzNgC"
      },
      "source": [
        "### **<span style=\"color:red\">Exercise: Open the notebook and play around</span>**\n",
        "\n",
        "* Test that everything works.\n",
        "* Play a bit with the code in Section 1 of the notebook.\n",
        "\n",
        "<img src=\"https://github.com/PGM-Lab/probai-2021-pyro/blob/main/Day1/Figures/blue.png?raw=1\" alt=\"Drawing\" width=2000 height=20>"
      ]
    },
    {
      "cell_type": "markdown",
      "metadata": {
        "id": "WV-iBl4xL-0r"
      },
      "source": [
        "# 2. **Pyro’s models** (http://pyro.ai/examples/intro_part_i.html) :\n",
        "\n",
        "\n",
        "* In Pyro, a probabilistic model is defined as a **stochastic function** (i.e. every time it is run, it returns a new sample).\n",
        "\n",
        "* Each random variable is associated with a **primitive stochastic function** using the construct ``pyro.sample(...)``.\n",
        "\n",
        "\n",
        "### 2.1 A Temperature Model\n",
        "\n",
        "\n",
        "\n",
        "As initial running example, we consider the problem of **modelling the temperature**. We first start with a simple model, where temperture is modeled using a random Normal variable."
      ]
    },
    {
      "cell_type": "code",
      "execution_count": null,
      "metadata": {
        "colab": {
          "base_uri": "https://localhost:8080/"
        },
        "id": "kcU2EmBYL-0s",
        "outputId": "f34ce90f-ce1b-4e55-e743-ab9503197197",
        "tags": []
      },
      "outputs": [
        {
          "output_type": "stream",
          "name": "stdout",
          "text": [
            "tensor(18.8573)\n",
            "tensor(14.7695)\n"
          ]
        }
      ],
      "source": [
        "def model():\n",
        "    temp = pyro.sample('temp', dist.Normal(15.0, 2.0))\n",
        "    return temp\n",
        "\n",
        "print(model())\n",
        "print(model())"
      ]
    },
    {
      "cell_type": "markdown",
      "metadata": {
        "id": "rHvPBK6NSvcF"
      },
      "source": [
        "See how the model behaves as a stochastic function, which **returns a different value everytime it is invoked**. "
      ]
    },
    {
      "cell_type": "code",
      "execution_count": null,
      "metadata": {
        "tags": [],
        "colab": {
          "base_uri": "https://localhost:8080/",
          "height": 80
        },
        "id": "s3AcG5ZMSvcF",
        "outputId": "f6a1050d-3e86-492f-e8b3-affb3e8508a5"
      },
      "outputs": [
        {
          "output_type": "execute_result",
          "data": {
            "image/svg+xml": "<?xml version=\"1.0\" encoding=\"UTF-8\" standalone=\"no\"?>\n<!DOCTYPE svg PUBLIC \"-//W3C//DTD SVG 1.1//EN\"\n \"http://www.w3.org/Graphics/SVG/1.1/DTD/svg11.dtd\">\n<!-- Generated by graphviz version 2.43.0 (0)\n -->\n<!-- Title: %3 Pages: 1 -->\n<svg width=\"184pt\" height=\"44pt\"\n viewBox=\"0.00 0.00 184.10 44.00\" xmlns=\"http://www.w3.org/2000/svg\" xmlns:xlink=\"http://www.w3.org/1999/xlink\">\n<g id=\"graph0\" class=\"graph\" transform=\"scale(1 1) rotate(0) translate(4 40)\">\n<title>%3</title>\n<polygon fill=\"white\" stroke=\"transparent\" points=\"-4,4 -4,-40 180.1,-40 180.1,4 -4,4\"/>\n<!-- temp -->\n<g id=\"node1\" class=\"node\">\n<title>temp</title>\n<ellipse fill=\"white\" stroke=\"black\" cx=\"28.6\" cy=\"-18\" rx=\"28.7\" ry=\"18\"/>\n<text text-anchor=\"middle\" x=\"28.6\" y=\"-14.3\" font-family=\"Times,serif\" font-size=\"14.00\">temp</text>\n</g>\n<!-- distribution_description_node -->\n<g id=\"node2\" class=\"node\">\n<title>distribution_description_node</title>\n<text text-anchor=\"start\" x=\"83.1\" y=\"-14.3\" font-family=\"Times,serif\" font-size=\"14.00\">temp ~ Normal</text>\n</g>\n</g>\n</svg>\n",
            "text/plain": [
              "<graphviz.graphs.Digraph at 0x7f6107119cf0>"
            ]
          },
          "metadata": {},
          "execution_count": 12
        }
      ],
      "source": [
        "# Visualize the model\n",
        "pyro.render_model(model, render_distributions=True)"
      ]
    },
    {
      "cell_type": "markdown",
      "metadata": {
        "id": "N0pVeOVpL-0s"
      },
      "source": [
        "\n",
        "\n",
        "<img src=\"https://github.com/PGM-Lab/probai-2021-pyro/blob/main/Day1/Figures/blue.png?raw=1\" alt=\"Drawing\" width=2000 height=20>\n"
      ]
    },
    {
      "cell_type": "markdown",
      "metadata": {
        "id": "Z0biYXEVL-0s"
      },
      "source": [
        "### 2.2 A Temperature-Sensor Model"
      ]
    },
    {
      "cell_type": "markdown",
      "metadata": {
        "id": "Jp6wefVaLCnx"
      },
      "source": [
        "In Pyro, a stochastic method is defined as a **composition of primitive stochastic functions**.\n",
        "\n",
        "*The temperature Model:* \n",
        "We consider the presence of a **temperature sensor**. \n",
        "  * The temperature sensor gives **noisy observations** about the real temperature.\n",
        "  * The **error** of the sensor's measurements **is known**.\n"
      ]
    },
    {
      "cell_type": "code",
      "execution_count": null,
      "metadata": {
        "colab": {
          "base_uri": "https://localhost:8080/",
          "height": 179
        },
        "id": "VpxheEx-L-0t",
        "outputId": "6e303de0-13fc-4e60-fd42-376381771723",
        "tags": []
      },
      "outputs": [
        {
          "output_type": "execute_result",
          "data": {
            "image/svg+xml": "<?xml version=\"1.0\" encoding=\"UTF-8\" standalone=\"no\"?>\n<!DOCTYPE svg PUBLIC \"-//W3C//DTD SVG 1.1//EN\"\n \"http://www.w3.org/Graphics/SVG/1.1/DTD/svg11.dtd\">\n<!-- Generated by graphviz version 2.43.0 (0)\n -->\n<!-- Title: %3 Pages: 1 -->\n<svg width=\"196pt\" height=\"118pt\"\n viewBox=\"0.00 0.00 196.15 118.00\" xmlns=\"http://www.w3.org/2000/svg\" xmlns:xlink=\"http://www.w3.org/1999/xlink\">\n<g id=\"graph0\" class=\"graph\" transform=\"scale(1 1) rotate(0) translate(4 114)\">\n<title>%3</title>\n<polygon fill=\"white\" stroke=\"transparent\" points=\"-4,4 -4,-114 192.15,-114 192.15,4 -4,4\"/>\n<!-- temp -->\n<g id=\"node1\" class=\"node\">\n<title>temp</title>\n<ellipse fill=\"white\" stroke=\"black\" cx=\"33.15\" cy=\"-91\" rx=\"28.7\" ry=\"18\"/>\n<text text-anchor=\"middle\" x=\"33.15\" y=\"-87.3\" font-family=\"Times,serif\" font-size=\"14.00\">temp</text>\n</g>\n<!-- sensor -->\n<g id=\"node2\" class=\"node\">\n<title>sensor</title>\n<ellipse fill=\"white\" stroke=\"black\" cx=\"33.15\" cy=\"-18\" rx=\"33.29\" ry=\"18\"/>\n<text text-anchor=\"middle\" x=\"33.15\" y=\"-14.3\" font-family=\"Times,serif\" font-size=\"14.00\">sensor</text>\n</g>\n<!-- temp&#45;&gt;sensor -->\n<g id=\"edge1\" class=\"edge\">\n<title>temp&#45;&gt;sensor</title>\n<path fill=\"none\" stroke=\"black\" d=\"M33.15,-72.81C33.15,-64.79 33.15,-55.05 33.15,-46.07\"/>\n<polygon fill=\"black\" stroke=\"black\" points=\"36.65,-46.03 33.15,-36.03 29.65,-46.03 36.65,-46.03\"/>\n</g>\n<!-- distribution_description_node -->\n<g id=\"node3\" class=\"node\">\n<title>distribution_description_node</title>\n<text text-anchor=\"start\" x=\"88.15\" y=\"-94.8\" font-family=\"Times,serif\" font-size=\"14.00\">temp ~ Normal</text>\n<text text-anchor=\"start\" x=\"88.15\" y=\"-79.8\" font-family=\"Times,serif\" font-size=\"14.00\">sensor ~ Normal</text>\n</g>\n</g>\n</svg>\n",
            "text/plain": [
              "<graphviz.graphs.Digraph at 0x7f610711a620>"
            ]
          },
          "metadata": {},
          "execution_count": 13
        }
      ],
      "source": [
        "def model():\n",
        "    temp = pyro.sample('temp', dist.Normal(15.0, 2.0))\n",
        "    sensor = pyro.sample('sensor', dist.Normal(temp, 1.0))\n",
        "    return (temp, sensor)\n",
        "\n",
        "# Visualize the model\n",
        "pyro.render_model(model, render_distributions=True)"
      ]
    },
    {
      "cell_type": "code",
      "execution_count": null,
      "metadata": {
        "tags": [],
        "colab": {
          "base_uri": "https://localhost:8080/"
        },
        "id": "254UeMCwSvcG",
        "outputId": "a59131d5-63e2-4b48-ac8a-959e3d5f8c90"
      },
      "outputs": [
        {
          "output_type": "execute_result",
          "data": {
            "text/plain": [
              "(tensor(11.9230), tensor(11.5363))"
            ]
          },
          "metadata": {},
          "execution_count": 14
        }
      ],
      "source": [
        "# Sample from the model\n",
        "out1 = model()\n",
        "out1"
      ]
    },
    {
      "cell_type": "markdown",
      "metadata": {
        "id": "L5f6BGpkizCh"
      },
      "source": [
        "---\n",
        "\n",
        "<img src=\"https://github.com/PGM-Lab/probai-2021-pyro/blob/main/Day1/Figures/blue.png?raw=1\" alt=\"Drawing\" width=2000 height=20>\n"
      ]
    },
    {
      "cell_type": "markdown",
      "metadata": {
        "id": "XSXTeNtqL-0t"
      },
      "source": [
        "\n",
        "The above method defines a joint probability distribution:\n",
        "$$p(sensor, temp) = p(sensor|temp)p(temp)$$\n",
        "\n",
        "\n",
        "\n",
        "\n",
        "In this case, we have a simple dependency between the variables. But, as we are in a PPL, dependencies can be expressed in terms of complex deterministic functions (more examples later).\n",
        "\n",
        "\n",
        "\n",
        "<img src=\"https://github.com/PGM-Lab/probai-2021-pyro/blob/main/Day1/Figures/blue.png?raw=1\" alt=\"Drawing\" width=2000 height=20>\n"
      ]
    },
    {
      "cell_type": "markdown",
      "metadata": {
        "id": "CCayVyTsL-0t"
      },
      "source": [
        "# 3. **Pyro’s inference** (http://pyro.ai/examples/intro_part_ii.html) :"
      ]
    },
    {
      "cell_type": "markdown",
      "metadata": {
        "id": "QyC3v0cyL-0u"
      },
      "source": [
        "### Auxiliary inference functions (more details on Day 2)\n",
        "\n",
        "To make inference on Pyro, we will use a variational inference method, which performs gradient-based optimization to solve the inference problem. More details will be given on Day 2. "
      ]
    },
    {
      "cell_type": "code",
      "execution_count": null,
      "metadata": {
        "id": "arZOTC7gL-0u",
        "tags": []
      },
      "outputs": [],
      "source": [
        "from torch.distributions import constraints\n",
        "from pyro.optim import SGD\n",
        "from pyro.infer import Trace_ELBO\n",
        "import matplotlib.pyplot as plt\n",
        "from pyro.contrib.autoguide import AutoNormal\n",
        "\n",
        "\n",
        "def svi(model, obs, guide=None, num_steps = 500, plot = False, verbose=False, lr=0.01):\n",
        "    \n",
        "    torch.manual_seed(999)\n",
        "\n",
        "    pyro.clear_param_store()\n",
        "    \n",
        "    if guide is None:\n",
        "        guide = AutoNormal(model)\n",
        "    \n",
        "    svi = pyro.infer.SVI(model=model,\n",
        "                         guide=guide,\n",
        "                         optim=SGD({\"lr\": lr, \"momentum\":0.1}),\n",
        "                         loss=Trace_ELBO())\n",
        "\n",
        "    elbo, a,b  = [], [], []\n",
        "    \n",
        "    for t in range(num_steps):\n",
        "        elbo.append(-svi.step(obs))\n",
        "        if t%100==0:\n",
        "            print('Step: '+str(t)+'. ELBO: ' +str(elbo[-1]))\n",
        "            \n",
        "\n",
        "    if (plot):\n",
        "        plt.plot(elbo[2:])\n",
        "        plt.title(\"ELBO\")\n",
        "        plt.xlabel(\"step\")\n",
        "        plt.ylabel(\"ELBO\");\n",
        "        plt.show()\n",
        "        \n",
        "    if verbose:\n",
        "        print(\"Inference results:\")\n",
        "        for name, value in pyro.get_param_store().items():\n",
        "            print(name, pyro.param(name).item())"
      ]
    },
    {
      "cell_type": "markdown",
      "metadata": {
        "id": "ovLJGQtcPlBt"
      },
      "source": [
        "* To make inference in Pyro over a given model we need to define a *guide*. This *guide* must have the same signature as its counterpart model. \n",
        "\n",
        "* The guide must provide samples for those variables of the model that are not observed, again using the ``pyro.sample`` construct. \n",
        "\n",
        "* Guides are also parametrized using Pyro's parameters (``pyro.param``), so the variational inference algorithm will optimize over these parameters. \n",
        "\n",
        "* All of this will be explained in detail on Day 2."
      ]
    },
    {
      "cell_type": "markdown",
      "metadata": {
        "id": "mkkHJOFBL-0u"
      },
      "source": [
        "<img src=\"https://github.com/PGM-Lab/probai-2021-pyro/blob/main/Day1/Figures/blue.png?raw=1\" alt=\"Drawing\" width=2000 height=20>\n",
        "\n",
        "### 3.1  Conditioning on a single observation\n",
        "\n",
        "Now, we continue with the last model defined in section 2.2, and assume we have a sensor reading and we want to compute the posterior distribution over the real temperature. \n",
        "\n",
        "This can be achived by introducing **observations in the random variable** with the keyword ``obs=``."
      ]
    },
    {
      "cell_type": "code",
      "execution_count": null,
      "metadata": {
        "id": "TSzNRm7wL-0v",
        "tags": []
      },
      "outputs": [],
      "source": [
        "#The observatons   \n",
        "obs = {'sensor': torch.tensor(18.0)}\n",
        "\n",
        "def model(obs):\n",
        "    temp = pyro.sample('temp', dist.Normal(15.0, 2.0))\n",
        "    sensor = pyro.sample('sensor', dist.Normal(temp, 0.1), obs=obs['sensor'])"
      ]
    },
    {
      "cell_type": "code",
      "execution_count": null,
      "metadata": {
        "colab": {
          "base_uri": "https://localhost:8080/",
          "height": 179
        },
        "id": "VZ6QIi2-4jRr",
        "outputId": "4df5a720-63b6-4440-e0ee-3a3cdd593b99",
        "tags": []
      },
      "outputs": [
        {
          "output_type": "execute_result",
          "data": {
            "image/svg+xml": "<?xml version=\"1.0\" encoding=\"UTF-8\" standalone=\"no\"?>\n<!DOCTYPE svg PUBLIC \"-//W3C//DTD SVG 1.1//EN\"\n \"http://www.w3.org/Graphics/SVG/1.1/DTD/svg11.dtd\">\n<!-- Generated by graphviz version 2.43.0 (0)\n -->\n<!-- Title: %3 Pages: 1 -->\n<svg width=\"196pt\" height=\"118pt\"\n viewBox=\"0.00 0.00 196.15 118.00\" xmlns=\"http://www.w3.org/2000/svg\" xmlns:xlink=\"http://www.w3.org/1999/xlink\">\n<g id=\"graph0\" class=\"graph\" transform=\"scale(1 1) rotate(0) translate(4 114)\">\n<title>%3</title>\n<polygon fill=\"white\" stroke=\"transparent\" points=\"-4,4 -4,-114 192.15,-114 192.15,4 -4,4\"/>\n<!-- temp -->\n<g id=\"node1\" class=\"node\">\n<title>temp</title>\n<ellipse fill=\"white\" stroke=\"black\" cx=\"33.15\" cy=\"-91\" rx=\"28.7\" ry=\"18\"/>\n<text text-anchor=\"middle\" x=\"33.15\" y=\"-87.3\" font-family=\"Times,serif\" font-size=\"14.00\">temp</text>\n</g>\n<!-- sensor -->\n<g id=\"node2\" class=\"node\">\n<title>sensor</title>\n<ellipse fill=\"gray\" stroke=\"black\" cx=\"33.15\" cy=\"-18\" rx=\"33.29\" ry=\"18\"/>\n<text text-anchor=\"middle\" x=\"33.15\" y=\"-14.3\" font-family=\"Times,serif\" font-size=\"14.00\">sensor</text>\n</g>\n<!-- temp&#45;&gt;sensor -->\n<g id=\"edge1\" class=\"edge\">\n<title>temp&#45;&gt;sensor</title>\n<path fill=\"none\" stroke=\"black\" d=\"M33.15,-72.81C33.15,-64.79 33.15,-55.05 33.15,-46.07\"/>\n<polygon fill=\"black\" stroke=\"black\" points=\"36.65,-46.03 33.15,-36.03 29.65,-46.03 36.65,-46.03\"/>\n</g>\n<!-- distribution_description_node -->\n<g id=\"node3\" class=\"node\">\n<title>distribution_description_node</title>\n<text text-anchor=\"start\" x=\"88.15\" y=\"-94.8\" font-family=\"Times,serif\" font-size=\"14.00\">temp ~ Normal</text>\n<text text-anchor=\"start\" x=\"88.15\" y=\"-79.8\" font-family=\"Times,serif\" font-size=\"14.00\">sensor ~ Normal</text>\n</g>\n</g>\n</svg>\n",
            "text/plain": [
              "<graphviz.graphs.Digraph at 0x7f6107152c20>"
            ]
          },
          "metadata": {},
          "execution_count": 17
        }
      ],
      "source": [
        "#Visualize the model\n",
        "pyro.render_model(model, model_args=(obs, ), render_distributions=True)"
      ]
    },
    {
      "cell_type": "markdown",
      "metadata": {
        "id": "nH3PgF4wL-0w"
      },
      "source": [
        "<img src=\"https://github.com/PGM-Lab/probai-2021-pyro/blob/main/Day1/Figures/blue.png?raw=1\" alt=\"Drawing\" width=2000 height=20>\n",
        "\n",
        "\n",
        "Inference is made using the previously defined auxiliary functions, ``svi`` and ``guide``. This allows us to query the **posterior probability distribution**: \n",
        "\n",
        "\n",
        "$$p(temp | sensor=18)=\\frac{p(sensor=18|temp)p(temp)}{\\int p(sensor=18|temp)p(temp) dtemp}$$\n",
        "\n"
      ]
    },
    {
      "cell_type": "code",
      "execution_count": null,
      "metadata": {
        "colab": {
          "base_uri": "https://localhost:8080/",
          "height": 611
        },
        "id": "VObMyZQ_L-0w",
        "outputId": "3f64861d-4cb7-4078-f5ee-dafbb1476fe4",
        "tags": []
      },
      "outputs": [
        {
          "output_type": "stream",
          "name": "stdout",
          "text": [
            "Step: 0. ELBO: -16147.421896100044\n",
            "Step: 100. ELBO: -5.638109087944031\n",
            "Step: 200. ELBO: -2.748673915863037\n",
            "Step: 300. ELBO: -2.5427181720733643\n",
            "Step: 400. ELBO: -2.9723092317581177\n"
          ]
        },
        {
          "output_type": "display_data",
          "data": {
            "text/plain": [
              "<Figure size 640x480 with 1 Axes>"
            ],
            "image/png": "[encoded data removed]"
          },
          "metadata": {}
        },
        {
          "output_type": "stream",
          "name": "stdout",
          "text": [
            "P(Temperature|Sensor=18.0) = \n",
            "Normal(loc: 18.043657302856445, scale: 0.11020330339670181)\n",
            "\n"
          ]
        }
      ],
      "source": [
        "#Run inference\n",
        "svi(model,obs, plot=True)\n",
        "\n",
        "#Print results\n",
        "print(\"P(Temperature|Sensor=18.0) = \")\n",
        "print(dist.Normal(pyro.param(\"AutoNormal.locs.temp\").item(), pyro.param(\"AutoNormal.scales.temp\").item()))\n",
        "print(\"\")"
      ]
    },
    {
      "cell_type": "markdown",
      "metadata": {
        "id": "ZglqMEmSL-0w"
      },
      "source": [
        "\n",
        "* Inference is an **optimization procedure**. \n",
        "\n",
        "* The **ELBO function is maximized** during the variational inference process.\n",
        "\n",
        "<img src=\"https://github.com/PGM-Lab/probai-2021-pyro/blob/main/Day1/Figures/blue.png?raw=1\" alt=\"Drawing\" width=2000 height=20>\n"
      ]
    },
    {
      "cell_type": "markdown",
      "metadata": {
        "id": "WAbW6UoTL-0x"
      },
      "source": [
        "### 3.2  Learning from a bunch of observations\n",
        "\n",
        "* Let us assume that we have a **set of observations** of the temperature at different time steps. \n",
        "\n",
        "* Following a probabilistic modelling approach, we define a **set of random variables**.\n",
        "\n",
        "* One random variable for each **observation** using a standard ``for-loop``."
      ]
    },
    {
      "cell_type": "code",
      "execution_count": null,
      "metadata": {
        "id": "w2bPy-D4L-0x",
        "tags": []
      },
      "outputs": [],
      "source": [
        "#The observatons   \n",
        "obs = {'sensor': torch.tensor([18., 18.7, 19.2, 17.8, 20.3, 22.4, 20.3, 21.2, 19.5, 20.1])}\n",
        "\n",
        "def model(obs):\n",
        "    for i in range(obs['sensor'].shape[0]):\n",
        "        temp = pyro.sample(f'temp_{i}', dist.Normal(15.0, 2.0))\n",
        "        sensor = pyro.sample(f'sensor_{i}', dist.Normal(temp, 1.0), obs=obs['sensor'][i])"
      ]
    },
    {
      "cell_type": "code",
      "execution_count": null,
      "metadata": {
        "colab": {
          "base_uri": "https://localhost:8080/",
          "height": 176
        },
        "id": "6bvwNZvz4jRr",
        "outputId": "cdc7eada-9527-439f-f489-9af92c99a3e8",
        "tags": []
      },
      "outputs": [
        {
          "output_type": "execute_result",
          "data": {
            "image/svg+xml": "<?xml version=\"1.0\" encoding=\"UTF-8\" standalone=\"no\"?>\n<!DOCTYPE svg PUBLIC \"-//W3C//DTD SVG 1.1//EN\"\n \"http://www.w3.org/Graphics/SVG/1.1/DTD/svg11.dtd\">\n<!-- Generated by graphviz version 2.43.0 (0)\n -->\n<!-- Title: %3 Pages: 1 -->\n<svg width=\"1010pt\" height=\"116pt\"\n viewBox=\"0.00 0.00 1010.49 116.00\" xmlns=\"http://www.w3.org/2000/svg\" xmlns:xlink=\"http://www.w3.org/1999/xlink\">\n<g id=\"graph0\" class=\"graph\" transform=\"scale(1 1) rotate(0) translate(4 112)\">\n<title>%3</title>\n<polygon fill=\"white\" stroke=\"transparent\" points=\"-4,4 -4,-112 1006.49,-112 1006.49,4 -4,4\"/>\n<!-- temp_0 -->\n<g id=\"node1\" class=\"node\">\n<title>temp_0</title>\n<ellipse fill=\"white\" stroke=\"black\" cx=\"42.25\" cy=\"-90\" rx=\"37.89\" ry=\"18\"/>\n<text text-anchor=\"middle\" x=\"42.25\" y=\"-86.3\" font-family=\"Times,serif\" font-size=\"14.00\">temp_0</text>\n</g>\n<!-- sensor_0 -->\n<g id=\"node2\" class=\"node\">\n<title>sensor_0</title>\n<ellipse fill=\"gray\" stroke=\"black\" cx=\"42.25\" cy=\"-18\" rx=\"42.49\" ry=\"18\"/>\n<text text-anchor=\"middle\" x=\"42.25\" y=\"-14.3\" font-family=\"Times,serif\" font-size=\"14.00\">sensor_0</text>\n</g>\n<!-- temp_0&#45;&gt;sensor_0 -->\n<g id=\"edge1\" class=\"edge\">\n<title>temp_0&#45;&gt;sensor_0</title>\n<path fill=\"none\" stroke=\"black\" d=\"M42.25,-71.7C42.25,-63.98 42.25,-54.71 42.25,-46.11\"/>\n<polygon fill=\"black\" stroke=\"black\" points=\"45.75,-46.1 42.25,-36.1 38.75,-46.1 45.75,-46.1\"/>\n</g>\n<!-- temp_1 -->\n<g id=\"node3\" class=\"node\">\n<title>temp_1</title>\n<ellipse fill=\"white\" stroke=\"black\" cx=\"144.25\" cy=\"-90\" rx=\"37.89\" ry=\"18\"/>\n<text text-anchor=\"middle\" x=\"144.25\" y=\"-86.3\" font-family=\"Times,serif\" font-size=\"14.00\">temp_1</text>\n</g>\n<!-- sensor_1 -->\n<g id=\"node4\" class=\"node\">\n<title>sensor_1</title>\n<ellipse fill=\"gray\" stroke=\"black\" cx=\"144.25\" cy=\"-18\" rx=\"42.49\" ry=\"18\"/>\n<text text-anchor=\"middle\" x=\"144.25\" y=\"-14.3\" font-family=\"Times,serif\" font-size=\"14.00\">sensor_1</text>\n</g>\n<!-- temp_1&#45;&gt;sensor_1 -->\n<g id=\"edge2\" class=\"edge\">\n<title>temp_1&#45;&gt;sensor_1</title>\n<path fill=\"none\" stroke=\"black\" d=\"M144.25,-71.7C144.25,-63.98 144.25,-54.71 144.25,-46.11\"/>\n<polygon fill=\"black\" stroke=\"black\" points=\"147.75,-46.1 144.25,-36.1 140.75,-46.1 147.75,-46.1\"/>\n</g>\n<!-- temp_2 -->\n<g id=\"node5\" class=\"node\">\n<title>temp_2</title>\n<ellipse fill=\"white\" stroke=\"black\" cx=\"246.25\" cy=\"-90\" rx=\"37.89\" ry=\"18\"/>\n<text text-anchor=\"middle\" x=\"246.25\" y=\"-86.3\" font-family=\"Times,serif\" font-size=\"14.00\">temp_2</text>\n</g>\n<!-- sensor_2 -->\n<g id=\"node6\" class=\"node\">\n<title>sensor_2</title>\n<ellipse fill=\"gray\" stroke=\"black\" cx=\"246.25\" cy=\"-18\" rx=\"42.49\" ry=\"18\"/>\n<text text-anchor=\"middle\" x=\"246.25\" y=\"-14.3\" font-family=\"Times,serif\" font-size=\"14.00\">sensor_2</text>\n</g>\n<!-- temp_2&#45;&gt;sensor_2 -->\n<g id=\"edge3\" class=\"edge\">\n<title>temp_2&#45;&gt;sensor_2</title>\n<path fill=\"none\" stroke=\"black\" d=\"M246.25,-71.7C246.25,-63.98 246.25,-54.71 246.25,-46.11\"/>\n<polygon fill=\"black\" stroke=\"black\" points=\"249.75,-46.1 246.25,-36.1 242.75,-46.1 249.75,-46.1\"/>\n</g>\n<!-- temp_3 -->\n<g id=\"node7\" class=\"node\">\n<title>temp_3</title>\n<ellipse fill=\"white\" stroke=\"black\" cx=\"348.25\" cy=\"-90\" rx=\"37.89\" ry=\"18\"/>\n<text text-anchor=\"middle\" x=\"348.25\" y=\"-86.3\" font-family=\"Times,serif\" font-size=\"14.00\">temp_3</text>\n</g>\n<!-- sensor_3 -->\n<g id=\"node8\" class=\"node\">\n<title>sensor_3</title>\n<ellipse fill=\"gray\" stroke=\"black\" cx=\"348.25\" cy=\"-18\" rx=\"42.49\" ry=\"18\"/>\n<text text-anchor=\"middle\" x=\"348.25\" y=\"-14.3\" font-family=\"Times,serif\" font-size=\"14.00\">sensor_3</text>\n</g>\n<!-- temp_3&#45;&gt;sensor_3 -->\n<g id=\"edge4\" class=\"edge\">\n<title>temp_3&#45;&gt;sensor_3</title>\n<path fill=\"none\" stroke=\"black\" d=\"M348.25,-71.7C348.25,-63.98 348.25,-54.71 348.25,-46.11\"/>\n<polygon fill=\"black\" stroke=\"black\" points=\"351.75,-46.1 348.25,-36.1 344.75,-46.1 351.75,-46.1\"/>\n</g>\n<!-- temp_4 -->\n<g id=\"node9\" class=\"node\">\n<title>temp_4</title>\n<ellipse fill=\"white\" stroke=\"black\" cx=\"450.25\" cy=\"-90\" rx=\"37.89\" ry=\"18\"/>\n<text text-anchor=\"middle\" x=\"450.25\" y=\"-86.3\" font-family=\"Times,serif\" font-size=\"14.00\">temp_4</text>\n</g>\n<!-- sensor_4 -->\n<g id=\"node10\" class=\"node\">\n<title>sensor_4</title>\n<ellipse fill=\"gray\" stroke=\"black\" cx=\"450.25\" cy=\"-18\" rx=\"42.49\" ry=\"18\"/>\n<text text-anchor=\"middle\" x=\"450.25\" y=\"-14.3\" font-family=\"Times,serif\" font-size=\"14.00\">sensor_4</text>\n</g>\n<!-- temp_4&#45;&gt;sensor_4 -->\n<g id=\"edge5\" class=\"edge\">\n<title>temp_4&#45;&gt;sensor_4</title>\n<path fill=\"none\" stroke=\"black\" d=\"M450.25,-71.7C450.25,-63.98 450.25,-54.71 450.25,-46.11\"/>\n<polygon fill=\"black\" stroke=\"black\" points=\"453.75,-46.1 450.25,-36.1 446.75,-46.1 453.75,-46.1\"/>\n</g>\n<!-- temp_5 -->\n<g id=\"node11\" class=\"node\">\n<title>temp_5</title>\n<ellipse fill=\"white\" stroke=\"black\" cx=\"552.25\" cy=\"-90\" rx=\"37.89\" ry=\"18\"/>\n<text text-anchor=\"middle\" x=\"552.25\" y=\"-86.3\" font-family=\"Times,serif\" font-size=\"14.00\">temp_5</text>\n</g>\n<!-- sensor_5 -->\n<g id=\"node12\" class=\"node\">\n<title>sensor_5</title>\n<ellipse fill=\"gray\" stroke=\"black\" cx=\"552.25\" cy=\"-18\" rx=\"42.49\" ry=\"18\"/>\n<text text-anchor=\"middle\" x=\"552.25\" y=\"-14.3\" font-family=\"Times,serif\" font-size=\"14.00\">sensor_5</text>\n</g>\n<!-- temp_5&#45;&gt;sensor_5 -->\n<g id=\"edge6\" class=\"edge\">\n<title>temp_5&#45;&gt;sensor_5</title>\n<path fill=\"none\" stroke=\"black\" d=\"M552.25,-71.7C552.25,-63.98 552.25,-54.71 552.25,-46.11\"/>\n<polygon fill=\"black\" stroke=\"black\" points=\"555.75,-46.1 552.25,-36.1 548.75,-46.1 555.75,-46.1\"/>\n</g>\n<!-- temp_6 -->\n<g id=\"node13\" class=\"node\">\n<title>temp_6</title>\n<ellipse fill=\"white\" stroke=\"black\" cx=\"654.25\" cy=\"-90\" rx=\"37.89\" ry=\"18\"/>\n<text text-anchor=\"middle\" x=\"654.25\" y=\"-86.3\" font-family=\"Times,serif\" font-size=\"14.00\">temp_6</text>\n</g>\n<!-- sensor_6 -->\n<g id=\"node14\" class=\"node\">\n<title>sensor_6</title>\n<ellipse fill=\"gray\" stroke=\"black\" cx=\"654.25\" cy=\"-18\" rx=\"42.49\" ry=\"18\"/>\n<text text-anchor=\"middle\" x=\"654.25\" y=\"-14.3\" font-family=\"Times,serif\" font-size=\"14.00\">sensor_6</text>\n</g>\n<!-- temp_6&#45;&gt;sensor_6 -->\n<g id=\"edge7\" class=\"edge\">\n<title>temp_6&#45;&gt;sensor_6</title>\n<path fill=\"none\" stroke=\"black\" d=\"M654.25,-71.7C654.25,-63.98 654.25,-54.71 654.25,-46.11\"/>\n<polygon fill=\"black\" stroke=\"black\" points=\"657.75,-46.1 654.25,-36.1 650.75,-46.1 657.75,-46.1\"/>\n</g>\n<!-- temp_7 -->\n<g id=\"node15\" class=\"node\">\n<title>temp_7</title>\n<ellipse fill=\"white\" stroke=\"black\" cx=\"756.25\" cy=\"-90\" rx=\"37.89\" ry=\"18\"/>\n<text text-anchor=\"middle\" x=\"756.25\" y=\"-86.3\" font-family=\"Times,serif\" font-size=\"14.00\">temp_7</text>\n</g>\n<!-- sensor_7 -->\n<g id=\"node16\" class=\"node\">\n<title>sensor_7</title>\n<ellipse fill=\"gray\" stroke=\"black\" cx=\"756.25\" cy=\"-18\" rx=\"42.49\" ry=\"18\"/>\n<text text-anchor=\"middle\" x=\"756.25\" y=\"-14.3\" font-family=\"Times,serif\" font-size=\"14.00\">sensor_7</text>\n</g>\n<!-- temp_7&#45;&gt;sensor_7 -->\n<g id=\"edge8\" class=\"edge\">\n<title>temp_7&#45;&gt;sensor_7</title>\n<path fill=\"none\" stroke=\"black\" d=\"M756.25,-71.7C756.25,-63.98 756.25,-54.71 756.25,-46.11\"/>\n<polygon fill=\"black\" stroke=\"black\" points=\"759.75,-46.1 756.25,-36.1 752.75,-46.1 759.75,-46.1\"/>\n</g>\n<!-- temp_8 -->\n<g id=\"node17\" class=\"node\">\n<title>temp_8</title>\n<ellipse fill=\"white\" stroke=\"black\" cx=\"858.25\" cy=\"-90\" rx=\"37.89\" ry=\"18\"/>\n<text text-anchor=\"middle\" x=\"858.25\" y=\"-86.3\" font-family=\"Times,serif\" font-size=\"14.00\">temp_8</text>\n</g>\n<!-- sensor_8 -->\n<g id=\"node18\" class=\"node\">\n<title>sensor_8</title>\n<ellipse fill=\"gray\" stroke=\"black\" cx=\"858.25\" cy=\"-18\" rx=\"42.49\" ry=\"18\"/>\n<text text-anchor=\"middle\" x=\"858.25\" y=\"-14.3\" font-family=\"Times,serif\" font-size=\"14.00\">sensor_8</text>\n</g>\n<!-- temp_8&#45;&gt;sensor_8 -->\n<g id=\"edge9\" class=\"edge\">\n<title>temp_8&#45;&gt;sensor_8</title>\n<path fill=\"none\" stroke=\"black\" d=\"M858.25,-71.7C858.25,-63.98 858.25,-54.71 858.25,-46.11\"/>\n<polygon fill=\"black\" stroke=\"black\" points=\"861.75,-46.1 858.25,-36.1 854.75,-46.1 861.75,-46.1\"/>\n</g>\n<!-- temp_9 -->\n<g id=\"node19\" class=\"node\">\n<title>temp_9</title>\n<ellipse fill=\"white\" stroke=\"black\" cx=\"960.25\" cy=\"-90\" rx=\"37.89\" ry=\"18\"/>\n<text text-anchor=\"middle\" x=\"960.25\" y=\"-86.3\" font-family=\"Times,serif\" font-size=\"14.00\">temp_9</text>\n</g>\n<!-- sensor_9 -->\n<g id=\"node20\" class=\"node\">\n<title>sensor_9</title>\n<ellipse fill=\"gray\" stroke=\"black\" cx=\"960.25\" cy=\"-18\" rx=\"42.49\" ry=\"18\"/>\n<text text-anchor=\"middle\" x=\"960.25\" y=\"-14.3\" font-family=\"Times,serif\" font-size=\"14.00\">sensor_9</text>\n</g>\n<!-- temp_9&#45;&gt;sensor_9 -->\n<g id=\"edge10\" class=\"edge\">\n<title>temp_9&#45;&gt;sensor_9</title>\n<path fill=\"none\" stroke=\"black\" d=\"M960.25,-71.7C960.25,-63.98 960.25,-54.71 960.25,-46.11\"/>\n<polygon fill=\"black\" stroke=\"black\" points=\"963.75,-46.1 960.25,-36.1 956.75,-46.1 963.75,-46.1\"/>\n</g>\n</g>\n</svg>\n",
            "text/plain": [
              "<graphviz.graphs.Digraph at 0x7f6106f16860>"
            ]
          },
          "metadata": {},
          "execution_count": 20
        }
      ],
      "source": [
        "#Visualize the model\n",
        "pyro.render_model(model, model_args=(obs, ))"
      ]
    },
    {
      "cell_type": "code",
      "execution_count": null,
      "metadata": {
        "colab": {
          "base_uri": "https://localhost:8080/"
        },
        "id": "pa9T-qOMkyGw",
        "outputId": "7a125513-3d00-409c-ae95-c2016ae14026",
        "tags": []
      },
      "outputs": [
        {
          "output_type": "stream",
          "name": "stdout",
          "text": [
            "Step: 0. ELBO: -2270.0551319122314\n",
            "Step: 100. ELBO: -191.25132358074188\n",
            "Step: 200. ELBO: -55.761174857616425\n",
            "Step: 300. ELBO: -42.96208891272545\n",
            "Step: 400. ELBO: -40.83998817205429\n",
            "Inference results:\n",
            "AutoNormal.locs.temp_0 17.427947998046875\n",
            "AutoNormal.scales.temp_0 0.8459584712982178\n",
            "AutoNormal.locs.temp_1 17.941848754882812\n",
            "AutoNormal.scales.temp_1 0.8458547592163086\n",
            "AutoNormal.locs.temp_2 18.27560806274414\n",
            "AutoNormal.scales.temp_2 0.8490453958511353\n",
            "AutoNormal.locs.temp_3 17.2302303314209\n",
            "AutoNormal.scales.temp_3 0.902186930179596\n",
            "AutoNormal.locs.temp_4 19.30435562133789\n",
            "AutoNormal.scales.temp_4 0.7995322346687317\n",
            "AutoNormal.locs.temp_5 20.94558334350586\n",
            "AutoNormal.scales.temp_5 0.9167338013648987\n",
            "AutoNormal.locs.temp_6 19.312156677246094\n",
            "AutoNormal.scales.temp_6 0.8623718619346619\n",
            "AutoNormal.locs.temp_7 19.935022354125977\n",
            "AutoNormal.scales.temp_7 0.8151288032531738\n",
            "AutoNormal.locs.temp_8 18.566059112548828\n",
            "AutoNormal.scales.temp_8 0.8957094550132751\n",
            "AutoNormal.locs.temp_9 19.039104461669922\n",
            "AutoNormal.scales.temp_9 0.8311464786529541\n"
          ]
        }
      ],
      "source": [
        "#Run inference\n",
        "svi(model, obs, verbose=True)"
      ]
    },
    {
      "cell_type": "markdown",
      "metadata": {
        "id": "fjcPTM1PL-0x"
      },
      "source": [
        "\n",
        "<img src=\"https://github.com/PGM-Lab/probai-2021-pyro/blob/main/Day1/Figures/blue.png?raw=1\" alt=\"Drawing\" width=2000 height=20>\n",
        "\n",
        "What if we do **not know the mean temperature**? \n",
        "\n",
        "* We can **infer it from the data** by, e.g., using a **maximum likelihood** approach,\n",
        "$$ \\mu_{t} = \\arg\\max_\\mu \\ln p(s_1,\\ldots,s_n|\\mu) = \\arg\\max_\\mu \\ln \\prod_i \\int_{t_i} p(s_i|t_i)p(t_i|\\mu) dt_i, $$ where $s_i$ and $t_i$ denote the sensor reading and the real temperature at time $i$. \n",
        "\n",
        "* The graphical model:\n",
        "<center>\n",
        "<img src=\"https://github.com/PGM-Lab/probai-2021-pyro/blob/main/Day1/Figures/PGM-Tem_sensor4.png?raw=1\" alt=\"Drawing\" width=\"200\">\n",
        "</center>\n",
        "* For now we do not consider the **underlying inference problem** We just define the model and let the **PPL's engine** make the work for us. \n",
        "\n",
        "* We use Pyro's parameters (defined as ``pyro.param``), which are free variables we can optimize. \n"
      ]
    },
    {
      "cell_type": "code",
      "execution_count": null,
      "metadata": {
        "id": "yXEFGMkzL-0x",
        "tags": []
      },
      "outputs": [],
      "source": [
        "#The observatons   \n",
        "obs = {'sensor': torch.tensor([18., 18.7, 19.2, 17.8, 20.3, 22.4, 20.3, 21.2, 19.5, 20.1])}\n",
        "\n",
        "def model(obs):\n",
        "    mean_temp = pyro.param('mean_temp', torch.tensor(15.0))\n",
        "    for i in range(obs['sensor'].shape[0]):\n",
        "        temp = pyro.sample(f'temp_{i}', dist.Normal(mean_temp, 2.0))\n",
        "        sensor = pyro.sample(f'sensor_{i}', dist.Normal(temp, 1.0), obs=obs['sensor'][i])"
      ]
    },
    {
      "cell_type": "code",
      "execution_count": null,
      "metadata": {
        "colab": {
          "base_uri": "https://localhost:8080/",
          "height": 244
        },
        "id": "Mu5lyrlD4jRs",
        "outputId": "5d2c8693-569d-48de-9307-d5b07b6510ae",
        "tags": []
      },
      "outputs": [
        {
          "output_type": "execute_result",
          "data": {
            "image/svg+xml": "<?xml version=\"1.0\" encoding=\"UTF-8\" standalone=\"no\"?>\n<!DOCTYPE svg PUBLIC \"-//W3C//DTD SVG 1.1//EN\"\n \"http://www.w3.org/Graphics/SVG/1.1/DTD/svg11.dtd\">\n<!-- Generated by graphviz version 2.43.0 (0)\n -->\n<!-- Title: %3 Pages: 1 -->\n<svg width=\"1010pt\" height=\"167pt\"\n viewBox=\"0.00 0.00 1010.49 167.00\" xmlns=\"http://www.w3.org/2000/svg\" xmlns:xlink=\"http://www.w3.org/1999/xlink\">\n<g id=\"graph0\" class=\"graph\" transform=\"scale(1 1) rotate(0) translate(4 163)\">\n<title>%3</title>\n<polygon fill=\"white\" stroke=\"transparent\" points=\"-4,4 -4,-163 1006.49,-163 1006.49,4 -4,4\"/>\n<!-- temp_0 -->\n<g id=\"node1\" class=\"node\">\n<title>temp_0</title>\n<ellipse fill=\"white\" stroke=\"black\" cx=\"51.25\" cy=\"-90\" rx=\"37.89\" ry=\"18\"/>\n<text text-anchor=\"middle\" x=\"51.25\" y=\"-86.3\" font-family=\"Times,serif\" font-size=\"14.00\">temp_0</text>\n</g>\n<!-- sensor_0 -->\n<g id=\"node2\" class=\"node\">\n<title>sensor_0</title>\n<ellipse fill=\"gray\" stroke=\"black\" cx=\"42.25\" cy=\"-18\" rx=\"42.49\" ry=\"18\"/>\n<text text-anchor=\"middle\" x=\"42.25\" y=\"-14.3\" font-family=\"Times,serif\" font-size=\"14.00\">sensor_0</text>\n</g>\n<!-- temp_0&#45;&gt;sensor_0 -->\n<g id=\"edge1\" class=\"edge\">\n<title>temp_0&#45;&gt;sensor_0</title>\n<path fill=\"none\" stroke=\"black\" d=\"M49.02,-71.7C48.03,-63.98 46.84,-54.71 45.73,-46.11\"/>\n<polygon fill=\"black\" stroke=\"black\" points=\"49.19,-45.58 44.45,-36.1 42.25,-46.47 49.19,-45.58\"/>\n</g>\n<!-- temp_1 -->\n<g id=\"node3\" class=\"node\">\n<title>temp_1</title>\n<ellipse fill=\"white\" stroke=\"black\" cx=\"148.25\" cy=\"-90\" rx=\"37.89\" ry=\"18\"/>\n<text text-anchor=\"middle\" x=\"148.25\" y=\"-86.3\" font-family=\"Times,serif\" font-size=\"14.00\">temp_1</text>\n</g>\n<!-- sensor_1 -->\n<g id=\"node4\" class=\"node\">\n<title>sensor_1</title>\n<ellipse fill=\"gray\" stroke=\"black\" cx=\"144.25\" cy=\"-18\" rx=\"42.49\" ry=\"18\"/>\n<text text-anchor=\"middle\" x=\"144.25\" y=\"-14.3\" font-family=\"Times,serif\" font-size=\"14.00\">sensor_1</text>\n</g>\n<!-- temp_1&#45;&gt;sensor_1 -->\n<g id=\"edge2\" class=\"edge\">\n<title>temp_1&#45;&gt;sensor_1</title>\n<path fill=\"none\" stroke=\"black\" d=\"M147.26,-71.7C146.82,-63.98 146.29,-54.71 145.8,-46.11\"/>\n<polygon fill=\"black\" stroke=\"black\" points=\"149.29,-45.89 145.22,-36.1 142.3,-46.29 149.29,-45.89\"/>\n</g>\n<!-- temp_2 -->\n<g id=\"node5\" class=\"node\">\n<title>temp_2</title>\n<ellipse fill=\"white\" stroke=\"black\" cx=\"250.25\" cy=\"-90\" rx=\"37.89\" ry=\"18\"/>\n<text text-anchor=\"middle\" x=\"250.25\" y=\"-86.3\" font-family=\"Times,serif\" font-size=\"14.00\">temp_2</text>\n</g>\n<!-- sensor_2 -->\n<g id=\"node6\" class=\"node\">\n<title>sensor_2</title>\n<ellipse fill=\"gray\" stroke=\"black\" cx=\"246.25\" cy=\"-18\" rx=\"42.49\" ry=\"18\"/>\n<text text-anchor=\"middle\" x=\"246.25\" y=\"-14.3\" font-family=\"Times,serif\" font-size=\"14.00\">sensor_2</text>\n</g>\n<!-- temp_2&#45;&gt;sensor_2 -->\n<g id=\"edge3\" class=\"edge\">\n<title>temp_2&#45;&gt;sensor_2</title>\n<path fill=\"none\" stroke=\"black\" d=\"M249.26,-71.7C248.82,-63.98 248.29,-54.71 247.8,-46.11\"/>\n<polygon fill=\"black\" stroke=\"black\" points=\"251.29,-45.89 247.22,-36.1 244.3,-46.29 251.29,-45.89\"/>\n</g>\n<!-- temp_3 -->\n<g id=\"node7\" class=\"node\">\n<title>temp_3</title>\n<ellipse fill=\"white\" stroke=\"black\" cx=\"352.25\" cy=\"-90\" rx=\"37.89\" ry=\"18\"/>\n<text text-anchor=\"middle\" x=\"352.25\" y=\"-86.3\" font-family=\"Times,serif\" font-size=\"14.00\">temp_3</text>\n</g>\n<!-- sensor_3 -->\n<g id=\"node8\" class=\"node\">\n<title>sensor_3</title>\n<ellipse fill=\"gray\" stroke=\"black\" cx=\"348.25\" cy=\"-18\" rx=\"42.49\" ry=\"18\"/>\n<text text-anchor=\"middle\" x=\"348.25\" y=\"-14.3\" font-family=\"Times,serif\" font-size=\"14.00\">sensor_3</text>\n</g>\n<!-- temp_3&#45;&gt;sensor_3 -->\n<g id=\"edge4\" class=\"edge\">\n<title>temp_3&#45;&gt;sensor_3</title>\n<path fill=\"none\" stroke=\"black\" d=\"M351.26,-71.7C350.82,-63.98 350.29,-54.71 349.8,-46.11\"/>\n<polygon fill=\"black\" stroke=\"black\" points=\"353.29,-45.89 349.22,-36.1 346.3,-46.29 353.29,-45.89\"/>\n</g>\n<!-- temp_4 -->\n<g id=\"node9\" class=\"node\">\n<title>temp_4</title>\n<ellipse fill=\"white\" stroke=\"black\" cx=\"451.25\" cy=\"-90\" rx=\"37.89\" ry=\"18\"/>\n<text text-anchor=\"middle\" x=\"451.25\" y=\"-86.3\" font-family=\"Times,serif\" font-size=\"14.00\">temp_4</text>\n</g>\n<!-- sensor_4 -->\n<g id=\"node10\" class=\"node\">\n<title>sensor_4</title>\n<ellipse fill=\"gray\" stroke=\"black\" cx=\"450.25\" cy=\"-18\" rx=\"42.49\" ry=\"18\"/>\n<text text-anchor=\"middle\" x=\"450.25\" y=\"-14.3\" font-family=\"Times,serif\" font-size=\"14.00\">sensor_4</text>\n</g>\n<!-- temp_4&#45;&gt;sensor_4 -->\n<g id=\"edge5\" class=\"edge\">\n<title>temp_4&#45;&gt;sensor_4</title>\n<path fill=\"none\" stroke=\"black\" d=\"M451,-71.7C450.89,-63.98 450.76,-54.71 450.63,-46.11\"/>\n<polygon fill=\"black\" stroke=\"black\" points=\"454.13,-46.05 450.49,-36.1 447.13,-46.15 454.13,-46.05\"/>\n</g>\n<!-- temp_5 -->\n<g id=\"node11\" class=\"node\">\n<title>temp_5</title>\n<ellipse fill=\"white\" stroke=\"black\" cx=\"545.25\" cy=\"-90\" rx=\"37.89\" ry=\"18\"/>\n<text text-anchor=\"middle\" x=\"545.25\" y=\"-86.3\" font-family=\"Times,serif\" font-size=\"14.00\">temp_5</text>\n</g>\n<!-- sensor_5 -->\n<g id=\"node12\" class=\"node\">\n<title>sensor_5</title>\n<ellipse fill=\"gray\" stroke=\"black\" cx=\"552.25\" cy=\"-18\" rx=\"42.49\" ry=\"18\"/>\n<text text-anchor=\"middle\" x=\"552.25\" y=\"-14.3\" font-family=\"Times,serif\" font-size=\"14.00\">sensor_5</text>\n</g>\n<!-- temp_5&#45;&gt;sensor_5 -->\n<g id=\"edge6\" class=\"edge\">\n<title>temp_5&#45;&gt;sensor_5</title>\n<path fill=\"none\" stroke=\"black\" d=\"M546.98,-71.7C547.75,-63.98 548.68,-54.71 549.54,-46.11\"/>\n<polygon fill=\"black\" stroke=\"black\" points=\"553.02,-46.4 550.54,-36.1 546.06,-45.71 553.02,-46.4\"/>\n</g>\n<!-- temp_6 -->\n<g id=\"node13\" class=\"node\">\n<title>temp_6</title>\n<ellipse fill=\"white\" stroke=\"black\" cx=\"641.25\" cy=\"-90\" rx=\"37.89\" ry=\"18\"/>\n<text text-anchor=\"middle\" x=\"641.25\" y=\"-86.3\" font-family=\"Times,serif\" font-size=\"14.00\">temp_6</text>\n</g>\n<!-- sensor_6 -->\n<g id=\"node14\" class=\"node\">\n<title>sensor_6</title>\n<ellipse fill=\"gray\" stroke=\"black\" cx=\"654.25\" cy=\"-18\" rx=\"42.49\" ry=\"18\"/>\n<text text-anchor=\"middle\" x=\"654.25\" y=\"-14.3\" font-family=\"Times,serif\" font-size=\"14.00\">sensor_6</text>\n</g>\n<!-- temp_6&#45;&gt;sensor_6 -->\n<g id=\"edge7\" class=\"edge\">\n<title>temp_6&#45;&gt;sensor_6</title>\n<path fill=\"none\" stroke=\"black\" d=\"M644.39,-72.05C645.82,-64.35 647.56,-55.03 649.16,-46.36\"/>\n<polygon fill=\"black\" stroke=\"black\" points=\"652.65,-46.75 651.04,-36.28 645.77,-45.47 652.65,-46.75\"/>\n</g>\n<!-- temp_7 -->\n<g id=\"node15\" class=\"node\">\n<title>temp_7</title>\n<ellipse fill=\"white\" stroke=\"black\" cx=\"740.25\" cy=\"-90\" rx=\"37.89\" ry=\"18\"/>\n<text text-anchor=\"middle\" x=\"740.25\" y=\"-86.3\" font-family=\"Times,serif\" font-size=\"14.00\">temp_7</text>\n</g>\n<!-- sensor_7 -->\n<g id=\"node16\" class=\"node\">\n<title>sensor_7</title>\n<ellipse fill=\"gray\" stroke=\"black\" cx=\"756.25\" cy=\"-18\" rx=\"42.49\" ry=\"18\"/>\n<text text-anchor=\"middle\" x=\"756.25\" y=\"-14.3\" font-family=\"Times,serif\" font-size=\"14.00\">sensor_7</text>\n</g>\n<!-- temp_7&#45;&gt;sensor_7 -->\n<g id=\"edge8\" class=\"edge\">\n<title>temp_7&#45;&gt;sensor_7</title>\n<path fill=\"none\" stroke=\"black\" d=\"M744.12,-72.05C745.9,-64.26 748.06,-54.82 750.06,-46.08\"/>\n<polygon fill=\"black\" stroke=\"black\" points=\"753.48,-46.8 752.3,-36.28 746.66,-45.24 753.48,-46.8\"/>\n</g>\n<!-- temp_8 -->\n<g id=\"node17\" class=\"node\">\n<title>temp_8</title>\n<ellipse fill=\"white\" stroke=\"black\" cx=\"844.25\" cy=\"-90\" rx=\"37.89\" ry=\"18\"/>\n<text text-anchor=\"middle\" x=\"844.25\" y=\"-86.3\" font-family=\"Times,serif\" font-size=\"14.00\">temp_8</text>\n</g>\n<!-- sensor_8 -->\n<g id=\"node18\" class=\"node\">\n<title>sensor_8</title>\n<ellipse fill=\"gray\" stroke=\"black\" cx=\"858.25\" cy=\"-18\" rx=\"42.49\" ry=\"18\"/>\n<text text-anchor=\"middle\" x=\"858.25\" y=\"-14.3\" font-family=\"Times,serif\" font-size=\"14.00\">sensor_8</text>\n</g>\n<!-- temp_8&#45;&gt;sensor_8 -->\n<g id=\"edge9\" class=\"edge\">\n<title>temp_8&#45;&gt;sensor_8</title>\n<path fill=\"none\" stroke=\"black\" d=\"M847.64,-72.05C849.18,-64.35 851.04,-55.03 852.77,-46.36\"/>\n<polygon fill=\"black\" stroke=\"black\" points=\"856.26,-46.77 854.79,-36.28 849.4,-45.39 856.26,-46.77\"/>\n</g>\n<!-- temp_9 -->\n<g id=\"node19\" class=\"node\">\n<title>temp_9</title>\n<ellipse fill=\"white\" stroke=\"black\" cx=\"959.25\" cy=\"-90\" rx=\"37.89\" ry=\"18\"/>\n<text text-anchor=\"middle\" x=\"959.25\" y=\"-86.3\" font-family=\"Times,serif\" font-size=\"14.00\">temp_9</text>\n</g>\n<!-- sensor_9 -->\n<g id=\"node20\" class=\"node\">\n<title>sensor_9</title>\n<ellipse fill=\"gray\" stroke=\"black\" cx=\"960.25\" cy=\"-18\" rx=\"42.49\" ry=\"18\"/>\n<text text-anchor=\"middle\" x=\"960.25\" y=\"-14.3\" font-family=\"Times,serif\" font-size=\"14.00\">sensor_9</text>\n</g>\n<!-- temp_9&#45;&gt;sensor_9 -->\n<g id=\"edge10\" class=\"edge\">\n<title>temp_9&#45;&gt;sensor_9</title>\n<path fill=\"none\" stroke=\"black\" d=\"M959.49,-71.7C959.6,-63.98 959.74,-54.71 959.86,-46.11\"/>\n<polygon fill=\"black\" stroke=\"black\" points=\"963.36,-46.15 960,-36.1 956.36,-46.05 963.36,-46.15\"/>\n</g>\n<!-- mean_temp -->\n<g id=\"node21\" class=\"node\">\n<title>mean_temp</title>\n<polygon fill=\"white\" stroke=\"transparent\" points=\"530.75,-159 465.75,-159 465.75,-144 530.75,-144 530.75,-159\"/>\n<text text-anchor=\"middle\" x=\"498.25\" y=\"-147.8\" font-family=\"Times,serif\" font-size=\"14.00\">mean_temp</text>\n</g>\n<!-- mean_temp&#45;&gt;temp_0 -->\n<g id=\"edge11\" class=\"edge\">\n<title>mean_temp&#45;&gt;temp_0</title>\n<path fill=\"none\" stroke=\"black\" d=\"M465.69,-149.45C397.39,-146.71 234.42,-137.39 101.25,-108 97.38,-107.15 93.39,-106.1 89.44,-104.94\"/>\n<polygon fill=\"black\" stroke=\"black\" points=\"90.35,-101.56 79.76,-101.9 88.25,-108.24 90.35,-101.56\"/>\n</g>\n<!-- mean_temp&#45;&gt;temp_1 -->\n<g id=\"edge12\" class=\"edge\">\n<title>mean_temp&#45;&gt;temp_1</title>\n<path fill=\"none\" stroke=\"black\" d=\"M465.64,-147.49C410.93,-142.06 297.39,-129.19 203.25,-108 198.2,-106.86 192.94,-105.49 187.76,-104.02\"/>\n<polygon fill=\"black\" stroke=\"black\" points=\"188.57,-100.61 177.99,-101.12 186.58,-107.32 188.57,-100.61\"/>\n</g>\n<!-- mean_temp&#45;&gt;temp_2 -->\n<g id=\"edge13\" class=\"edge\">\n<title>mean_temp&#45;&gt;temp_2</title>\n<path fill=\"none\" stroke=\"black\" d=\"M465.61,-144.17C427.07,-136.51 361.14,-122.77 305.25,-108 300.48,-106.74 295.52,-105.34 290.6,-103.89\"/>\n<polygon fill=\"black\" stroke=\"black\" points=\"291.25,-100.43 280.66,-100.9 289.23,-107.13 291.25,-100.43\"/>\n</g>\n<!-- mean_temp&#45;&gt;temp_3 -->\n<g id=\"edge14\" class=\"edge\">\n<title>mean_temp&#45;&gt;temp_3</title>\n<path fill=\"none\" stroke=\"black\" d=\"M482.06,-143.91C459.82,-134.84 419.16,-118.27 389.26,-106.08\"/>\n<polygon fill=\"black\" stroke=\"black\" points=\"390.54,-102.83 379.96,-102.29 387.9,-109.31 390.54,-102.83\"/>\n</g>\n<!-- mean_temp&#45;&gt;temp_4 -->\n<g id=\"edge15\" class=\"edge\">\n<title>mean_temp&#45;&gt;temp_4</title>\n<path fill=\"none\" stroke=\"black\" d=\"M492.85,-143.67C487.38,-136.74 478.56,-125.58 470.46,-115.32\"/>\n<polygon fill=\"black\" stroke=\"black\" points=\"473.13,-113.05 464.18,-107.38 467.63,-117.39 473.13,-113.05\"/>\n</g>\n<!-- mean_temp&#45;&gt;temp_5 -->\n<g id=\"edge16\" class=\"edge\">\n<title>mean_temp&#45;&gt;temp_5</title>\n<path fill=\"none\" stroke=\"black\" d=\"M503.64,-143.67C509.12,-136.74 517.93,-125.58 526.04,-115.32\"/>\n<polygon fill=\"black\" stroke=\"black\" points=\"528.86,-117.39 532.31,-107.38 523.36,-113.05 528.86,-117.39\"/>\n</g>\n<!-- mean_temp&#45;&gt;temp_6 -->\n<g id=\"edge17\" class=\"edge\">\n<title>mean_temp&#45;&gt;temp_6</title>\n<path fill=\"none\" stroke=\"black\" d=\"M514.1,-143.91C535.72,-134.91 575.12,-118.51 604.35,-106.35\"/>\n<polygon fill=\"black\" stroke=\"black\" points=\"605.95,-109.48 613.83,-102.41 603.26,-103.02 605.95,-109.48\"/>\n</g>\n<!-- mean_temp&#45;&gt;temp_7 -->\n<g id=\"edge18\" class=\"edge\">\n<title>mean_temp&#45;&gt;temp_7</title>\n<path fill=\"none\" stroke=\"black\" d=\"M530.75,-144.22C568.77,-136.64 633.49,-123.04 688.25,-108 692.37,-106.87 696.65,-105.61 700.9,-104.3\"/>\n<polygon fill=\"black\" stroke=\"black\" points=\"702.22,-107.56 710.7,-101.2 700.11,-100.88 702.22,-107.56\"/>\n</g>\n<!-- mean_temp&#45;&gt;temp_8 -->\n<g id=\"edge19\" class=\"edge\">\n<title>mean_temp&#45;&gt;temp_8</title>\n<path fill=\"none\" stroke=\"black\" d=\"M531.03,-147.23C584.92,-141.52 695.4,-128.34 787.25,-108 792.73,-106.79 798.45,-105.32 804.07,-103.77\"/>\n<polygon fill=\"black\" stroke=\"black\" points=\"805.35,-107.04 813.99,-100.9 803.41,-100.31 805.35,-107.04\"/>\n</g>\n<!-- mean_temp&#45;&gt;temp_9 -->\n<g id=\"edge20\" class=\"edge\">\n<title>mean_temp&#45;&gt;temp_9</title>\n<path fill=\"none\" stroke=\"black\" d=\"M530.81,-148.5C598.4,-144.01 758.65,-131.63 891.25,-108 899.86,-106.47 908.99,-104.45 917.68,-102.35\"/>\n<polygon fill=\"black\" stroke=\"black\" points=\"918.76,-105.69 927.61,-99.87 917.06,-98.9 918.76,-105.69\"/>\n</g>\n</g>\n</svg>\n",
            "text/plain": [
              "<graphviz.graphs.Digraph at 0x7f6107152d10>"
            ]
          },
          "metadata": {},
          "execution_count": 23
        }
      ],
      "source": [
        "#Visualize the model\n",
        "pyro.render_model(model, model_args=(obs, ), render_params=True)"
      ]
    },
    {
      "cell_type": "code",
      "execution_count": null,
      "metadata": {
        "colab": {
          "base_uri": "https://localhost:8080/"
        },
        "id": "GEfOM8zWL-0y",
        "outputId": "77b53351-5c6e-4b4a-e89c-4fc9f5efe388",
        "tags": []
      },
      "outputs": [
        {
          "output_type": "stream",
          "name": "stdout",
          "text": [
            "Step: 0. ELBO: -2270.0551319122314\n",
            "Step: 100. ELBO: -247.7783883213997\n",
            "Step: 200. ELBO: -56.34299427270889\n",
            "Step: 300. ELBO: -23.71842250227928\n",
            "Step: 400. ELBO: -18.077348172664642\n",
            "Estimated Mean Temperature (MLE):\n",
            "19.568622589111328\n"
          ]
        }
      ],
      "source": [
        "#Run inference\n",
        "svi(model, obs)\n",
        "\n",
        "#Print results\n",
        "print(\"Estimated Mean Temperature (MLE):\")\n",
        "mle_mean_temp = pyro.param(\"mean_temp\").item() \n",
        "print(mle_mean_temp)"
      ]
    },
    {
      "cell_type": "markdown",
      "metadata": {
        "id": "tiCwbfJwL-0y"
      },
      "source": [
        "<img src=\"https://github.com/PGM-Lab/probai-2021-pyro/blob/main/Day1/Figures/blue.png?raw=1\" alt=\"Drawing\" width=2000 height=20>\n",
        "\n",
        "Instead of performing *maximum likelihood* learning, we can perform **Bayesian learning**:\n",
        "\n",
        "* We treat the unknown quantity as a **random variable**.\n",
        "\n",
        "This model can graphically be represented as follows:\n",
        "\n",
        "<center>\n",
        "<img src=\"https://github.com/PGM-Lab/probai-2021-pyro/blob/main/Day1/Figures/PGM-Tem-Sensor2.png?raw=1\" alt=\"Drawing\" width=\"200\">\n",
        "</center>\n",
        "<img src=\"https://github.com/PGM-Lab/probai-2021-pyro/blob/main/Day1/Figures/blue.png?raw=1\" alt=\"Drawing\" width=2000 height=20>\n",
        "\n"
      ]
    },
    {
      "cell_type": "code",
      "execution_count": null,
      "metadata": {
        "id": "CaTdLm6ML-0y",
        "tags": []
      },
      "outputs": [],
      "source": [
        "#The observatons   \n",
        "obs = {'sensor': torch.tensor([18., 18.7, 19.2, 17.8, 20.3, 22.4, 20.3, 21.2, 19.5, 20.1])}\n",
        "\n",
        "def model(obs):\n",
        "    mean_temp = pyro.sample('mean_temp', dist.Normal(15.0, 2.0))\n",
        "    for i in range(obs['sensor'].shape[0]):\n",
        "        temp = pyro.sample(f'temp_{i}', dist.Normal(mean_temp, 2.0))\n",
        "        sensor = pyro.sample(f'sensor_{i}', dist.Normal(temp, 1.0), obs=obs['sensor'][i])"
      ]
    },
    {
      "cell_type": "code",
      "execution_count": null,
      "metadata": {
        "colab": {
          "base_uri": "https://localhost:8080/",
          "height": 272
        },
        "id": "uF-4Gmyb4jRs",
        "outputId": "1ae45e5d-3015-4246-fe6c-a97611f88c89",
        "tags": []
      },
      "outputs": [
        {
          "output_type": "execute_result",
          "data": {
            "image/svg+xml": "<?xml version=\"1.0\" encoding=\"UTF-8\" standalone=\"no\"?>\n<!DOCTYPE svg PUBLIC \"-//W3C//DTD SVG 1.1//EN\"\n \"http://www.w3.org/Graphics/SVG/1.1/DTD/svg11.dtd\">\n<!-- Generated by graphviz version 2.43.0 (0)\n -->\n<!-- Title: %3 Pages: 1 -->\n<svg width=\"1010pt\" height=\"188pt\"\n viewBox=\"0.00 0.00 1010.49 188.00\" xmlns=\"http://www.w3.org/2000/svg\" xmlns:xlink=\"http://www.w3.org/1999/xlink\">\n<g id=\"graph0\" class=\"graph\" transform=\"scale(1 1) rotate(0) translate(4 184)\">\n<title>%3</title>\n<polygon fill=\"white\" stroke=\"transparent\" points=\"-4,4 -4,-184 1006.49,-184 1006.49,4 -4,4\"/>\n<!-- mean_temp -->\n<g id=\"node1\" class=\"node\">\n<title>mean_temp</title>\n<ellipse fill=\"white\" stroke=\"black\" cx=\"498.25\" cy=\"-162\" rx=\"52.79\" ry=\"18\"/>\n<text text-anchor=\"middle\" x=\"498.25\" y=\"-158.3\" font-family=\"Times,serif\" font-size=\"14.00\">mean_temp</text>\n</g>\n<!-- temp_0 -->\n<g id=\"node2\" class=\"node\">\n<title>temp_0</title>\n<ellipse fill=\"white\" stroke=\"black\" cx=\"46.25\" cy=\"-90\" rx=\"37.89\" ry=\"18\"/>\n<text text-anchor=\"middle\" x=\"46.25\" y=\"-86.3\" font-family=\"Times,serif\" font-size=\"14.00\">temp_0</text>\n</g>\n<!-- mean_temp&#45;&gt;temp_0 -->\n<g id=\"edge1\" class=\"edge\">\n<title>mean_temp&#45;&gt;temp_0</title>\n<path fill=\"none\" stroke=\"black\" d=\"M447.64,-156.97C371.73,-150.32 224.17,-135 101.25,-108 96.19,-106.89 90.93,-105.53 85.75,-104.07\"/>\n<polygon fill=\"black\" stroke=\"black\" points=\"86.56,-100.66 75.98,-101.18 84.57,-107.37 86.56,-100.66\"/>\n</g>\n<!-- temp_1 -->\n<g id=\"node4\" class=\"node\">\n<title>temp_1</title>\n<ellipse fill=\"white\" stroke=\"black\" cx=\"148.25\" cy=\"-90\" rx=\"37.89\" ry=\"18\"/>\n<text text-anchor=\"middle\" x=\"148.25\" y=\"-86.3\" font-family=\"Times,serif\" font-size=\"14.00\">temp_1</text>\n</g>\n<!-- mean_temp&#45;&gt;temp_1 -->\n<g id=\"edge3\" class=\"edge\">\n<title>mean_temp&#45;&gt;temp_1</title>\n<path fill=\"none\" stroke=\"black\" d=\"M450.61,-154.27C391.98,-145.57 289.58,-129.01 203.25,-108 198.28,-106.79 193.09,-105.38 187.98,-103.91\"/>\n<polygon fill=\"black\" stroke=\"black\" points=\"188.9,-100.53 178.32,-101.02 186.9,-107.24 188.9,-100.53\"/>\n</g>\n<!-- temp_2 -->\n<g id=\"node6\" class=\"node\">\n<title>temp_2</title>\n<ellipse fill=\"white\" stroke=\"black\" cx=\"250.25\" cy=\"-90\" rx=\"37.89\" ry=\"18\"/>\n<text text-anchor=\"middle\" x=\"250.25\" y=\"-86.3\" font-family=\"Times,serif\" font-size=\"14.00\">temp_2</text>\n</g>\n<!-- mean_temp&#45;&gt;temp_2 -->\n<g id=\"edge5\" class=\"edge\">\n<title>mean_temp&#45;&gt;temp_2</title>\n<path fill=\"none\" stroke=\"black\" d=\"M457.85,-150.31C418.73,-139.86 357.78,-123.33 305.25,-108 300.52,-106.62 295.57,-105.14 290.67,-103.65\"/>\n<polygon fill=\"black\" stroke=\"black\" points=\"291.33,-100.2 280.74,-100.61 289.28,-106.89 291.33,-100.2\"/>\n</g>\n<!-- temp_3 -->\n<g id=\"node8\" class=\"node\">\n<title>temp_3</title>\n<ellipse fill=\"white\" stroke=\"black\" cx=\"352.25\" cy=\"-90\" rx=\"37.89\" ry=\"18\"/>\n<text text-anchor=\"middle\" x=\"352.25\" y=\"-86.3\" font-family=\"Times,serif\" font-size=\"14.00\">temp_3</text>\n</g>\n<!-- mean_temp&#45;&gt;temp_3 -->\n<g id=\"edge7\" class=\"edge\">\n<title>mean_temp&#45;&gt;temp_3</title>\n<path fill=\"none\" stroke=\"black\" d=\"M469.05,-147C445.44,-135.68 412.12,-119.71 387.11,-107.72\"/>\n<polygon fill=\"black\" stroke=\"black\" points=\"388.5,-104.5 377.97,-103.33 385.47,-110.81 388.5,-104.5\"/>\n</g>\n<!-- temp_4 -->\n<g id=\"node10\" class=\"node\">\n<title>temp_4</title>\n<ellipse fill=\"white\" stroke=\"black\" cx=\"451.25\" cy=\"-90\" rx=\"37.89\" ry=\"18\"/>\n<text text-anchor=\"middle\" x=\"451.25\" y=\"-86.3\" font-family=\"Times,serif\" font-size=\"14.00\">temp_4</text>\n</g>\n<!-- mean_temp&#45;&gt;temp_4 -->\n<g id=\"edge9\" class=\"edge\">\n<title>mean_temp&#45;&gt;temp_4</title>\n<path fill=\"none\" stroke=\"black\" d=\"M486.87,-144.05C481.19,-135.59 474.2,-125.19 467.93,-115.84\"/>\n<polygon fill=\"black\" stroke=\"black\" points=\"470.68,-113.66 462.2,-107.31 464.86,-117.56 470.68,-113.66\"/>\n</g>\n<!-- temp_5 -->\n<g id=\"node12\" class=\"node\">\n<title>temp_5</title>\n<ellipse fill=\"white\" stroke=\"black\" cx=\"545.25\" cy=\"-90\" rx=\"37.89\" ry=\"18\"/>\n<text text-anchor=\"middle\" x=\"545.25\" y=\"-86.3\" font-family=\"Times,serif\" font-size=\"14.00\">temp_5</text>\n</g>\n<!-- mean_temp&#45;&gt;temp_5 -->\n<g id=\"edge11\" class=\"edge\">\n<title>mean_temp&#45;&gt;temp_5</title>\n<path fill=\"none\" stroke=\"black\" d=\"M509.62,-144.05C515.31,-135.59 522.29,-125.19 528.56,-115.84\"/>\n<polygon fill=\"black\" stroke=\"black\" points=\"531.63,-117.56 534.3,-107.31 525.82,-113.66 531.63,-117.56\"/>\n</g>\n<!-- temp_6 -->\n<g id=\"node14\" class=\"node\">\n<title>temp_6</title>\n<ellipse fill=\"white\" stroke=\"black\" cx=\"641.25\" cy=\"-90\" rx=\"37.89\" ry=\"18\"/>\n<text text-anchor=\"middle\" x=\"641.25\" y=\"-86.3\" font-family=\"Times,serif\" font-size=\"14.00\">temp_6</text>\n</g>\n<!-- mean_temp&#45;&gt;temp_6 -->\n<g id=\"edge13\" class=\"edge\">\n<title>mean_temp&#45;&gt;temp_6</title>\n<path fill=\"none\" stroke=\"black\" d=\"M527.18,-146.83C550.1,-135.62 582.17,-119.92 606.48,-108.02\"/>\n<polygon fill=\"black\" stroke=\"black\" points=\"608.26,-111.04 615.71,-103.5 605.19,-104.76 608.26,-111.04\"/>\n</g>\n<!-- temp_7 -->\n<g id=\"node16\" class=\"node\">\n<title>temp_7</title>\n<ellipse fill=\"white\" stroke=\"black\" cx=\"740.25\" cy=\"-90\" rx=\"37.89\" ry=\"18\"/>\n<text text-anchor=\"middle\" x=\"740.25\" y=\"-86.3\" font-family=\"Times,serif\" font-size=\"14.00\">temp_7</text>\n</g>\n<!-- mean_temp&#45;&gt;temp_7 -->\n<g id=\"edge15\" class=\"edge\">\n<title>mean_temp&#45;&gt;temp_7</title>\n<path fill=\"none\" stroke=\"black\" d=\"M538.43,-150.34C576.98,-139.98 636.79,-123.58 688.25,-108 692.29,-106.78 696.49,-105.47 700.68,-104.14\"/>\n<polygon fill=\"black\" stroke=\"black\" points=\"701.9,-107.42 710.34,-101.02 699.75,-100.76 701.9,-107.42\"/>\n</g>\n<!-- temp_8 -->\n<g id=\"node18\" class=\"node\">\n<title>temp_8</title>\n<ellipse fill=\"white\" stroke=\"black\" cx=\"844.25\" cy=\"-90\" rx=\"37.89\" ry=\"18\"/>\n<text text-anchor=\"middle\" x=\"844.25\" y=\"-86.3\" font-family=\"Times,serif\" font-size=\"14.00\">temp_8</text>\n</g>\n<!-- mean_temp&#45;&gt;temp_8 -->\n<g id=\"edge17\" class=\"edge\">\n<title>mean_temp&#45;&gt;temp_8</title>\n<path fill=\"none\" stroke=\"black\" d=\"M545.38,-153.97C602.86,-145.02 702.8,-128.27 787.25,-108 792.64,-106.7 798.29,-105.2 803.84,-103.64\"/>\n<polygon fill=\"black\" stroke=\"black\" points=\"805.02,-106.94 813.65,-100.79 803.07,-100.22 805.02,-106.94\"/>\n</g>\n<!-- temp_9 -->\n<g id=\"node20\" class=\"node\">\n<title>temp_9</title>\n<ellipse fill=\"white\" stroke=\"black\" cx=\"959.25\" cy=\"-90\" rx=\"37.89\" ry=\"18\"/>\n<text text-anchor=\"middle\" x=\"959.25\" y=\"-86.3\" font-family=\"Times,serif\" font-size=\"14.00\">temp_9</text>\n</g>\n<!-- mean_temp&#45;&gt;temp_9 -->\n<g id=\"edge19\" class=\"edge\">\n<title>mean_temp&#45;&gt;temp_9</title>\n<path fill=\"none\" stroke=\"black\" d=\"M548.16,-156.06C623.08,-148.25 768.86,-131.47 891.25,-108 899.75,-106.37 908.78,-104.33 917.39,-102.24\"/>\n<polygon fill=\"black\" stroke=\"black\" points=\"918.39,-105.6 927.24,-99.78 916.69,-98.81 918.39,-105.6\"/>\n</g>\n<!-- sensor_0 -->\n<g id=\"node3\" class=\"node\">\n<title>sensor_0</title>\n<ellipse fill=\"gray\" stroke=\"black\" cx=\"42.25\" cy=\"-18\" rx=\"42.49\" ry=\"18\"/>\n<text text-anchor=\"middle\" x=\"42.25\" y=\"-14.3\" font-family=\"Times,serif\" font-size=\"14.00\">sensor_0</text>\n</g>\n<!-- temp_0&#45;&gt;sensor_0 -->\n<g id=\"edge2\" class=\"edge\">\n<title>temp_0&#45;&gt;sensor_0</title>\n<path fill=\"none\" stroke=\"black\" d=\"M45.26,-71.7C44.82,-63.98 44.29,-54.71 43.8,-46.11\"/>\n<polygon fill=\"black\" stroke=\"black\" points=\"47.29,-45.89 43.22,-36.1 40.3,-46.29 47.29,-45.89\"/>\n</g>\n<!-- sensor_1 -->\n<g id=\"node5\" class=\"node\">\n<title>sensor_1</title>\n<ellipse fill=\"gray\" stroke=\"black\" cx=\"144.25\" cy=\"-18\" rx=\"42.49\" ry=\"18\"/>\n<text text-anchor=\"middle\" x=\"144.25\" y=\"-14.3\" font-family=\"Times,serif\" font-size=\"14.00\">sensor_1</text>\n</g>\n<!-- temp_1&#45;&gt;sensor_1 -->\n<g id=\"edge4\" class=\"edge\">\n<title>temp_1&#45;&gt;sensor_1</title>\n<path fill=\"none\" stroke=\"black\" d=\"M147.26,-71.7C146.82,-63.98 146.29,-54.71 145.8,-46.11\"/>\n<polygon fill=\"black\" stroke=\"black\" points=\"149.29,-45.89 145.22,-36.1 142.3,-46.29 149.29,-45.89\"/>\n</g>\n<!-- sensor_2 -->\n<g id=\"node7\" class=\"node\">\n<title>sensor_2</title>\n<ellipse fill=\"gray\" stroke=\"black\" cx=\"246.25\" cy=\"-18\" rx=\"42.49\" ry=\"18\"/>\n<text text-anchor=\"middle\" x=\"246.25\" y=\"-14.3\" font-family=\"Times,serif\" font-size=\"14.00\">sensor_2</text>\n</g>\n<!-- temp_2&#45;&gt;sensor_2 -->\n<g id=\"edge6\" class=\"edge\">\n<title>temp_2&#45;&gt;sensor_2</title>\n<path fill=\"none\" stroke=\"black\" d=\"M249.26,-71.7C248.82,-63.98 248.29,-54.71 247.8,-46.11\"/>\n<polygon fill=\"black\" stroke=\"black\" points=\"251.29,-45.89 247.22,-36.1 244.3,-46.29 251.29,-45.89\"/>\n</g>\n<!-- sensor_3 -->\n<g id=\"node9\" class=\"node\">\n<title>sensor_3</title>\n<ellipse fill=\"gray\" stroke=\"black\" cx=\"348.25\" cy=\"-18\" rx=\"42.49\" ry=\"18\"/>\n<text text-anchor=\"middle\" x=\"348.25\" y=\"-14.3\" font-family=\"Times,serif\" font-size=\"14.00\">sensor_3</text>\n</g>\n<!-- temp_3&#45;&gt;sensor_3 -->\n<g id=\"edge8\" class=\"edge\">\n<title>temp_3&#45;&gt;sensor_3</title>\n<path fill=\"none\" stroke=\"black\" d=\"M351.26,-71.7C350.82,-63.98 350.29,-54.71 349.8,-46.11\"/>\n<polygon fill=\"black\" stroke=\"black\" points=\"353.29,-45.89 349.22,-36.1 346.3,-46.29 353.29,-45.89\"/>\n</g>\n<!-- sensor_4 -->\n<g id=\"node11\" class=\"node\">\n<title>sensor_4</title>\n<ellipse fill=\"gray\" stroke=\"black\" cx=\"450.25\" cy=\"-18\" rx=\"42.49\" ry=\"18\"/>\n<text text-anchor=\"middle\" x=\"450.25\" y=\"-14.3\" font-family=\"Times,serif\" font-size=\"14.00\">sensor_4</text>\n</g>\n<!-- temp_4&#45;&gt;sensor_4 -->\n<g id=\"edge10\" class=\"edge\">\n<title>temp_4&#45;&gt;sensor_4</title>\n<path fill=\"none\" stroke=\"black\" d=\"M451,-71.7C450.89,-63.98 450.76,-54.71 450.63,-46.11\"/>\n<polygon fill=\"black\" stroke=\"black\" points=\"454.13,-46.05 450.49,-36.1 447.13,-46.15 454.13,-46.05\"/>\n</g>\n<!-- sensor_5 -->\n<g id=\"node13\" class=\"node\">\n<title>sensor_5</title>\n<ellipse fill=\"gray\" stroke=\"black\" cx=\"552.25\" cy=\"-18\" rx=\"42.49\" ry=\"18\"/>\n<text text-anchor=\"middle\" x=\"552.25\" y=\"-14.3\" font-family=\"Times,serif\" font-size=\"14.00\">sensor_5</text>\n</g>\n<!-- temp_5&#45;&gt;sensor_5 -->\n<g id=\"edge12\" class=\"edge\">\n<title>temp_5&#45;&gt;sensor_5</title>\n<path fill=\"none\" stroke=\"black\" d=\"M546.98,-71.7C547.75,-63.98 548.68,-54.71 549.54,-46.11\"/>\n<polygon fill=\"black\" stroke=\"black\" points=\"553.02,-46.4 550.54,-36.1 546.06,-45.71 553.02,-46.4\"/>\n</g>\n<!-- sensor_6 -->\n<g id=\"node15\" class=\"node\">\n<title>sensor_6</title>\n<ellipse fill=\"gray\" stroke=\"black\" cx=\"654.25\" cy=\"-18\" rx=\"42.49\" ry=\"18\"/>\n<text text-anchor=\"middle\" x=\"654.25\" y=\"-14.3\" font-family=\"Times,serif\" font-size=\"14.00\">sensor_6</text>\n</g>\n<!-- temp_6&#45;&gt;sensor_6 -->\n<g id=\"edge14\" class=\"edge\">\n<title>temp_6&#45;&gt;sensor_6</title>\n<path fill=\"none\" stroke=\"black\" d=\"M644.39,-72.05C645.82,-64.35 647.56,-55.03 649.16,-46.36\"/>\n<polygon fill=\"black\" stroke=\"black\" points=\"652.65,-46.75 651.04,-36.28 645.77,-45.47 652.65,-46.75\"/>\n</g>\n<!-- sensor_7 -->\n<g id=\"node17\" class=\"node\">\n<title>sensor_7</title>\n<ellipse fill=\"gray\" stroke=\"black\" cx=\"756.25\" cy=\"-18\" rx=\"42.49\" ry=\"18\"/>\n<text text-anchor=\"middle\" x=\"756.25\" y=\"-14.3\" font-family=\"Times,serif\" font-size=\"14.00\">sensor_7</text>\n</g>\n<!-- temp_7&#45;&gt;sensor_7 -->\n<g id=\"edge16\" class=\"edge\">\n<title>temp_7&#45;&gt;sensor_7</title>\n<path fill=\"none\" stroke=\"black\" d=\"M744.12,-72.05C745.9,-64.26 748.06,-54.82 750.06,-46.08\"/>\n<polygon fill=\"black\" stroke=\"black\" points=\"753.48,-46.8 752.3,-36.28 746.66,-45.24 753.48,-46.8\"/>\n</g>\n<!-- sensor_8 -->\n<g id=\"node19\" class=\"node\">\n<title>sensor_8</title>\n<ellipse fill=\"gray\" stroke=\"black\" cx=\"858.25\" cy=\"-18\" rx=\"42.49\" ry=\"18\"/>\n<text text-anchor=\"middle\" x=\"858.25\" y=\"-14.3\" font-family=\"Times,serif\" font-size=\"14.00\">sensor_8</text>\n</g>\n<!-- temp_8&#45;&gt;sensor_8 -->\n<g id=\"edge18\" class=\"edge\">\n<title>temp_8&#45;&gt;sensor_8</title>\n<path fill=\"none\" stroke=\"black\" d=\"M847.64,-72.05C849.18,-64.35 851.04,-55.03 852.77,-46.36\"/>\n<polygon fill=\"black\" stroke=\"black\" points=\"856.26,-46.77 854.79,-36.28 849.4,-45.39 856.26,-46.77\"/>\n</g>\n<!-- sensor_9 -->\n<g id=\"node21\" class=\"node\">\n<title>sensor_9</title>\n<ellipse fill=\"gray\" stroke=\"black\" cx=\"960.25\" cy=\"-18\" rx=\"42.49\" ry=\"18\"/>\n<text text-anchor=\"middle\" x=\"960.25\" y=\"-14.3\" font-family=\"Times,serif\" font-size=\"14.00\">sensor_9</text>\n</g>\n<!-- temp_9&#45;&gt;sensor_9 -->\n<g id=\"edge20\" class=\"edge\">\n<title>temp_9&#45;&gt;sensor_9</title>\n<path fill=\"none\" stroke=\"black\" d=\"M959.49,-71.7C959.6,-63.98 959.74,-54.71 959.86,-46.11\"/>\n<polygon fill=\"black\" stroke=\"black\" points=\"963.36,-46.15 960,-36.1 956.36,-46.05 963.36,-46.15\"/>\n</g>\n</g>\n</svg>\n",
            "text/plain": [
              "<graphviz.graphs.Digraph at 0x7f6106f4b160>"
            ]
          },
          "metadata": {},
          "execution_count": 26
        }
      ],
      "source": [
        "#Visualize the model\n",
        "pyro.render_model(model, model_args=(obs, ))"
      ]
    },
    {
      "cell_type": "markdown",
      "metadata": {
        "id": "jJfVNZFBL-0y"
      },
      "source": [
        "---\n",
        "<img src=\"https://github.com/PGM-Lab/probai-2021-pyro/blob/main/Day1/Figures/blue.png?raw=1\" alt=\"Drawing\" width=2000 height=20>\n",
        "\n",
        "We perform inference over this model:\n",
        "\n",
        " $$ p(\\mu_t | s_1,\\ldots, s_n)=\\frac{p(\\mu_t)\\prod_{i=1}^n \\int p(s_i|t_i)p(t_i|\\mu_t)dt_i }{\\int \\prod_{i=1}^n p(s_i|\\mu_t)p(\\mu_t) d\\mu} $$\n"
      ]
    },
    {
      "cell_type": "code",
      "execution_count": null,
      "metadata": {
        "colab": {
          "base_uri": "https://localhost:8080/"
        },
        "id": "W0YiqM36L-0z",
        "outputId": "1c49a807-29b5-4d8c-e2d4-c6aa98524618",
        "tags": []
      },
      "outputs": [
        {
          "output_type": "stream",
          "name": "stdout",
          "text": [
            "Step: 0. ELBO: -2015.5953212976456\n",
            "Step: 100. ELBO: -286.3637079000473\n",
            "Step: 200. ELBO: -57.629184663295746\n",
            "Step: 300. ELBO: -25.598895251750946\n",
            "Step: 400. ELBO: -23.29996982216835\n",
            "P(mean_temp|Sensor=[18., 18.7, 19.2, 17.8, 20.3, 22.4, 20.3, 21.2, 19.5, 20.1]) =\n",
            "Normal(loc: 19.180583953857422, scale: 0.6147986650466919)\n",
            "\n",
            "10.3364098072052 seconds\n"
          ]
        }
      ],
      "source": [
        "import time\n",
        "        \n",
        "#Run inference\n",
        "start = time.time()\n",
        "svi(model, obs)\n",
        "\n",
        "#Print results\n",
        "print(\"P(mean_temp|Sensor=[18., 18.7, 19.2, 17.8, 20.3, 22.4, 20.3, 21.2, 19.5, 20.1]) =\")\n",
        "print(dist.Normal(pyro.param(\"AutoNormal.locs.mean_temp\").item(), pyro.param(\"AutoNormal.scales.mean_temp\").item()))\n",
        "print(\"\")\n",
        "end = time.time()\n",
        "print(f\"{(end - start)} seconds\")"
      ]
    },
    {
      "cell_type": "markdown",
      "metadata": {
        "id": "YFKoGLcnL-0z"
      },
      "source": [
        "---\n",
        "* Observe that the result of the learning is **not a point estimate**.\n",
        "\n",
        "* We have a **posterior distribution** which captures **uncertainty** about the estimation.\n",
        "\n",
        "---"
      ]
    },
    {
      "cell_type": "code",
      "execution_count": null,
      "metadata": {
        "colab": {
          "base_uri": "https://localhost:8080/",
          "height": 430
        },
        "id": "ES_yHXNKL-0z",
        "outputId": "e81f65cd-1fe5-4d4b-95a7-4f8c820d0442",
        "tags": []
      },
      "outputs": [
        {
          "output_type": "display_data",
          "data": {
            "text/plain": [
              "<Figure size 640x480 with 1 Axes>"
            ],
            "image/png": "[encoded data removed]"
          },
          "metadata": {}
        }
      ],
      "source": [
        "import numpy as np\n",
        "import scipy.stats as stats\n",
        "\n",
        "mu = pyro.param(\"AutoNormal.locs.mean_temp\").item()\n",
        "scale = pyro.param(\"AutoNormal.scales.mean_temp\").item()\n",
        "x = np.linspace(mu - 3*scale, mu + 3*scale, 100)\n",
        "plt.plot(x, stats.norm.pdf(x, mu, scale), label='Posterior over $\\mu$')\n",
        "point = mle_mean_temp # Previously calculated above\n",
        "plt.plot([point, point],[0., 1.], label='MLE point estimate of $\\mu$')\n",
        "plt.legend()\n",
        "plt.show()"
      ]
    },
    {
      "cell_type": "markdown",
      "metadata": {
        "id": "1SXUdMtUL-00"
      },
      "source": [
        "<img src=\"https://github.com/PGM-Lab/probai-2021-pyro/blob/main/Day1/Figures/blue.png?raw=1\" alt=\"Drawing\" width=2000 height=20>\n",
        "\n",
        "\n",
        "### 3.3 The use of ``plate`` construct\n",
        "\n",
        "Pyro can exploit **conditional independencies and vectorization** to make inference much faster. \n",
        "\n",
        "* This can be done with the construct **``plate``**. \n",
        "\n",
        "* With this construct, we can indicate that the variables $s_i$ and $t_i$ are **conditionally indepdendent** from another variables $s_j$ and $t_j$ given $\\mu_t$. \n",
        "\n",
        "<center>\n",
        "<img src=\"https://github.com/PGM-Lab/probai-2021-pyro/blob/main/Day1/Figures/PGM-Tem-Sensor2.png?raw=1\" alt=\"Drawing\" width=\"200\">\n",
        "</center>\n"
      ]
    },
    {
      "cell_type": "code",
      "execution_count": null,
      "metadata": {
        "id": "4LlQKqp4L-00",
        "tags": []
      },
      "outputs": [],
      "source": [
        "#The observatons   \n",
        "obs = {'sensor': torch.tensor([18., 18.7, 19.2, 17.8, 20.3, 22.4, 20.3, 21.2, 19.5, 20.1])}\n",
        "\n",
        "def model(obs):\n",
        "    mean_temp = pyro.sample('mean_temp', dist.Normal(15.0, 2.0))\n",
        "    with pyro.plate('N='+str(obs['sensor'].shape[0]), obs['sensor'].shape[0]):\n",
        "        temp = pyro.sample('temp', dist.Normal(mean_temp, 2.0))\n",
        "        sensor = pyro.sample('sensor', dist.Normal(temp, 1.0), obs=obs['sensor'])"
      ]
    },
    {
      "cell_type": "code",
      "execution_count": null,
      "metadata": {
        "colab": {
          "base_uri": "https://localhost:8080/",
          "height": 347
        },
        "id": "qpt4TFfm4jRt",
        "outputId": "223aa37d-0574-495d-8ba4-5a0d3a62787a",
        "tags": []
      },
      "outputs": [
        {
          "output_type": "execute_result",
          "data": {
            "image/svg+xml": "<?xml version=\"1.0\" encoding=\"UTF-8\" standalone=\"no\"?>\n<!DOCTYPE svg PUBLIC \"-//W3C//DTD SVG 1.1//EN\"\n \"http://www.w3.org/Graphics/SVG/1.1/DTD/svg11.dtd\">\n<!-- Generated by graphviz version 2.43.0 (0)\n -->\n<!-- Title: %3 Pages: 1 -->\n<svg width=\"270pt\" height=\"244pt\"\n viewBox=\"0.00 0.00 269.65 244.00\" xmlns=\"http://www.w3.org/2000/svg\" xmlns:xlink=\"http://www.w3.org/1999/xlink\">\n<g id=\"graph0\" class=\"graph\" transform=\"scale(1 1) rotate(0) translate(4 240)\">\n<title>%3</title>\n<polygon fill=\"white\" stroke=\"transparent\" points=\"-4,4 -4,-240 265.65,-240 265.65,4 -4,4\"/>\n<g id=\"clust1\" class=\"cluster\">\n<title>cluster_N=10</title>\n<polygon fill=\"none\" stroke=\"black\" points=\"11.65,-8 11.65,-155 93.65,-155 93.65,-8 11.65,-8\"/>\n<text text-anchor=\"middle\" x=\"69.65\" y=\"-15.8\" font-family=\"Times,serif\" font-size=\"14.00\">N=10</text>\n</g>\n<!-- mean_temp -->\n<g id=\"node1\" class=\"node\">\n<title>mean_temp</title>\n<ellipse fill=\"white\" stroke=\"black\" cx=\"52.65\" cy=\"-209.5\" rx=\"52.79\" ry=\"18\"/>\n<text text-anchor=\"middle\" x=\"52.65\" y=\"-205.8\" font-family=\"Times,serif\" font-size=\"14.00\">mean_temp</text>\n</g>\n<!-- temp -->\n<g id=\"node2\" class=\"node\">\n<title>temp</title>\n<ellipse fill=\"white\" stroke=\"black\" cx=\"52.65\" cy=\"-129\" rx=\"28.7\" ry=\"18\"/>\n<text text-anchor=\"middle\" x=\"52.65\" y=\"-125.3\" font-family=\"Times,serif\" font-size=\"14.00\">temp</text>\n</g>\n<!-- mean_temp&#45;&gt;temp -->\n<g id=\"edge1\" class=\"edge\">\n<title>mean_temp&#45;&gt;temp</title>\n<path fill=\"none\" stroke=\"black\" d=\"M52.65,-191.47C52.65,-181.49 52.65,-168.65 52.65,-157.3\"/>\n<polygon fill=\"black\" stroke=\"black\" points=\"56.15,-157 52.65,-147 49.15,-157 56.15,-157\"/>\n</g>\n<!-- sensor -->\n<g id=\"node3\" class=\"node\">\n<title>sensor</title>\n<ellipse fill=\"gray\" stroke=\"black\" cx=\"52.65\" cy=\"-57\" rx=\"33.29\" ry=\"18\"/>\n<text text-anchor=\"middle\" x=\"52.65\" y=\"-53.3\" font-family=\"Times,serif\" font-size=\"14.00\">sensor</text>\n</g>\n<!-- temp&#45;&gt;sensor -->\n<g id=\"edge2\" class=\"edge\">\n<title>temp&#45;&gt;sensor</title>\n<path fill=\"none\" stroke=\"black\" d=\"M52.65,-110.7C52.65,-102.98 52.65,-93.71 52.65,-85.11\"/>\n<polygon fill=\"black\" stroke=\"black\" points=\"56.15,-85.1 52.65,-75.1 49.15,-85.1 56.15,-85.1\"/>\n</g>\n<!-- distribution_description_node -->\n<g id=\"node4\" class=\"node\">\n<title>distribution_description_node</title>\n<text text-anchor=\"start\" x=\"131.65\" y=\"-220.8\" font-family=\"Times,serif\" font-size=\"14.00\">mean_temp ~ Normal</text>\n<text text-anchor=\"start\" x=\"131.65\" y=\"-205.8\" font-family=\"Times,serif\" font-size=\"14.00\">temp ~ Normal</text>\n<text text-anchor=\"start\" x=\"131.65\" y=\"-190.8\" font-family=\"Times,serif\" font-size=\"14.00\">sensor ~ Normal</text>\n</g>\n</g>\n</svg>\n",
            "text/plain": [
              "<graphviz.graphs.Digraph at 0x7f60fe75b790>"
            ]
          },
          "metadata": {},
          "execution_count": 30
        }
      ],
      "source": [
        "#Visualize the model\n",
        "pyro.render_model(model, model_args=(obs, ), render_distributions=True)"
      ]
    },
    {
      "cell_type": "markdown",
      "metadata": {
        "id": "yAh8vLjLL-00"
      },
      "source": [
        "The ``plate`` construct reflects the standard notational use in graphical models denoting the **repetition of some parts of of the graph**. \n",
        "\n",
        "We can here make a distinction between **local** and **global** random variables: \n",
        "\n",
        "* **Local random variables** caputure **specific information** about the $i$-th data sample (i.e. the real temperature at this moment in time).\n",
        "\n",
        "* **Global random variables** capture **common information** about all the data samples (i.e. the average temperature of all data samples). \n",
        "\n",
        "\n",
        "<img src=\"https://github.com/PGM-Lab/probai-2021-pyro/blob/main/Day1/Figures/blue.png?raw=1\" alt=\"Drawing\" width=2000 height=20>\n",
        "\n",
        "\n",
        "Observe how inference in this model is much **faster**. "
      ]
    },
    {
      "cell_type": "code",
      "execution_count": null,
      "metadata": {
        "colab": {
          "base_uri": "https://localhost:8080/"
        },
        "id": "ASYtP3j0L-01",
        "outputId": "537dd372-f324-4c40-f27d-59bcba4138be",
        "tags": []
      },
      "outputs": [
        {
          "output_type": "stream",
          "name": "stdout",
          "text": [
            "Step: 0. ELBO: -2015.5951830148697\n",
            "Step: 100. ELBO: -286.36370027065277\n",
            "Step: 200. ELBO: -57.62918245792389\n",
            "Step: 300. ELBO: -25.59889566898346\n",
            "Step: 400. ELBO: -23.29996994137764\n",
            "P(mean_temp|Sensor=[18., 18.7, 19.2, 17.8, 20.3, 22.4, 20.3, 21.2, 19.5, 20.1]) =\n",
            "Normal(loc: 19.180583953857422, scale: 0.6147986650466919)\n",
            "\n",
            "2.3698222637176514 seconds\n"
          ]
        }
      ],
      "source": [
        "#Run inference\n",
        "start = time.time()\n",
        "svi(model, obs)\n",
        "\n",
        "#Print results\n",
        "print(\"P(mean_temp|Sensor=[18., 18.7, 19.2, 17.8, 20.3, 22.4, 20.3, 21.2, 19.5, 20.1]) =\")\n",
        "print(dist.Normal(pyro.param(\"AutoNormal.locs.mean_temp\").item(), pyro.param(\"AutoNormal.scales.mean_temp\").item()))\n",
        "print(\"\")\n",
        "end = time.time()\n",
        "print(f\"{(end - start)} seconds\")"
      ]
    },
    {
      "cell_type": "markdown",
      "metadata": {
        "id": "dUDwSWFsL-01"
      },
      "source": [
        "\n",
        "<img src=\"https://github.com/PGM-Lab/probai-2021-pyro/blob/main/Day1/Figures/blue.png?raw=1\" alt=\"Drawing\" width=2000 height=20>\n",
        "\n",
        "\n",
        "### **<span style=\"color:red\">Exercise 1: </span>The role of *prior distributions* in learning**\n",
        "\n",
        "In this exercise we just want to illustrate how the output of learning depends of the particular prior we introduce in the model. Play with different options and extract conclusions:\n",
        "\n",
        "1. What happens if we change the mean of the prior?\n",
        "2. What happens if we change the scale of the prior?\n",
        "3. What happens to the posterior if the number of data samples deacreases and increases?"
      ]
    },
    {
      "cell_type": "code",
      "execution_count": null,
      "metadata": {
        "colab": {
          "base_uri": "https://localhost:8080/",
          "height": 552
        },
        "id": "5OWLg5tvL-01",
        "outputId": "5d767719-bea2-4698-db61-39baa70a1007",
        "tags": []
      },
      "outputs": [
        {
          "output_type": "stream",
          "name": "stdout",
          "text": [
            "Step: 0. ELBO: -1630.7117037131788\n",
            "Step: 100. ELBO: -236.97139687949675\n",
            "Step: 200. ELBO: -50.4374669294155\n",
            "Step: 300. ELBO: -23.83190746459251\n",
            "Step: 400. ELBO: -22.20083717835101\n",
            "P(Temperature|Sensor=18.0) = \n",
            "Normal(loc: 17.34322166442871, scale: 0.6157534122467041)\n"
          ]
        },
        {
          "output_type": "display_data",
          "data": {
            "text/plain": [
              "<Figure size 640x480 with 1 Axes>"
            ],
            "image/png": "[encoded data removed]"
          },
          "metadata": {}
        }
      ],
      "source": [
        "#The observatons   \n",
        "sample_size = 10\n",
        "obs = {'sensor': torch.tensor(np.random.normal(18,2,sample_size))}\n",
        "\n",
        "def model(obs):\n",
        "    mean_temp = pyro.sample('mean_temp', dist.Normal(15.0, 2.0))\n",
        "    with pyro.plate('N='+str(obs['sensor'].shape[0]), obs['sensor'].shape[0]):\n",
        "        temp = pyro.sample('temp', dist.Normal(mean_temp, 2.0))\n",
        "        sensor = pyro.sample('sensor', dist.Normal(temp, 1.0), obs=obs['sensor'])\n",
        "\n",
        "#Run inference\n",
        "svi(model, obs)\n",
        "\n",
        "#Print results\n",
        "print(\"P(Temperature|Sensor=18.0) = \")\n",
        "print(dist.Normal(pyro.param(\"AutoNormal.locs.mean_temp\").item(), pyro.param(\"AutoNormal.scales.mean_temp\").item()))\n",
        "\n",
        "x = np.linspace(16, 20, 100)\n",
        "plt.plot(x, stats.norm.pdf(x, pyro.param(\"AutoNormal.locs.mean_temp\").item(), pyro.param(\"AutoNormal.scales.mean_temp\").item()), label='Posterior')\n",
        "point = 18\n",
        "plt.plot([point, point],[0., 1.], label='Point Estimate')\n",
        "plt.xlim(16,20)\n",
        "plt.legend()\n",
        "plt.show()\n"
      ]
    },
    {
      "cell_type": "markdown",
      "metadata": {
        "id": "uf7kVC-hL-03"
      },
      "source": [
        "<img src=\"https://github.com/PGM-Lab/probai-2021-pyro/blob/main/Day1/Figures/blue.png?raw=1\" alt=\"Drawing\" width=2000 height=20>\n",
        "\n",
        "\n",
        "# **4.  Icecream Shop**\n",
        "\n",
        "\n",
        "We have an ice-cream shop and assume thaat we **record the ice-cream sales and the average temperature of the day** (using a temperature sensor).\n",
        "\n",
        "* We know that **temperature affects the sales** of ice-creams.\n",
        "\n",
        "* We want to **model** how temperature affects ice-cream sales.\n",
        "\n",
        "<center>\n",
        "<img src=\"https://github.com/PGM-Lab/probai-2021-pyro/raw/main/Day1/Figures/Ice-cream_shop_-_Florida.jpg\" alt=\"Drawing\" width=300 >\n",
        "</center>\n",
        "\n"
      ]
    },
    {
      "cell_type": "markdown",
      "metadata": {
        "id": "uv2fWAHxDRxO"
      },
      "source": [
        "<img src=\"https://github.com/PGM-Lab/probai-2021-pyro/blob/main/Day1/Figures/blue.png?raw=1\" alt=\"Drawing\" width=2000 height=20>\n",
        "\n",
        "* We have **observations** from temperature and sales.\n",
        "\n",
        "* Sales are modeled with a **Poisson** distribution:\n",
        "\n",
        ">- The rate of the Poisson distribution **linearly depends of the real temperature**.\n",
        "\n",
        "The figure below provides a graphical and probabilistic description of the model:\n",
        "<center>\n",
        "<img src=\"https://github.com/PGM-Lab/probai-2021-pyro/blob/main/Day1/Figures/Ice-Cream-Shop-Model.png?raw=1\" alt=\"Drawing\" width=700>\n",
        "</center>\n",
        "\n"
      ]
    },
    {
      "cell_type": "code",
      "execution_count": null,
      "metadata": {
        "colab": {
          "base_uri": "https://localhost:8080/",
          "height": 407
        },
        "id": "HR8bu27OL-03",
        "outputId": "45e6f0d4-9a17-4d56-c079-3969df07dc53",
        "tags": []
      },
      "outputs": [
        {
          "output_type": "execute_result",
          "data": {
            "image/svg+xml": "<?xml version=\"1.0\" encoding=\"UTF-8\" standalone=\"no\"?>\n<!DOCTYPE svg PUBLIC \"-//W3C//DTD SVG 1.1//EN\"\n \"http://www.w3.org/Graphics/SVG/1.1/DTD/svg11.dtd\">\n<!-- Generated by graphviz version 2.43.0 (0)\n -->\n<!-- Title: %3 Pages: 1 -->\n<svg width=\"312pt\" height=\"289pt\"\n viewBox=\"0.00 0.00 312.00 289.00\" xmlns=\"http://www.w3.org/2000/svg\" xmlns:xlink=\"http://www.w3.org/1999/xlink\">\n<g id=\"graph0\" class=\"graph\" transform=\"scale(1 1) rotate(0) translate(4 285)\">\n<title>%3</title>\n<polygon fill=\"white\" stroke=\"transparent\" points=\"-4,4 -4,-285 308,-285 308,4 -4,4\"/>\n<g id=\"clust1\" class=\"cluster\">\n<title>cluster_N=10</title>\n<polygon fill=\"none\" stroke=\"black\" points=\"8,-8 8,-155 164,-155 164,-8 8,-8\"/>\n<text text-anchor=\"middle\" x=\"140\" y=\"-15.8\" font-family=\"Times,serif\" font-size=\"14.00\">N=10</text>\n</g>\n<!-- mean_temp -->\n<g id=\"node1\" class=\"node\">\n<title>mean_temp</title>\n<ellipse fill=\"white\" stroke=\"black\" cx=\"87\" cy=\"-232\" rx=\"52.79\" ry=\"18\"/>\n<text text-anchor=\"middle\" x=\"87\" y=\"-228.3\" font-family=\"Times,serif\" font-size=\"14.00\">mean_temp</text>\n</g>\n<!-- temp -->\n<g id=\"node4\" class=\"node\">\n<title>temp</title>\n<ellipse fill=\"white\" stroke=\"black\" cx=\"87\" cy=\"-129\" rx=\"28.7\" ry=\"18\"/>\n<text text-anchor=\"middle\" x=\"87\" y=\"-125.3\" font-family=\"Times,serif\" font-size=\"14.00\">temp</text>\n</g>\n<!-- mean_temp&#45;&gt;temp -->\n<g id=\"edge1\" class=\"edge\">\n<title>mean_temp&#45;&gt;temp</title>\n<path fill=\"none\" stroke=\"black\" d=\"M87,-213.87C87,-198.41 87,-175.42 87,-157.41\"/>\n<polygon fill=\"black\" stroke=\"black\" points=\"90.5,-157.22 87,-147.22 83.5,-157.22 90.5,-157.22\"/>\n</g>\n<!-- alpha -->\n<g id=\"node2\" class=\"node\">\n<title>alpha</title>\n<ellipse fill=\"white\" stroke=\"black\" cx=\"202\" cy=\"-129\" rx=\"29.8\" ry=\"18\"/>\n<text text-anchor=\"middle\" x=\"202\" y=\"-125.3\" font-family=\"Times,serif\" font-size=\"14.00\">alpha</text>\n</g>\n<!-- sales -->\n<g id=\"node6\" class=\"node\">\n<title>sales</title>\n<ellipse fill=\"gray\" stroke=\"black\" cx=\"128\" cy=\"-57\" rx=\"27.9\" ry=\"18\"/>\n<text text-anchor=\"middle\" x=\"128\" y=\"-53.3\" font-family=\"Times,serif\" font-size=\"14.00\">sales</text>\n</g>\n<!-- alpha&#45;&gt;sales -->\n<g id=\"edge4\" class=\"edge\">\n<title>alpha&#45;&gt;sales</title>\n<path fill=\"none\" stroke=\"black\" d=\"M186.67,-113.5C176.18,-103.58 162.11,-90.26 150.37,-79.16\"/>\n<polygon fill=\"black\" stroke=\"black\" points=\"152.73,-76.58 143.06,-72.25 147.92,-81.66 152.73,-76.58\"/>\n</g>\n<!-- beta -->\n<g id=\"node3\" class=\"node\">\n<title>beta</title>\n<ellipse fill=\"white\" stroke=\"black\" cx=\"277\" cy=\"-129\" rx=\"27\" ry=\"18\"/>\n<text text-anchor=\"middle\" x=\"277\" y=\"-125.3\" font-family=\"Times,serif\" font-size=\"14.00\">beta</text>\n</g>\n<!-- beta&#45;&gt;sales -->\n<g id=\"edge3\" class=\"edge\">\n<title>beta&#45;&gt;sales</title>\n<path fill=\"none\" stroke=\"black\" d=\"M255.68,-117.92C250.86,-115.64 245.75,-113.24 241,-111 213.38,-98 181.94,-83.26 159.25,-72.63\"/>\n<polygon fill=\"black\" stroke=\"black\" points=\"160.63,-69.41 150.09,-68.34 157.67,-75.75 160.63,-69.41\"/>\n</g>\n<!-- sensor -->\n<g id=\"node5\" class=\"node\">\n<title>sensor</title>\n<ellipse fill=\"gray\" stroke=\"black\" cx=\"49\" cy=\"-57\" rx=\"33.29\" ry=\"18\"/>\n<text text-anchor=\"middle\" x=\"49\" y=\"-53.3\" font-family=\"Times,serif\" font-size=\"14.00\">sensor</text>\n</g>\n<!-- temp&#45;&gt;sensor -->\n<g id=\"edge2\" class=\"edge\">\n<title>temp&#45;&gt;sensor</title>\n<path fill=\"none\" stroke=\"black\" d=\"M78.19,-111.76C73.65,-103.4 68.01,-93.02 62.9,-83.61\"/>\n<polygon fill=\"black\" stroke=\"black\" points=\"65.88,-81.75 58.03,-74.63 59.72,-85.09 65.88,-81.75\"/>\n</g>\n<!-- temp&#45;&gt;sales -->\n<g id=\"edge5\" class=\"edge\">\n<title>temp&#45;&gt;sales</title>\n<path fill=\"none\" stroke=\"black\" d=\"M96.51,-111.76C101.53,-103.19 107.8,-92.49 113.42,-82.9\"/>\n<polygon fill=\"black\" stroke=\"black\" points=\"116.51,-84.55 118.54,-74.15 110.47,-81.01 116.51,-84.55\"/>\n</g>\n<!-- distribution_description_node -->\n<g id=\"node7\" class=\"node\">\n<title>distribution_description_node</title>\n<text text-anchor=\"start\" x=\"166\" y=\"-265.8\" font-family=\"Times,serif\" font-size=\"14.00\">mean_temp ~ Normal</text>\n<text text-anchor=\"start\" x=\"166\" y=\"-250.8\" font-family=\"Times,serif\" font-size=\"14.00\">alpha ~ Normal</text>\n<text text-anchor=\"start\" x=\"166\" y=\"-235.8\" font-family=\"Times,serif\" font-size=\"14.00\">beta ~ Normal</text>\n<text text-anchor=\"start\" x=\"166\" y=\"-220.8\" font-family=\"Times,serif\" font-size=\"14.00\">temp ~ Normal</text>\n<text text-anchor=\"start\" x=\"166\" y=\"-205.8\" font-family=\"Times,serif\" font-size=\"14.00\">sensor ~ Normal</text>\n<text text-anchor=\"start\" x=\"166\" y=\"-190.8\" font-family=\"Times,serif\" font-size=\"14.00\">sales ~ Poisson</text>\n</g>\n</g>\n</svg>\n",
            "text/plain": [
              "<graphviz.graphs.Digraph at 0x7f60fe75aa70>"
            ]
          },
          "metadata": {},
          "execution_count": 33
        }
      ],
      "source": [
        "#The observatons   \n",
        "obs = {'sensor': torch.tensor([18., 18.7, 19.2, 17.8, 20.3, 22.4, 20.3, 21.2, 19.5, 20.1]),\n",
        "       'sales': torch.tensor([46., 47., 49., 44., 50., 54., 51., 52., 49., 53.])}\n",
        "\n",
        "def model(obs):\n",
        "    mean_temp = pyro.sample('mean_temp', dist.Normal(15.0, 2.0))\n",
        "    alpha = pyro.sample('alpha', dist.Normal(0.0, 100.0))\n",
        "    beta = pyro.sample('beta', dist.Normal(0.0, 100.0))\n",
        "\n",
        "    with pyro.plate('N='+str(obs['sensor'].shape[0]), obs['sensor'].shape[0]):\n",
        "        temp = pyro.sample('temp', dist.Normal(mean_temp, 2.0))\n",
        "        sensor = pyro.sample('sensor', dist.Normal(temp, 1.0), obs=obs['sensor'])\n",
        "        rate = torch.max(torch.tensor(0.001), alpha + beta*temp)\n",
        "        sales = pyro.sample('sales', dist.Poisson(rate), obs=obs['sales'])\n",
        "\n",
        "#Visualize the model\n",
        "pyro.render_model(model, model_args=(obs, ), render_distributions=True)"
      ]
    },
    {
      "cell_type": "markdown",
      "metadata": {
        "id": "gT34C5CpDmPZ"
      },
      "source": [
        "<img src=\"https://github.com/PGM-Lab/probai-2021-pyro/blob/main/Day1/Figures/blue.png?raw=1\" alt=\"Drawing\" width=2000 height=20>\n"
      ]
    },
    {
      "cell_type": "markdown",
      "metadata": {
        "id": "6jqw09FND19b"
      },
      "source": [
        "We again run the **(variational) inference engine** for estimating the posterior distributions.\n",
        "* With PPLs, we only care about modeling, **not about the low-level details** of the machine-learning solver.\n"
      ]
    },
    {
      "cell_type": "code",
      "execution_count": null,
      "metadata": {
        "colab": {
          "base_uri": "https://localhost:8080/",
          "height": 1000
        },
        "id": "gmaOTBYAL-03",
        "outputId": "aeabcd69-ab74-4c2e-ae01-968ec3374049",
        "tags": []
      },
      "outputs": [
        {
          "output_type": "stream",
          "name": "stdout",
          "text": [
            "Step: 0. ELBO: -6918.239556312561\n",
            "Step: 100. ELBO: -1706.8237750530243\n",
            "Step: 200. ELBO: -1406.9381275177002\n",
            "Step: 300. ELBO: -1167.6916592121124\n",
            "Step: 400. ELBO: -969.2326389551163\n",
            "Step: 500. ELBO: -804.8421595096588\n",
            "Step: 600. ELBO: -669.4959982037544\n",
            "Step: 700. ELBO: -560.748676598072\n",
            "Step: 800. ELBO: -474.4860295057297\n",
            "Step: 900. ELBO: -392.10573947429657\n",
            "Step: 1000. ELBO: -340.6572550535202\n",
            "Step: 1100. ELBO: -280.30739521980286\n",
            "Step: 1200. ELBO: -257.10428792238235\n",
            "Step: 1300. ELBO: -207.26774513721466\n",
            "Step: 1400. ELBO: -189.91825646162033\n",
            "Step: 1500. ELBO: -164.52892982959747\n",
            "Step: 1600. ELBO: -154.52784144878387\n",
            "Step: 1700. ELBO: -126.2596897482872\n",
            "Step: 1800. ELBO: -117.71682924032211\n",
            "Step: 1900. ELBO: -112.76166027784348\n",
            "Step: 2000. ELBO: -100.08541929721832\n",
            "Step: 2100. ELBO: -98.10373902320862\n",
            "Step: 2200. ELBO: -92.16434901952744\n",
            "Step: 2300. ELBO: -80.70336270332336\n",
            "Step: 2400. ELBO: -79.52297556400299\n",
            "Step: 2500. ELBO: -71.62711155414581\n",
            "Step: 2600. ELBO: -76.57995223999023\n",
            "Step: 2700. ELBO: -68.35304063558578\n",
            "Step: 2800. ELBO: -70.64064681529999\n",
            "Step: 2900. ELBO: -64.48289877176285\n"
          ]
        },
        {
          "output_type": "display_data",
          "data": {
            "text/plain": [
              "<Figure size 640x480 with 1 Axes>"
            ],
            "image/png": "[encoded data removed]"
          },
          "metadata": {}
        },
        {
          "output_type": "stream",
          "name": "stdout",
          "text": [
            "Posterior temperature mean\n",
            "Normal(loc: 17.972440719604492, scale: 0.5351166725158691)\n",
            "\n",
            "Posterior alpha\n",
            "Normal(loc: 39.841854095458984, scale: 1.1383755207061768)\n",
            "\n",
            "Posterior beta\n",
            "Normal(loc: 0.5334267616271973, scale: 0.12256141752004623)\n"
          ]
        }
      ],
      "source": [
        "#Run inference\n",
        "svi(model, obs, num_steps = 3000, lr = 0.001, plot=True)\n",
        "\n",
        "#Print results    \n",
        "print(\"Posterior temperature mean\")\n",
        "print(dist.Normal(pyro.param(\"AutoNormal.locs.mean_temp\").item(), pyro.param(\"AutoNormal.scales.mean_temp\").item()))\n",
        "print(\"\")\n",
        "print(\"Posterior alpha\")\n",
        "print(dist.Normal(pyro.param(\"AutoNormal.locs.alpha\").item(), pyro.param(\"AutoNormal.scales.alpha\").item()))\n",
        "print(\"\")\n",
        "print(\"Posterior beta\")\n",
        "print(dist.Normal(pyro.param(\"AutoNormal.locs.beta\").item(), pyro.param(\"AutoNormal.scales.beta\").item()))\n"
      ]
    },
    {
      "cell_type": "markdown",
      "metadata": {
        "id": "4ulfx96AL-04"
      },
      "source": [
        "<img src=\"https://github.com/PGM-Lab/probai-2021-pyro/blob/main/Day1/Figures/blue.png?raw=1\" alt=\"Drawing\" width=2000 height=20>\n",
        "\n",
        "\n",
        "### <span style=\"color:red\">Exercise 2: Introduce Humidity in the Icecream shop model </span> \n",
        "* Assume that we also have a bunch of **humidity sensor measurements**.\n",
        "* Assume also that the **sales are also linearly influenced by the humidity**.\n",
        "\n",
        "**Extend the previous model** with information about humidity measurements.\n",
        "\n",
        "The figure provides a graphical and probabilistic specification of the model:\n",
        "<center>\n",
        "<img src=\"https://github.com/PGM-Lab/probai-2021-pyro/blob/main/Day1/Figures/Ice-Cream-Shop-Model-Humidity.png?raw=1\" alt=\"Drawing\" width=900>\n",
        "</center>\n",
        "\n",
        "\n"
      ]
    },
    {
      "cell_type": "code",
      "execution_count": null,
      "metadata": {
        "colab": {
          "base_uri": "https://localhost:8080/",
          "height": 487
        },
        "id": "8UxOUxuTL-04",
        "outputId": "c8a0b4bb-c72f-412e-9002-4ea1267537fe",
        "tags": []
      },
      "outputs": [
        {
          "output_type": "execute_result",
          "data": {
            "image/svg+xml": "<?xml version=\"1.0\" encoding=\"UTF-8\" standalone=\"no\"?>\n<!DOCTYPE svg PUBLIC \"-//W3C//DTD SVG 1.1//EN\"\n \"http://www.w3.org/Graphics/SVG/1.1/DTD/svg11.dtd\">\n<!-- Generated by graphviz version 2.43.0 (0)\n -->\n<!-- Title: %3 Pages: 1 -->\n<svg width=\"563pt\" height=\"349pt\"\n viewBox=\"0.00 0.00 562.90 349.00\" xmlns=\"http://www.w3.org/2000/svg\" xmlns:xlink=\"http://www.w3.org/1999/xlink\">\n<g id=\"graph0\" class=\"graph\" transform=\"scale(1 1) rotate(0) translate(4 345)\">\n<title>%3</title>\n<polygon fill=\"white\" stroke=\"transparent\" points=\"-4,4 -4,-345 558.9,-345 558.9,4 -4,4\"/>\n<g id=\"clust1\" class=\"cluster\">\n<title>cluster_N=10</title>\n<polygon fill=\"none\" stroke=\"black\" points=\"8,-8 8,-155 321,-155 321,-8 8,-8\"/>\n<text text-anchor=\"middle\" x=\"297\" y=\"-15.8\" font-family=\"Times,serif\" font-size=\"14.00\">N=10</text>\n</g>\n<!-- mean_temp -->\n<g id=\"node1\" class=\"node\">\n<title>mean_temp</title>\n<ellipse fill=\"white\" stroke=\"black\" cx=\"69\" cy=\"-262\" rx=\"52.79\" ry=\"18\"/>\n<text text-anchor=\"middle\" x=\"69\" y=\"-258.3\" font-family=\"Times,serif\" font-size=\"14.00\">mean_temp</text>\n</g>\n<!-- temp -->\n<g id=\"node6\" class=\"node\">\n<title>temp</title>\n<ellipse fill=\"white\" stroke=\"black\" cx=\"69\" cy=\"-129\" rx=\"28.7\" ry=\"18\"/>\n<text text-anchor=\"middle\" x=\"69\" y=\"-125.3\" font-family=\"Times,serif\" font-size=\"14.00\">temp</text>\n</g>\n<!-- mean_temp&#45;&gt;temp -->\n<g id=\"edge1\" class=\"edge\">\n<title>mean_temp&#45;&gt;temp</title>\n<path fill=\"none\" stroke=\"black\" d=\"M69,-243.87C69,-221.91 69,-183.54 69,-157.47\"/>\n<polygon fill=\"black\" stroke=\"black\" points=\"72.5,-157.13 69,-147.13 65.5,-157.13 72.5,-157.13\"/>\n</g>\n<!-- mean_humidity -->\n<g id=\"node2\" class=\"node\">\n<title>mean_humidity</title>\n<ellipse fill=\"white\" stroke=\"black\" cx=\"247\" cy=\"-262\" rx=\"66.89\" ry=\"18\"/>\n<text text-anchor=\"middle\" x=\"247\" y=\"-258.3\" font-family=\"Times,serif\" font-size=\"14.00\">mean_humidity</text>\n</g>\n<!-- humidity -->\n<g id=\"node8\" class=\"node\">\n<title>humidity</title>\n<ellipse fill=\"white\" stroke=\"black\" cx=\"247\" cy=\"-129\" rx=\"42.79\" ry=\"18\"/>\n<text text-anchor=\"middle\" x=\"247\" y=\"-125.3\" font-family=\"Times,serif\" font-size=\"14.00\">humidity</text>\n</g>\n<!-- mean_humidity&#45;&gt;humidity -->\n<g id=\"edge3\" class=\"edge\">\n<title>mean_humidity&#45;&gt;humidity</title>\n<path fill=\"none\" stroke=\"black\" d=\"M247,-243.87C247,-221.91 247,-183.54 247,-157.47\"/>\n<polygon fill=\"black\" stroke=\"black\" points=\"250.5,-157.13 247,-147.13 243.5,-157.13 250.5,-157.13\"/>\n</g>\n<!-- alpha -->\n<g id=\"node3\" class=\"node\">\n<title>alpha</title>\n<ellipse fill=\"white\" stroke=\"black\" cx=\"525\" cy=\"-129\" rx=\"29.8\" ry=\"18\"/>\n<text text-anchor=\"middle\" x=\"525\" y=\"-125.3\" font-family=\"Times,serif\" font-size=\"14.00\">alpha</text>\n</g>\n<!-- sales -->\n<g id=\"node10\" class=\"node\">\n<title>sales</title>\n<ellipse fill=\"gray\" stroke=\"black\" cx=\"285\" cy=\"-57\" rx=\"27.9\" ry=\"18\"/>\n<text text-anchor=\"middle\" x=\"285\" y=\"-53.3\" font-family=\"Times,serif\" font-size=\"14.00\">sales</text>\n</g>\n<!-- alpha&#45;&gt;sales -->\n<g id=\"edge6\" class=\"edge\">\n<title>alpha&#45;&gt;sales</title>\n<path fill=\"none\" stroke=\"black\" d=\"M502.14,-117.34C496.89,-115.09 491.3,-112.84 486,-111 429.4,-91.33 361.66,-74.88 321.05,-65.75\"/>\n<polygon fill=\"black\" stroke=\"black\" points=\"321.6,-62.29 311.08,-63.53 320.08,-69.12 321.6,-62.29\"/>\n</g>\n<!-- beta -->\n<g id=\"node4\" class=\"node\">\n<title>beta</title>\n<ellipse fill=\"white\" stroke=\"black\" cx=\"356\" cy=\"-129\" rx=\"27\" ry=\"18\"/>\n<text text-anchor=\"middle\" x=\"356\" y=\"-125.3\" font-family=\"Times,serif\" font-size=\"14.00\">beta</text>\n</g>\n<!-- beta&#45;&gt;sales -->\n<g id=\"edge5\" class=\"edge\">\n<title>beta&#45;&gt;sales</title>\n<path fill=\"none\" stroke=\"black\" d=\"M341.29,-113.5C331.39,-103.73 318.16,-90.69 307.01,-79.7\"/>\n<polygon fill=\"black\" stroke=\"black\" points=\"309.27,-77.01 299.69,-72.49 304.36,-82 309.27,-77.01\"/>\n</g>\n<!-- gamma -->\n<g id=\"node5\" class=\"node\">\n<title>gamma</title>\n<ellipse fill=\"white\" stroke=\"black\" cx=\"439\" cy=\"-129\" rx=\"37.89\" ry=\"18\"/>\n<text text-anchor=\"middle\" x=\"439\" y=\"-125.3\" font-family=\"Times,serif\" font-size=\"14.00\">gamma</text>\n</g>\n<!-- gamma&#45;&gt;sales -->\n<g id=\"edge9\" class=\"edge\">\n<title>gamma&#45;&gt;sales</title>\n<path fill=\"none\" stroke=\"black\" d=\"M412.53,-115.97C385.91,-103.87 344.87,-85.21 316.57,-72.35\"/>\n<polygon fill=\"black\" stroke=\"black\" points=\"317.69,-69.02 307.14,-68.06 314.8,-75.39 317.69,-69.02\"/>\n</g>\n<!-- sensor -->\n<g id=\"node7\" class=\"node\">\n<title>sensor</title>\n<ellipse fill=\"gray\" stroke=\"black\" cx=\"49\" cy=\"-57\" rx=\"33.29\" ry=\"18\"/>\n<text text-anchor=\"middle\" x=\"49\" y=\"-53.3\" font-family=\"Times,serif\" font-size=\"14.00\">sensor</text>\n</g>\n<!-- temp&#45;&gt;sensor -->\n<g id=\"edge2\" class=\"edge\">\n<title>temp&#45;&gt;sensor</title>\n<path fill=\"none\" stroke=\"black\" d=\"M64.16,-111.05C61.93,-103.26 59.23,-93.82 56.74,-85.08\"/>\n<polygon fill=\"black\" stroke=\"black\" points=\"60.05,-83.93 53.94,-75.28 53.32,-85.85 60.05,-83.93\"/>\n</g>\n<!-- temp&#45;&gt;sales -->\n<g id=\"edge8\" class=\"edge\">\n<title>temp&#45;&gt;sales</title>\n<path fill=\"none\" stroke=\"black\" d=\"M95.35,-121.61C130.8,-112.7 195.57,-95.34 249,-75 250.64,-74.37 252.32,-73.71 253.99,-73.01\"/>\n<polygon fill=\"black\" stroke=\"black\" points=\"255.8,-76.04 263.53,-68.8 252.97,-69.63 255.8,-76.04\"/>\n</g>\n<!-- sensor_humidity -->\n<g id=\"node9\" class=\"node\">\n<title>sensor_humidity</title>\n<ellipse fill=\"gray\" stroke=\"black\" cx=\"170\" cy=\"-57\" rx=\"69.59\" ry=\"18\"/>\n<text text-anchor=\"middle\" x=\"170\" y=\"-53.3\" font-family=\"Times,serif\" font-size=\"14.00\">sensor_humidity</text>\n</g>\n<!-- humidity&#45;&gt;sensor_humidity -->\n<g id=\"edge4\" class=\"edge\">\n<title>humidity&#45;&gt;sensor_humidity</title>\n<path fill=\"none\" stroke=\"black\" d=\"M229.91,-112.46C219.83,-103.3 206.88,-91.53 195.6,-81.27\"/>\n<polygon fill=\"black\" stroke=\"black\" points=\"197.87,-78.6 188.11,-74.47 193.16,-83.78 197.87,-78.6\"/>\n</g>\n<!-- humidity&#45;&gt;sales -->\n<g id=\"edge7\" class=\"edge\">\n<title>humidity&#45;&gt;sales</title>\n<path fill=\"none\" stroke=\"black\" d=\"M256.2,-111.05C260.75,-102.68 266.32,-92.4 271.36,-83.13\"/>\n<polygon fill=\"black\" stroke=\"black\" points=\"274.45,-84.77 276.15,-74.31 268.3,-81.43 274.45,-84.77\"/>\n</g>\n<!-- distribution_description_node -->\n<g id=\"node11\" class=\"node\">\n<title>distribution_description_node</title>\n<text text-anchor=\"start\" x=\"340\" y=\"-325.8\" font-family=\"Times,serif\" font-size=\"14.00\">mean_temp ~ Normal</text>\n<text text-anchor=\"start\" x=\"340\" y=\"-310.8\" font-family=\"Times,serif\" font-size=\"14.00\">mean_humidity ~ Normal</text>\n<text text-anchor=\"start\" x=\"340\" y=\"-295.8\" font-family=\"Times,serif\" font-size=\"14.00\">alpha ~ Normal</text>\n<text text-anchor=\"start\" x=\"340\" y=\"-280.8\" font-family=\"Times,serif\" font-size=\"14.00\">beta ~ Normal</text>\n<text text-anchor=\"start\" x=\"340\" y=\"-265.8\" font-family=\"Times,serif\" font-size=\"14.00\">gamma ~ Normal</text>\n<text text-anchor=\"start\" x=\"340\" y=\"-250.8\" font-family=\"Times,serif\" font-size=\"14.00\">temp ~ Normal</text>\n<text text-anchor=\"start\" x=\"340\" y=\"-235.8\" font-family=\"Times,serif\" font-size=\"14.00\">sensor ~ Normal</text>\n<text text-anchor=\"start\" x=\"340\" y=\"-220.8\" font-family=\"Times,serif\" font-size=\"14.00\">humidity ~ Normal</text>\n<text text-anchor=\"start\" x=\"340\" y=\"-205.8\" font-family=\"Times,serif\" font-size=\"14.00\">sensor_humidity ~ Normal</text>\n<text text-anchor=\"start\" x=\"340\" y=\"-190.8\" font-family=\"Times,serif\" font-size=\"14.00\">sales ~ Poisson</text>\n</g>\n</g>\n</svg>\n",
            "text/plain": [
              "<graphviz.graphs.Digraph at 0x7f60fe36fcd0>"
            ]
          },
          "metadata": {},
          "execution_count": 35
        }
      ],
      "source": [
        "#The observatons   \n",
        "obs = {'sensor': torch.tensor([18., 18.7, 19.2, 17.8, 20.3, 22.4, 20.3, 21.2, 19.5, 20.1]),\n",
        "       'sales': torch.tensor([46., 47., 49., 44., 50., 54., 51., 52., 49., 53.]),\n",
        "       'sensor_humidity': torch.tensor([82.8, 87.6, 69.1, 74.2, 80.3, 94.2, 91.2, 92.2, 99.1, 93.2])}\n",
        "\n",
        "\n",
        "def model(obs):\n",
        "    mean_temp = pyro.sample('mean_temp', dist.Normal(15.0, 2.0))\n",
        "    ## Introduce a random variable \"mean_humidity\"\n",
        "    mean_humidity = pyro.sample('mean_humidity', dist.Normal(80.0, 5.0))\n",
        "\n",
        "    alpha = pyro.sample('alpha', dist.Normal(0.0, 100.0))\n",
        "    beta = pyro.sample('beta', dist.Normal(0.0, 100.0))\n",
        "    \n",
        "    ## Introduce a coefficient for the humidity \"gamma\" following a Normal distribution\n",
        "\n",
        "    with pyro.plate('N='+str(obs['sensor'].shape[0]), obs['sensor'].shape[0]):\n",
        "        temp = pyro.sample('temp', dist.Normal(mean_temp, 2.0))\n",
        "        sensor = pyro.sample('sensor', dist.Normal(temp, 1.0), obs=obs['sensor'])\n",
        "        #Add the 'humidity' variable and the 'sensor_humidity' variable. The distributions are Normal with fixed variance, but the mean parameter depends on the previously defined random variables. Look at the graph below for help. \n",
        "\n",
        "\n",
        "        #Add the linear dependency for the rate with respect to temp and humidity (keep torch.max to avoid numerical stability issues)\n",
        "        rate = torch.max(torch.tensor(0.001), alpha + beta*temp + ???)\n",
        "        sales = pyro.sample('sales', dist.Poisson(rate), obs=obs['sales'])\n",
        "\n",
        "#Visualize the model\n",
        "pyro.render_model(model, model_args=(obs, ), render_distributions=True)"
      ]
    },
    {
      "cell_type": "markdown",
      "metadata": {
        "id": "wC7ceQTkHrrg"
      },
      "source": [
        "<img src=\"https://github.com/PGM-Lab/probai-2021-pyro/blob/main/Day1/Figures/blue.png?raw=1\" alt=\"Drawing\" width=2000 height=20>\n",
        "\n",
        "Again, we rely on the **(variational) inference engine** to get the results.\n"
      ]
    },
    {
      "cell_type": "code",
      "execution_count": null,
      "metadata": {
        "colab": {
          "base_uri": "https://localhost:8080/"
        },
        "id": "Du3hyC0j16tM",
        "outputId": "0f60d116-da83-4dd3-ecc7-0fd9dfeb3751",
        "tags": []
      },
      "outputs": [
        {
          "output_type": "stream",
          "name": "stdout",
          "text": [
            "Step: 0. ELBO: -43415.62390649319\n",
            "Step: 100. ELBO: -32385.00171458721\n",
            "Step: 200. ELBO: -26350.05345070362\n",
            "Step: 300. ELBO: -21488.4861702919\n",
            "Step: 400. ELBO: -17607.420937776566\n",
            "Step: 500. ELBO: -14453.095369696617\n",
            "Step: 600. ELBO: -11926.55991435051\n",
            "Step: 700. ELBO: -9850.370500385761\n",
            "Step: 800. ELBO: -8091.017839193344\n",
            "Step: 900. ELBO: -6682.580929279327\n",
            "Step: 1000. ELBO: -5537.713232040405\n",
            "Step: 1100. ELBO: -4582.030882298946\n",
            "Step: 1200. ELBO: -3812.805592775345\n",
            "Step: 1300. ELBO: -3114.99720621109\n",
            "Step: 1400. ELBO: -2678.093121111393\n",
            "Step: 1500. ELBO: -2197.645421206951\n",
            "Step: 1600. ELBO: -1855.6752140522003\n",
            "Step: 1700. ELBO: -1547.314620256424\n",
            "Step: 1800. ELBO: -1284.7616971731186\n",
            "Step: 1900. ELBO: -1079.2135288119316\n",
            "Step: 2000. ELBO: -926.1471571326256\n",
            "Step: 2100. ELBO: -821.3310233354568\n",
            "Step: 2200. ELBO: -681.4237759709358\n",
            "Step: 2300. ELBO: -590.1314925253391\n",
            "Step: 2400. ELBO: -532.2307305335999\n",
            "Step: 2500. ELBO: -449.05110985040665\n",
            "Step: 2600. ELBO: -413.5098383426666\n",
            "Step: 2700. ELBO: -381.91738879680634\n",
            "Step: 2800. ELBO: -334.34186547994614\n",
            "Step: 2900. ELBO: -306.2207071185112\n",
            "Posterior temperature mean\n",
            "Normal(loc: 17.949214935302734, scale: 0.5443748831748962)\n",
            "\n",
            "Posterior Humidity Mean\n",
            "Normal(loc: 79.7042465209961, scale: 0.5321848392486572)\n",
            "\n",
            "Posterior alpha\n",
            "Normal(loc: 36.65719223022461, scale: 1.1258833408355713)\n",
            "\n",
            "Posterior beta\n",
            "Normal(loc: 0.9938434362411499, scale: 0.11436548084020615)\n",
            "\n",
            "Posterior Gamma\n",
            "Normal(loc: -0.08991964906454086, scale: 0.02706865407526493)\n"
          ]
        }
      ],
      "source": [
        "#Run inference\n",
        "svi(model, obs, num_steps=3000, lr=0.001)\n",
        "\n",
        "#Print results    \n",
        "print(\"Posterior temperature mean\")\n",
        "print(dist.Normal(pyro.param(\"AutoNormal.locs.mean_temp\").item(), pyro.param(\"AutoNormal.scales.mean_temp\").item()))\n",
        "print(\"\")\n",
        "print(\"Posterior Humidity Mean\")\n",
        "print(dist.Normal(pyro.param(\"AutoNormal.locs.mean_humidity\").item(), pyro.param(\"AutoNormal.scales.mean_humidity\").item()))\n",
        "print(\"\")\n",
        "print(\"Posterior alpha\")\n",
        "print(dist.Normal(pyro.param(\"AutoNormal.locs.alpha\").item(), pyro.param(\"AutoNormal.scales.alpha\").item()))\n",
        "print(\"\")\n",
        "print(\"Posterior beta\")\n",
        "print(dist.Normal(pyro.param(\"AutoNormal.locs.beta\").item(), pyro.param(\"AutoNormal.scales.beta\").item()))\n",
        "print(\"\")\n",
        "print(\"Posterior Gamma\")\n",
        "print(dist.Normal(pyro.param(\"AutoNormal.locs.gamma\").item(), pyro.param(\"AutoNormal.scales.gamma\").item()))\n"
      ]
    },
    {
      "cell_type": "markdown",
      "metadata": {
        "id": "NCld6GJGL-05"
      },
      "source": [
        "<img src=\"https://github.com/PGM-Lab/probai-2021-pyro/blob/main/Day1/Figures/blue.png?raw=1\" alt=\"Drawing\" width=2000 height=20>\n",
        "\n",
        "# 5.  **Temporal Models**\n",
        "\n",
        "If we believe there is a temporal dependency between the variables, we can also encode this in the model. \n",
        "\n",
        "* E.g. the current **real temperature must be similar to the real temperature in the previous time step**.\n",
        "\n",
        "* This temporal dependency can **be modeled** using a **for-loop** in Pyro\n",
        "\n",
        "Consider the **graphical representation**.\n",
        "\n",
        "\n",
        "<img src=\"https://github.com/PGM-Lab/probai-2021-pyro/raw/main/Day1/Figures/tempmodel-temporal-III.png\" alt=\"Drawing\" style=\"width: 350px;\" >\n",
        "\n"
      ]
    },
    {
      "cell_type": "code",
      "execution_count": null,
      "metadata": {
        "id": "dSzU0cWeL-05",
        "tags": [],
        "colab": {
          "base_uri": "https://localhost:8080/",
          "height": 1000
        },
        "outputId": "d68ae556-f314-4f4c-9c0b-ff849ae59a73"
      },
      "outputs": [
        {
          "output_type": "execute_result",
          "data": {
            "image/svg+xml": "<?xml version=\"1.0\" encoding=\"UTF-8\" standalone=\"no\"?>\n<!DOCTYPE svg PUBLIC \"-//W3C//DTD SVG 1.1//EN\"\n \"http://www.w3.org/Graphics/SVG/1.1/DTD/svg11.dtd\">\n<!-- Generated by graphviz version 2.43.0 (0)\n -->\n<!-- Title: %3 Pages: 1 -->\n<svg width=\"582pt\" height=\"836pt\"\n viewBox=\"0.00 0.00 582.49 836.00\" xmlns=\"http://www.w3.org/2000/svg\" xmlns:xlink=\"http://www.w3.org/1999/xlink\">\n<g id=\"graph0\" class=\"graph\" transform=\"scale(1 1) rotate(0) translate(4 832)\">\n<title>%3</title>\n<polygon fill=\"white\" stroke=\"transparent\" points=\"-4,4 -4,-832 578.49,-832 578.49,4 -4,4\"/>\n<!-- mean_temp -->\n<g id=\"node1\" class=\"node\">\n<title>mean_temp</title>\n<ellipse fill=\"white\" stroke=\"black\" cx=\"91.25\" cy=\"-810\" rx=\"52.79\" ry=\"18\"/>\n<text text-anchor=\"middle\" x=\"91.25\" y=\"-806.3\" font-family=\"Times,serif\" font-size=\"14.00\">mean_temp</text>\n</g>\n<!-- temp_0 -->\n<g id=\"node2\" class=\"node\">\n<title>temp_0</title>\n<ellipse fill=\"white\" stroke=\"black\" cx=\"91.25\" cy=\"-738\" rx=\"37.89\" ry=\"18\"/>\n<text text-anchor=\"middle\" x=\"91.25\" y=\"-734.3\" font-family=\"Times,serif\" font-size=\"14.00\">temp_0</text>\n</g>\n<!-- mean_temp&#45;&gt;temp_0 -->\n<g id=\"edge1\" class=\"edge\">\n<title>mean_temp&#45;&gt;temp_0</title>\n<path fill=\"none\" stroke=\"black\" d=\"M91.25,-791.7C91.25,-783.98 91.25,-774.71 91.25,-766.11\"/>\n<polygon fill=\"black\" stroke=\"black\" points=\"94.75,-766.1 91.25,-756.1 87.75,-766.1 94.75,-766.1\"/>\n</g>\n<!-- sensor_0 -->\n<g id=\"node3\" class=\"node\">\n<title>sensor_0</title>\n<ellipse fill=\"gray\" stroke=\"black\" cx=\"42.25\" cy=\"-666\" rx=\"42.49\" ry=\"18\"/>\n<text text-anchor=\"middle\" x=\"42.25\" y=\"-662.3\" font-family=\"Times,serif\" font-size=\"14.00\">sensor_0</text>\n</g>\n<!-- temp_0&#45;&gt;sensor_0 -->\n<g id=\"edge2\" class=\"edge\">\n<title>temp_0&#45;&gt;sensor_0</title>\n<path fill=\"none\" stroke=\"black\" d=\"M79.88,-720.76C73.91,-712.23 66.45,-701.58 59.76,-692.02\"/>\n<polygon fill=\"black\" stroke=\"black\" points=\"62.49,-689.82 53.89,-683.63 56.76,-693.83 62.49,-689.82\"/>\n</g>\n<!-- temp_1 -->\n<g id=\"node4\" class=\"node\">\n<title>temp_1</title>\n<ellipse fill=\"white\" stroke=\"black\" cx=\"140.25\" cy=\"-666\" rx=\"37.89\" ry=\"18\"/>\n<text text-anchor=\"middle\" x=\"140.25\" y=\"-662.3\" font-family=\"Times,serif\" font-size=\"14.00\">temp_1</text>\n</g>\n<!-- temp_0&#45;&gt;temp_1 -->\n<g id=\"edge3\" class=\"edge\">\n<title>temp_0&#45;&gt;temp_1</title>\n<path fill=\"none\" stroke=\"black\" d=\"M102.61,-720.76C108.59,-712.23 116.04,-701.58 122.73,-692.02\"/>\n<polygon fill=\"black\" stroke=\"black\" points=\"125.74,-693.83 128.6,-683.63 120,-689.82 125.74,-693.83\"/>\n</g>\n<!-- sensor_1 -->\n<g id=\"node5\" class=\"node\">\n<title>sensor_1</title>\n<ellipse fill=\"gray\" stroke=\"black\" cx=\"91.25\" cy=\"-594\" rx=\"42.49\" ry=\"18\"/>\n<text text-anchor=\"middle\" x=\"91.25\" y=\"-590.3\" font-family=\"Times,serif\" font-size=\"14.00\">sensor_1</text>\n</g>\n<!-- temp_1&#45;&gt;sensor_1 -->\n<g id=\"edge4\" class=\"edge\">\n<title>temp_1&#45;&gt;sensor_1</title>\n<path fill=\"none\" stroke=\"black\" d=\"M128.88,-648.76C122.91,-640.23 115.45,-629.58 108.76,-620.02\"/>\n<polygon fill=\"black\" stroke=\"black\" points=\"111.49,-617.82 102.89,-611.63 105.76,-621.83 111.49,-617.82\"/>\n</g>\n<!-- temp_2 -->\n<g id=\"node6\" class=\"node\">\n<title>temp_2</title>\n<ellipse fill=\"white\" stroke=\"black\" cx=\"189.25\" cy=\"-594\" rx=\"37.89\" ry=\"18\"/>\n<text text-anchor=\"middle\" x=\"189.25\" y=\"-590.3\" font-family=\"Times,serif\" font-size=\"14.00\">temp_2</text>\n</g>\n<!-- temp_1&#45;&gt;temp_2 -->\n<g id=\"edge5\" class=\"edge\">\n<title>temp_1&#45;&gt;temp_2</title>\n<path fill=\"none\" stroke=\"black\" d=\"M151.61,-648.76C157.59,-640.23 165.04,-629.58 171.73,-620.02\"/>\n<polygon fill=\"black\" stroke=\"black\" points=\"174.74,-621.83 177.6,-611.63 169,-617.82 174.74,-621.83\"/>\n</g>\n<!-- sensor_2 -->\n<g id=\"node7\" class=\"node\">\n<title>sensor_2</title>\n<ellipse fill=\"gray\" stroke=\"black\" cx=\"140.25\" cy=\"-522\" rx=\"42.49\" ry=\"18\"/>\n<text text-anchor=\"middle\" x=\"140.25\" y=\"-518.3\" font-family=\"Times,serif\" font-size=\"14.00\">sensor_2</text>\n</g>\n<!-- temp_2&#45;&gt;sensor_2 -->\n<g id=\"edge6\" class=\"edge\">\n<title>temp_2&#45;&gt;sensor_2</title>\n<path fill=\"none\" stroke=\"black\" d=\"M177.88,-576.76C171.91,-568.23 164.45,-557.58 157.76,-548.02\"/>\n<polygon fill=\"black\" stroke=\"black\" points=\"160.49,-545.82 151.89,-539.63 154.76,-549.83 160.49,-545.82\"/>\n</g>\n<!-- temp_3 -->\n<g id=\"node8\" class=\"node\">\n<title>temp_3</title>\n<ellipse fill=\"white\" stroke=\"black\" cx=\"238.25\" cy=\"-522\" rx=\"37.89\" ry=\"18\"/>\n<text text-anchor=\"middle\" x=\"238.25\" y=\"-518.3\" font-family=\"Times,serif\" font-size=\"14.00\">temp_3</text>\n</g>\n<!-- temp_2&#45;&gt;temp_3 -->\n<g id=\"edge7\" class=\"edge\">\n<title>temp_2&#45;&gt;temp_3</title>\n<path fill=\"none\" stroke=\"black\" d=\"M200.61,-576.76C206.59,-568.23 214.04,-557.58 220.73,-548.02\"/>\n<polygon fill=\"black\" stroke=\"black\" points=\"223.74,-549.83 226.6,-539.63 218,-545.82 223.74,-549.83\"/>\n</g>\n<!-- sensor_3 -->\n<g id=\"node9\" class=\"node\">\n<title>sensor_3</title>\n<ellipse fill=\"gray\" stroke=\"black\" cx=\"189.25\" cy=\"-450\" rx=\"42.49\" ry=\"18\"/>\n<text text-anchor=\"middle\" x=\"189.25\" y=\"-446.3\" font-family=\"Times,serif\" font-size=\"14.00\">sensor_3</text>\n</g>\n<!-- temp_3&#45;&gt;sensor_3 -->\n<g id=\"edge8\" class=\"edge\">\n<title>temp_3&#45;&gt;sensor_3</title>\n<path fill=\"none\" stroke=\"black\" d=\"M226.88,-504.76C220.91,-496.23 213.45,-485.58 206.76,-476.02\"/>\n<polygon fill=\"black\" stroke=\"black\" points=\"209.49,-473.82 200.89,-467.63 203.76,-477.83 209.49,-473.82\"/>\n</g>\n<!-- temp_4 -->\n<g id=\"node10\" class=\"node\">\n<title>temp_4</title>\n<ellipse fill=\"white\" stroke=\"black\" cx=\"287.25\" cy=\"-450\" rx=\"37.89\" ry=\"18\"/>\n<text text-anchor=\"middle\" x=\"287.25\" y=\"-446.3\" font-family=\"Times,serif\" font-size=\"14.00\">temp_4</text>\n</g>\n<!-- temp_3&#45;&gt;temp_4 -->\n<g id=\"edge9\" class=\"edge\">\n<title>temp_3&#45;&gt;temp_4</title>\n<path fill=\"none\" stroke=\"black\" d=\"M249.61,-504.76C255.59,-496.23 263.04,-485.58 269.73,-476.02\"/>\n<polygon fill=\"black\" stroke=\"black\" points=\"272.74,-477.83 275.6,-467.63 267,-473.82 272.74,-477.83\"/>\n</g>\n<!-- sensor_4 -->\n<g id=\"node11\" class=\"node\">\n<title>sensor_4</title>\n<ellipse fill=\"gray\" stroke=\"black\" cx=\"238.25\" cy=\"-378\" rx=\"42.49\" ry=\"18\"/>\n<text text-anchor=\"middle\" x=\"238.25\" y=\"-374.3\" font-family=\"Times,serif\" font-size=\"14.00\">sensor_4</text>\n</g>\n<!-- temp_4&#45;&gt;sensor_4 -->\n<g id=\"edge10\" class=\"edge\">\n<title>temp_4&#45;&gt;sensor_4</title>\n<path fill=\"none\" stroke=\"black\" d=\"M275.88,-432.76C269.91,-424.23 262.45,-413.58 255.76,-404.02\"/>\n<polygon fill=\"black\" stroke=\"black\" points=\"258.49,-401.82 249.89,-395.63 252.76,-405.83 258.49,-401.82\"/>\n</g>\n<!-- temp_5 -->\n<g id=\"node12\" class=\"node\">\n<title>temp_5</title>\n<ellipse fill=\"white\" stroke=\"black\" cx=\"336.25\" cy=\"-378\" rx=\"37.89\" ry=\"18\"/>\n<text text-anchor=\"middle\" x=\"336.25\" y=\"-374.3\" font-family=\"Times,serif\" font-size=\"14.00\">temp_5</text>\n</g>\n<!-- temp_4&#45;&gt;temp_5 -->\n<g id=\"edge11\" class=\"edge\">\n<title>temp_4&#45;&gt;temp_5</title>\n<path fill=\"none\" stroke=\"black\" d=\"M298.61,-432.76C304.59,-424.23 312.04,-413.58 318.73,-404.02\"/>\n<polygon fill=\"black\" stroke=\"black\" points=\"321.74,-405.83 324.6,-395.63 316,-401.82 321.74,-405.83\"/>\n</g>\n<!-- sensor_5 -->\n<g id=\"node13\" class=\"node\">\n<title>sensor_5</title>\n<ellipse fill=\"gray\" stroke=\"black\" cx=\"287.25\" cy=\"-306\" rx=\"42.49\" ry=\"18\"/>\n<text text-anchor=\"middle\" x=\"287.25\" y=\"-302.3\" font-family=\"Times,serif\" font-size=\"14.00\">sensor_5</text>\n</g>\n<!-- temp_5&#45;&gt;sensor_5 -->\n<g id=\"edge12\" class=\"edge\">\n<title>temp_5&#45;&gt;sensor_5</title>\n<path fill=\"none\" stroke=\"black\" d=\"M324.88,-360.76C318.91,-352.23 311.45,-341.58 304.76,-332.02\"/>\n<polygon fill=\"black\" stroke=\"black\" points=\"307.49,-329.82 298.89,-323.63 301.76,-333.83 307.49,-329.82\"/>\n</g>\n<!-- temp_6 -->\n<g id=\"node14\" class=\"node\">\n<title>temp_6</title>\n<ellipse fill=\"white\" stroke=\"black\" cx=\"385.25\" cy=\"-306\" rx=\"37.89\" ry=\"18\"/>\n<text text-anchor=\"middle\" x=\"385.25\" y=\"-302.3\" font-family=\"Times,serif\" font-size=\"14.00\">temp_6</text>\n</g>\n<!-- temp_5&#45;&gt;temp_6 -->\n<g id=\"edge13\" class=\"edge\">\n<title>temp_5&#45;&gt;temp_6</title>\n<path fill=\"none\" stroke=\"black\" d=\"M347.61,-360.76C353.59,-352.23 361.04,-341.58 367.73,-332.02\"/>\n<polygon fill=\"black\" stroke=\"black\" points=\"370.74,-333.83 373.6,-323.63 365,-329.82 370.74,-333.83\"/>\n</g>\n<!-- sensor_6 -->\n<g id=\"node15\" class=\"node\">\n<title>sensor_6</title>\n<ellipse fill=\"gray\" stroke=\"black\" cx=\"336.25\" cy=\"-234\" rx=\"42.49\" ry=\"18\"/>\n<text text-anchor=\"middle\" x=\"336.25\" y=\"-230.3\" font-family=\"Times,serif\" font-size=\"14.00\">sensor_6</text>\n</g>\n<!-- temp_6&#45;&gt;sensor_6 -->\n<g id=\"edge14\" class=\"edge\">\n<title>temp_6&#45;&gt;sensor_6</title>\n<path fill=\"none\" stroke=\"black\" d=\"M373.88,-288.76C367.91,-280.23 360.45,-269.58 353.76,-260.02\"/>\n<polygon fill=\"black\" stroke=\"black\" points=\"356.49,-257.82 347.89,-251.63 350.76,-261.83 356.49,-257.82\"/>\n</g>\n<!-- temp_7 -->\n<g id=\"node16\" class=\"node\">\n<title>temp_7</title>\n<ellipse fill=\"white\" stroke=\"black\" cx=\"434.25\" cy=\"-234\" rx=\"37.89\" ry=\"18\"/>\n<text text-anchor=\"middle\" x=\"434.25\" y=\"-230.3\" font-family=\"Times,serif\" font-size=\"14.00\">temp_7</text>\n</g>\n<!-- temp_6&#45;&gt;temp_7 -->\n<g id=\"edge15\" class=\"edge\">\n<title>temp_6&#45;&gt;temp_7</title>\n<path fill=\"none\" stroke=\"black\" d=\"M396.61,-288.76C402.59,-280.23 410.04,-269.58 416.73,-260.02\"/>\n<polygon fill=\"black\" stroke=\"black\" points=\"419.74,-261.83 422.6,-251.63 414,-257.82 419.74,-261.83\"/>\n</g>\n<!-- sensor_7 -->\n<g id=\"node17\" class=\"node\">\n<title>sensor_7</title>\n<ellipse fill=\"gray\" stroke=\"black\" cx=\"385.25\" cy=\"-162\" rx=\"42.49\" ry=\"18\"/>\n<text text-anchor=\"middle\" x=\"385.25\" y=\"-158.3\" font-family=\"Times,serif\" font-size=\"14.00\">sensor_7</text>\n</g>\n<!-- temp_7&#45;&gt;sensor_7 -->\n<g id=\"edge16\" class=\"edge\">\n<title>temp_7&#45;&gt;sensor_7</title>\n<path fill=\"none\" stroke=\"black\" d=\"M422.88,-216.76C416.91,-208.23 409.45,-197.58 402.76,-188.02\"/>\n<polygon fill=\"black\" stroke=\"black\" points=\"405.49,-185.82 396.89,-179.63 399.76,-189.83 405.49,-185.82\"/>\n</g>\n<!-- temp_8 -->\n<g id=\"node18\" class=\"node\">\n<title>temp_8</title>\n<ellipse fill=\"white\" stroke=\"black\" cx=\"483.25\" cy=\"-162\" rx=\"37.89\" ry=\"18\"/>\n<text text-anchor=\"middle\" x=\"483.25\" y=\"-158.3\" font-family=\"Times,serif\" font-size=\"14.00\">temp_8</text>\n</g>\n<!-- temp_7&#45;&gt;temp_8 -->\n<g id=\"edge17\" class=\"edge\">\n<title>temp_7&#45;&gt;temp_8</title>\n<path fill=\"none\" stroke=\"black\" d=\"M445.61,-216.76C451.59,-208.23 459.04,-197.58 465.73,-188.02\"/>\n<polygon fill=\"black\" stroke=\"black\" points=\"468.74,-189.83 471.6,-179.63 463,-185.82 468.74,-189.83\"/>\n</g>\n<!-- sensor_8 -->\n<g id=\"node19\" class=\"node\">\n<title>sensor_8</title>\n<ellipse fill=\"gray\" stroke=\"black\" cx=\"434.25\" cy=\"-90\" rx=\"42.49\" ry=\"18\"/>\n<text text-anchor=\"middle\" x=\"434.25\" y=\"-86.3\" font-family=\"Times,serif\" font-size=\"14.00\">sensor_8</text>\n</g>\n<!-- temp_8&#45;&gt;sensor_8 -->\n<g id=\"edge18\" class=\"edge\">\n<title>temp_8&#45;&gt;sensor_8</title>\n<path fill=\"none\" stroke=\"black\" d=\"M471.88,-144.76C465.91,-136.23 458.45,-125.58 451.76,-116.02\"/>\n<polygon fill=\"black\" stroke=\"black\" points=\"454.49,-113.82 445.89,-107.63 448.76,-117.83 454.49,-113.82\"/>\n</g>\n<!-- temp_9 -->\n<g id=\"node20\" class=\"node\">\n<title>temp_9</title>\n<ellipse fill=\"white\" stroke=\"black\" cx=\"532.25\" cy=\"-90\" rx=\"37.89\" ry=\"18\"/>\n<text text-anchor=\"middle\" x=\"532.25\" y=\"-86.3\" font-family=\"Times,serif\" font-size=\"14.00\">temp_9</text>\n</g>\n<!-- temp_8&#45;&gt;temp_9 -->\n<g id=\"edge19\" class=\"edge\">\n<title>temp_8&#45;&gt;temp_9</title>\n<path fill=\"none\" stroke=\"black\" d=\"M494.61,-144.76C500.59,-136.23 508.04,-125.58 514.73,-116.02\"/>\n<polygon fill=\"black\" stroke=\"black\" points=\"517.74,-117.83 520.6,-107.63 512,-113.82 517.74,-117.83\"/>\n</g>\n<!-- sensor_9 -->\n<g id=\"node21\" class=\"node\">\n<title>sensor_9</title>\n<ellipse fill=\"gray\" stroke=\"black\" cx=\"532.25\" cy=\"-18\" rx=\"42.49\" ry=\"18\"/>\n<text text-anchor=\"middle\" x=\"532.25\" y=\"-14.3\" font-family=\"Times,serif\" font-size=\"14.00\">sensor_9</text>\n</g>\n<!-- temp_9&#45;&gt;sensor_9 -->\n<g id=\"edge20\" class=\"edge\">\n<title>temp_9&#45;&gt;sensor_9</title>\n<path fill=\"none\" stroke=\"black\" d=\"M532.25,-71.7C532.25,-63.98 532.25,-54.71 532.25,-46.11\"/>\n<polygon fill=\"black\" stroke=\"black\" points=\"535.75,-46.1 532.25,-36.1 528.75,-46.1 535.75,-46.1\"/>\n</g>\n</g>\n</svg>\n",
            "text/plain": [
              "<graphviz.graphs.Digraph at 0x7f60fe36ee30>"
            ]
          },
          "metadata": {},
          "execution_count": 37
        }
      ],
      "source": [
        "#The observatons   \n",
        "obs = {'sensor': torch.tensor([18., 18.7, 19.2, 17.8, 20.3, 22.4, 20.3, 21.2, 19.5, 20.1])}\n",
        "\n",
        "def model(obs):\n",
        "    mean_temp = pyro.sample('mean_temp', dist.Normal(15.0, 2.0))\n",
        "    for i in range(obs['sensor'].shape[0]):\n",
        "        if i==0:\n",
        "            temp = pyro.sample(f'temp_{i}', dist.Normal(mean_temp, 2.0))\n",
        "        else:\n",
        "            temp = pyro.sample(f'temp_{i}', dist.Normal(prev_temp, 2.0))\n",
        "        sensor = pyro.sample(f'sensor_{i}', dist.Normal(temp, 1.0), obs=obs['sensor'][i])\n",
        "        prev_temp = temp\n",
        "\n",
        "#Visualize the model\n",
        "pyro.render_model(model, model_args=(obs, ))"
      ]
    },
    {
      "cell_type": "markdown",
      "metadata": {
        "id": "EAnXvUqpJCm1"
      },
      "source": [
        "<img src=\"https://github.com/PGM-Lab/probai-2021-pyro/blob/main/Day1/Figures/blue.png?raw=1\" alt=\"Drawing\" width=2000 height=20>\n",
        "\n",
        "Again, we rely on the **(variational) inference engine** to get the results."
      ]
    },
    {
      "cell_type": "code",
      "execution_count": null,
      "metadata": {
        "cellView": "form",
        "id": "7XaW4rKXL-05"
      },
      "outputs": [],
      "source": [
        "#@title\n",
        "#Define the guide\n",
        "def guide(obs):\n",
        "    mean = pyro.param(\"mean\", torch.mean(obs['sensor']))\n",
        "    scale = pyro.param(\"scale\", torch.tensor(1.), constraint=constraints.positive)\n",
        "    mean_temp = pyro.sample('mean_temp', dist.Normal(mean, scale))\n",
        "    for i in range(obs['sensor'].shape[0]):\n",
        "        mean_i = pyro.param(f'mean_{i}', obs['sensor'][i])\n",
        "        scale_i = pyro.param(f'scale_{i}', torch.tensor(1.), constraint=constraints.positive)\n",
        "        temp = pyro.sample(f'temp_{i}', dist.Normal(mean_i, scale_i))"
      ]
    },
    {
      "cell_type": "code",
      "execution_count": null,
      "metadata": {
        "colab": {
          "base_uri": "https://localhost:8080/"
        },
        "id": "MWWVKOZnWccI",
        "outputId": "63c33164-005f-4e55-9dc0-a91ed0dc069d"
      },
      "outputs": [
        {
          "output_type": "stream",
          "name": "stdout",
          "text": [
            "Step: 0. ELBO: -20.270625352859497\n",
            "Step: 100. ELBO: -21.953279733657837\n",
            "Step: 200. ELBO: -20.95933836698532\n",
            "Step: 300. ELBO: -19.39970552921295\n",
            "Step: 400. ELBO: -20.462097346782684\n",
            "Finished\n"
          ]
        }
      ],
      "source": [
        "import time\n",
        "        \n",
        "#Run inference\n",
        "svi(model, obs, guide)\n",
        "\n",
        "smooth_temp=[]\n",
        "for i in range(obs['sensor'].shape[0]):\n",
        "    smooth_temp.append(pyro.param(f'mean_{i}').item())\n",
        "\n",
        "print('Finished')"
      ]
    },
    {
      "cell_type": "markdown",
      "metadata": {
        "id": "OJHqOj3VL-06"
      },
      "source": [
        "We can now plot the **observered measurements** of the temperature **against** the inferred **real temperature**.\n",
        "\n",
        "* By querying the **local hidden** we can **smooth** the temperature.\n",
        "\n",
        "* The **recovered temperature** is much less noisy than the measured one. "
      ]
    },
    {
      "cell_type": "code",
      "execution_count": null,
      "metadata": {
        "colab": {
          "base_uri": "https://localhost:8080/",
          "height": 447
        },
        "id": "cesOfH6UL-06",
        "outputId": "5ea496d9-56c1-4ca0-e89a-f9490c70c208"
      },
      "outputs": [
        {
          "output_type": "execute_result",
          "data": {
            "text/plain": [
              "<matplotlib.legend.Legend at 0x7f60fe36f8e0>"
            ]
          },
          "metadata": {},
          "execution_count": 40
        },
        {
          "output_type": "display_data",
          "data": {
            "text/plain": [
              "<Figure size 640x480 with 1 Axes>"
            ],
            "image/png": "[encoded data removed]"
          },
          "metadata": {}
        }
      ],
      "source": [
        "import matplotlib.pyplot as plt\n",
        "plt.plot([18., 18.7, 19.2, 17.8, 20.3, 22.4, 20.3, 21.2, 19.5, 20.1], label='Sensor Temp')\n",
        "plt.plot(smooth_temp, label='Smooth Temp')\n",
        "plt.legend()"
      ]
    },
    {
      "cell_type": "markdown",
      "metadata": {
        "id": "yRDQWC-vL-06"
      },
      "source": [
        "<img src=\"https://github.com/PGM-Lab/probai-2021-pyro/blob/main/Day1/Figures/blue.png?raw=1\" alt=\"Drawing\" width=2000 height=20>\n",
        "\n",
        "### <span style=\"color:red\">Exercise 3:  Temporal Extension of the Iceacream shop model </span> \n",
        "\n",
        "This exercise **extends** Excersise 2.\n",
        "* Assume temperature depends of the **temperature in the previous day**.\n",
        "* Assume humidity depends of the **humidity in the previous day**.\n",
        "* Assume sales depends on the **current temperature and humidity**.\n",
        "* Use the **graphical representation below for reference**.\n",
        "\n",
        "N.b. The plate representation has to be impemented in Pyro using a **``for-loop``**.\n",
        "<img src=\"https://github.com/PGM-Lab/probai-2021-pyro/raw/main/Day1/Figures/icecream-model-temporal.png\" alt=\"Drawing\" width=700 >\n",
        "\n",
        "\n"
      ]
    },
    {
      "cell_type": "code",
      "execution_count": null,
      "metadata": {
        "id": "GevI9bcjL-07",
        "tags": []
      },
      "outputs": [],
      "source": [
        "#The observatons   \n",
        "obs = {'sensor': torch.tensor([18., 18.7, 19.2, 17.8, 20.3, 22.4, 20.3, 21.2, 19.5, 20.1]),\n",
        "       'sales': torch.tensor([46., 47., 49., 44., 50., 54., 51., 52., 49., 53.]),\n",
        "       'sensor_humidity': torch.tensor([82.8, 87.6, 69.1, 74.2, 80.3, 94.2, 91.2, 92.2, 99.1, 93.2])}\n",
        "\n",
        "\n",
        "\n",
        "def model(obs):\n",
        "    mean_temp = pyro.sample('mean_temp', dist.Normal(15.0, 2.0))\n",
        "    ## Introduce a random variable \"mean_humidity\"\n",
        "    mean_humidity = pyro.sample('mean_humidity', dist.Normal(8.0, 2.0))\n",
        "\n",
        "\n",
        "    alpha = pyro.sample('alpha', dist.Normal(0.0, 100.0))\n",
        "    beta = pyro.sample('beta', dist.Normal(0.0, 100.0))\n",
        "    ## Introduce a coefficient for the humidity \"gamma\"\n",
        "    gamma = pyro.sample('gamma', dist.Normal(0.0, 100.0))\n",
        "\n",
        "    for i in range(obs['sensor'].shape[0]):\n",
        "        if i==0:\n",
        "            temp = pyro.sample(f'temp_{i}', dist.Normal(mean_temp, 2.0))\n",
        "            #Introduce the 'humidity' variable at time 0.\n",
        "\n",
        "        else:\n",
        "            temp = pyro.sample(f'temp_{i}', dist.Normal(prev_temp, 2.0))\n",
        "            #Introduce the f'humidity_{i}' variable defining the transition\n",
        "            \n",
        "        sensor = pyro.sample(f'sensor_{i}', dist.Normal(temp, 1.0), obs=obs['sensor'][i])\n",
        "\n",
        "        #Introduce the f'sensor_humidity_{i}' variable. \n",
        "        \n",
        "        #Add the linear dependency for the rate with respect to temp and humidity (keep torch.max to avoid numerical stability issues)\n",
        "        rate = torch.max(torch.tensor(0.01),alpha + beta*temp + ????)\n",
        "        sales = pyro.sample(f'sales_{i}', dist.Poisson(rate), obs=obs['sales'][i])\n",
        "\n",
        "        prev_temp = temp\n",
        "        #Keep humidity for the next time step. \n",
        "        prev_humidity = humidity\n"
      ]
    },
    {
      "cell_type": "markdown",
      "metadata": {
        "id": "BOo487l4L3L1"
      },
      "source": [
        "<img src=\"https://github.com/PGM-Lab/probai-2021-pyro/blob/main/Day1/Figures/blue.png?raw=1\" alt=\"Drawing\" width=2000 height=20>\n",
        "\n",
        "Again, we rely on the **(variational) inference engine** to get the results."
      ]
    },
    {
      "cell_type": "code",
      "execution_count": null,
      "metadata": {
        "cellView": "form",
        "id": "izRFQ0T3L-07"
      },
      "outputs": [],
      "source": [
        "#@title\n",
        "#Define the guide\n",
        "def guide(obs):\n",
        "    mean = pyro.param(\"mean\", torch.mean(obs['sensor']))\n",
        "    scale = pyro.param(\"scale\", torch.tensor(1.), constraint=constraints.greater_than(0.01))\n",
        "    mean_temp = pyro.sample('mean_temp', dist.Normal(mean, scale))\n",
        "\n",
        "    meanH = pyro.param(\"meanH\", torch.mean(obs['sensor_humidity']), constraint=constraints.positive)\n",
        "    scaleH = pyro.param(\"scaleH\", torch.tensor(1.), constraint=constraints.greater_than(0.01))\n",
        "    humidity_mean = pyro.sample('mean_humidity', dist.Normal(meanH, scaleH))\n",
        "\n",
        "\n",
        "    alpha_mean = pyro.param(\"alpha_mean\", torch.mean(obs['sensor']))\n",
        "    alpha_scale = pyro.param(\"alpha_scale\", torch.tensor(1.), constraint=constraints.greater_than(0.01))\n",
        "    alpha = pyro.sample('alpha', dist.Normal(alpha_mean, alpha_scale))\n",
        "\n",
        "    beta_mean = pyro.param(\"beta_mean\", torch.tensor(0.0))\n",
        "    beta_scale = pyro.param(\"beta_scale\", torch.tensor(1.), constraint=constraints.greater_than(0.01))\n",
        "    beta = pyro.sample('beta', dist.Normal(beta_mean, beta_scale))\n",
        "\n",
        "    gamma_mean = pyro.param(\"gamma_mean\", torch.tensor(0.0))\n",
        "    gamma_scale = pyro.param(\"gamma_scale\", torch.tensor(1.), constraint=constraints.greater_than(0.01))\n",
        "    gamma = pyro.sample('gamma', dist.Normal(gamma_mean, gamma_scale))\n",
        "\n",
        "    for i in range(obs['sensor'].shape[0]):\n",
        "        mean_i = pyro.param(f'mean_{i}', obs['sensor'][i])\n",
        "        scale_i = pyro.param(f'scale_{i}', torch.tensor(1.), constraint=constraints.greater_than(0.01))\n",
        "        temp = pyro.sample(f'temp_{i}', dist.Normal(mean_i, scale_i))\n",
        "        meanH_i = pyro.param(f'meanH_{i}', obs['sensor_humidity'][i])\n",
        "        scaleH_i = pyro.param(f'scaleH_{i}', torch.tensor(1.), constraint=constraints.greater_than(0.01))\n",
        "        humidity_i = pyro.sample(f'humidity_{i}', dist.Normal(meanH_i, scaleH_i))"
      ]
    },
    {
      "cell_type": "code",
      "execution_count": null,
      "metadata": {
        "colab": {
          "base_uri": "https://localhost:8080/"
        },
        "id": "tMWwy2UNL-07",
        "outputId": "000c1b77-634e-4a00-ae8e-3638051d1eac"
      },
      "outputs": [
        {
          "output_type": "stream",
          "name": "stdout",
          "text": [
            "Step: 0. ELBO: -975.2505025863647\n",
            "Step: 100. ELBO: -501.32640743255615\n",
            "Step: 200. ELBO: -492.1584714651108\n",
            "Step: 300. ELBO: -508.6205230951309\n",
            "Step: 400. ELBO: -477.8078851699829\n",
            "Step: 500. ELBO: -465.7882944345474\n",
            "Step: 600. ELBO: -431.660251557827\n",
            "Step: 700. ELBO: -430.0697748661041\n",
            "Step: 800. ELBO: -410.5656458735466\n",
            "Step: 900. ELBO: -431.8430261015892\n",
            "Finished\n"
          ]
        }
      ],
      "source": [
        "import time\n",
        "        \n",
        "#Run inference\n",
        "svi(model, obs, guide=guide, num_steps = 1000, lr=0.001)\n",
        "\n",
        "smooth_temp=[]\n",
        "smooth_humidity=[]\n",
        "\n",
        "for i in range(obs['sensor'].shape[0]):\n",
        "    smooth_temp.append(pyro.param(f'mean_{i}').item())\n",
        "    smooth_humidity.append(pyro.param(f'meanH_{i}').item())\n",
        "\n",
        "print('Finished')"
      ]
    },
    {
      "cell_type": "markdown",
      "metadata": {
        "id": "LosM2wXBMAFX"
      },
      "source": [
        "<img src=\"https://github.com/PGM-Lab/probai-2021-pyro/blob/main/Day1/Figures/blue.png?raw=1\" alt=\"Drawing\" width=2000 height=20>\n",
        "\n",
        "* We can plot the observered measurements of the temperature against the **inferred real temperature** by our model. \n",
        "\n",
        "* The **recovered temperature** is much less noisy than the real one.\n"
      ]
    },
    {
      "cell_type": "code",
      "execution_count": null,
      "metadata": {
        "colab": {
          "base_uri": "https://localhost:8080/",
          "height": 447
        },
        "id": "7kr1dbx-L-07",
        "outputId": "4bcdef86-c5e8-4d18-f796-760183aec6d8"
      },
      "outputs": [
        {
          "output_type": "execute_result",
          "data": {
            "text/plain": [
              "<matplotlib.legend.Legend at 0x7f60fe2db5e0>"
            ]
          },
          "metadata": {},
          "execution_count": 44
        },
        {
          "output_type": "display_data",
          "data": {
            "text/plain": [
              "<Figure size 640x480 with 1 Axes>"
            ],
            "image/png": "[encoded data removed]"
          },
          "metadata": {}
        }
      ],
      "source": [
        "plt.plot([18., 18.7, 19.2, 17.8, 20.3, 22.4, 20.3, 21.2, 19.5, 20.1], label='Sensor Temp')\n",
        "plt.plot(smooth_temp, label='Smooth Temp')\n",
        "plt.legend()"
      ]
    },
    {
      "cell_type": "markdown",
      "metadata": {
        "id": "QStTTd9nN56M"
      },
      "source": [
        "---\n",
        "* We can plot the observered measurements of the humidity against the **inferred real humidity** by our model. \n",
        "\n",
        "* The **recovered humidity** is much less noisy than the real one.\n",
        "\n",
        "---\n"
      ]
    },
    {
      "cell_type": "code",
      "execution_count": null,
      "metadata": {
        "colab": {
          "base_uri": "https://localhost:8080/",
          "height": 447
        },
        "id": "WD7n3v9oL-08",
        "outputId": "092237ea-0e5f-4844-d61a-c864a651f5b8"
      },
      "outputs": [
        {
          "output_type": "execute_result",
          "data": {
            "text/plain": [
              "<matplotlib.legend.Legend at 0x7f60fe43f4f0>"
            ]
          },
          "metadata": {},
          "execution_count": 45
        },
        {
          "output_type": "display_data",
          "data": {
            "text/plain": [
              "<Figure size 640x480 with 1 Axes>"
            ],
            "image/png": "[encoded data removed]"
          },
          "metadata": {}
        }
      ],
      "source": [
        "humidity = torch.tensor([82.8, 87.6, 69.1, 74.2, 80.3, 94.2, 91.2, 92.2, 99.1, 93.2])\n",
        "plt.plot(humidity.detach().numpy(), label='Sensor Humidity')\n",
        "plt.plot(smooth_humidity, label='Smooth Humidity')\n",
        "plt.legend()"
      ]
    },
    {
      "cell_type": "markdown",
      "metadata": {
        "id": "858lPsjJOTJd"
      },
      "source": [
        "<img src=\"https://github.com/PGM-Lab/probai-2021-pyro/blob/main/Day1/Figures/blue.png?raw=1\" alt=\"Drawing\" width=2000 height=20>\n"
      ]
    }
  ],
  "metadata": {
    "colab": {
      "provenance": [],
      "toc_visible": true,
      "include_colab_link": true
    },
    "kernelspec": {
      "display_name": "Python 3 (ipykernel)",
      "language": "python",
      "name": "python3"
    },
    "language_info": {
      "codemirror_mode": {
        "name": "ipython",
        "version": 3
      },
      "file_extension": ".py",
      "mimetype": "text/x-python",
      "name": "python",
      "nbconvert_exporter": "python",
      "pygments_lexer": "ipython3",
      "version": "3.9.0"
    }
  },
  "nbformat": 4,
  "nbformat_minor": 0
}