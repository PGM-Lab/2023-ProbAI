{
 "cells": [
  {
   "cell_type": "markdown",
   "metadata": {
    "colab_type": "text",
    "id": "view-in-github"
   },
   "source": [
    "<a href=\"https://colab.research.google.com/github/PGM-Lab/2023-ProbAI/blob/main/Day1/notebooks/solutions_PPLs_Intro.ipynb\" target=\"_parent\"><img src=\"https://colab.research.google.com/assets/colab-badge.svg\" alt=\"Open In Colab\"/></a>"
   ]
  },
  {
   "cell_type": "markdown",
   "metadata": {
    "id": "a75mGrGgL-0g"
   },
   "source": [
    "<img src=\"https://github.com/PGM-Lab/probai-2021-pyro/blob/main/Day1/Figures/blue.png?raw=1\" alt=\"Drawing\" width=2000 height=20>\n",
    "\n",
    "\n",
    "# Setup\n",
    "Let's begin by installing and importing the modules we'll need."
   ]
  },
  {
   "cell_type": "code",
   "execution_count": null,
   "metadata": {
    "id": "7Owp2eKrL-0j",
    "tags": []
   },
   "outputs": [],
   "source": [
    "!pip install -q --upgrade pyro-ppl torch graphviz\n",
    "import pyro\n",
    "import torch\n",
    "import pyro.distributions as dist"
   ]
  },
  {
   "cell_type": "markdown",
   "metadata": {
    "id": "I-EvHtlvL-0k"
   },
   "source": [
    "<img src=\"https://github.com/PGM-Lab/probai-2021-pyro/blob/main/Day1/Figures/blue.png?raw=1\" alt=\"Drawing\" width=2000 height=20>\n",
    "\n",
    "\n",
    "# 1. **Pyro’s distributions** (http://docs.pyro.ai/en/stable/distributions.html) :\n",
    "\n",
    "\n",
    "Pyro provides a wide range of distributions: **Normal, Beta, Cauchy, Dirichlet, Gumbel, Poisson, Pareto, etc.**"
   ]
  },
  {
   "cell_type": "code",
   "execution_count": null,
   "metadata": {
    "colab": {
     "base_uri": "https://localhost:8080/"
    },
    "id": "_w52OifSL-0l",
    "outputId": "59abe7d2-d905-4795-817e-cc72d0f28bbe",
    "tags": []
   },
   "outputs": [],
   "source": [
    "normal = dist.Normal(0,1)\n",
    "normal"
   ]
  },
  {
   "cell_type": "markdown",
   "metadata": {
    "id": "yOSdcF4_L-0m"
   },
   "source": [
    "\n",
    "<img src=\"https://github.com/PGM-Lab/probai-2021-pyro/blob/main/Day1/Figures/blue.png?raw=1\" alt=\"Drawing\" width=2000 height=20>\n",
    "\n",
    "Samples from the distributions are [Pytorch’s Tensor objects](https://pytorch.org/cppdocs/notes/tensor_creation.html) (i.e. multidimensional arrays).\n"
   ]
  },
  {
   "cell_type": "code",
   "execution_count": null,
   "metadata": {
    "colab": {
     "base_uri": "https://localhost:8080/"
    },
    "id": "wloQxYMXL-0m",
    "outputId": "0fed4e93-d4d6-4d5c-b146-499e84243c6f",
    "tags": []
   },
   "outputs": [],
   "source": [
    "sample = normal.sample()\n",
    "sample"
   ]
  },
  {
   "cell_type": "code",
   "execution_count": null,
   "metadata": {
    "colab": {
     "base_uri": "https://localhost:8080/"
    },
    "id": "2h2iOp-qL-0o",
    "outputId": "c5a6710d-b817-43ab-8694-9d6d0b59ccdc",
    "tags": []
   },
   "outputs": [],
   "source": [
    "sample = normal.sample(sample_shape=[3,4,5])\n",
    "sample"
   ]
  },
  {
   "cell_type": "markdown",
   "metadata": {
    "id": "r-0pNd9tL-0o"
   },
   "source": [
    "<img src=\"https://github.com/PGM-Lab/probai-2021-pyro/blob/main/Day1/Figures/blue.png?raw=1\" alt=\"Drawing\" width=2000 height=20>\n",
    "\n",
    "We can query the **dimensionlity** of a tensor with the ``shape`` property"
   ]
  },
  {
   "cell_type": "code",
   "execution_count": null,
   "metadata": {
    "colab": {
     "base_uri": "https://localhost:8080/"
    },
    "id": "Dk2ebGoYL-0p",
    "outputId": "78af5cec-2b6f-436a-a762-27991b83a243",
    "tags": []
   },
   "outputs": [],
   "source": [
    "sample = normal.sample(sample_shape=[3,4,5])\n",
    "sample.shape"
   ]
  },
  {
   "cell_type": "markdown",
   "metadata": {
    "id": "DsVjombqL-0p"
   },
   "source": [
    "\n",
    "<img src=\"https://github.com/PGM-Lab/probai-2021-pyro/blob/main/Day1/Figures/blue.png?raw=1\" alt=\"Drawing\" width=2000 height=20>\n",
    "\n",
    "Operations, like **log-likelihood**, are defined over tensors."
   ]
  },
  {
   "cell_type": "code",
   "execution_count": null,
   "metadata": {
    "colab": {
     "base_uri": "https://localhost:8080/"
    },
    "id": "06G293JdL-0p",
    "outputId": "b984d5e4-9a9a-416a-92f3-81bbfbd7bd19",
    "tags": []
   },
   "outputs": [],
   "source": [
    "normal.log_prob(sample)"
   ]
  },
  {
   "cell_type": "code",
   "execution_count": null,
   "metadata": {
    "colab": {
     "base_uri": "https://localhost:8080/"
    },
    "id": "R3v2rpRAL-0q",
    "outputId": "c7320d36-3c58-49d4-ff23-b1b39e069d80",
    "tags": []
   },
   "outputs": [],
   "source": [
    "torch.sum(normal.log_prob(sample))"
   ]
  },
  {
   "cell_type": "markdown",
   "metadata": {
    "id": "zErtSTzYL-0q"
   },
   "source": [
    "<img src=\"https://github.com/PGM-Lab/probai-2021-pyro/blob/main/Day1/Figures/blue.png?raw=1\" alt=\"Drawing\" width=2000 height=20>\n",
    "\n",
    "**Multiple distributions** can be embedded in single object.\n",
    "\n",
    "* Below we define **three Normal distributions with different means but the same scale** in a single object.\n"
   ]
  },
  {
   "cell_type": "code",
   "execution_count": null,
   "metadata": {
    "colab": {
     "base_uri": "https://localhost:8080/"
    },
    "id": "VEcgGuTqL-0q",
    "outputId": "ee9189fd-9463-4552-d219-be337ad30f04",
    "tags": []
   },
   "outputs": [],
   "source": [
    "normal = dist.Normal(torch.tensor([1.,2.,3.]),1.)\n",
    "normal"
   ]
  },
  {
   "cell_type": "code",
   "execution_count": null,
   "metadata": {
    "colab": {
     "base_uri": "https://localhost:8080/"
    },
    "id": "1cRRDgTbL-0r",
    "outputId": "6bc12d42-2231-48b3-f1dc-64d4a723dd31",
    "tags": []
   },
   "outputs": [],
   "source": [
    "normal.sample()"
   ]
  },
  {
   "cell_type": "code",
   "execution_count": null,
   "metadata": {
    "colab": {
     "base_uri": "https://localhost:8080/"
    },
    "id": "hji5mTnhL-0r",
    "outputId": "39404321-6691-4858-8952-a3fbf069bab1",
    "tags": []
   },
   "outputs": [],
   "source": [
    "normal.log_prob(normal.sample())"
   ]
  },
  {
   "cell_type": "markdown",
   "metadata": {
    "id": "drChKHsWJ--U"
   },
   "source": [
    "<img src=\"https://github.com/PGM-Lab/probai-2021-pyro/blob/main/Day1/Figures/blue.png?raw=1\" alt=\"Drawing\" width=2000 height=20>"
   ]
  },
  {
   "cell_type": "markdown",
   "metadata": {
    "id": "T7drVBrtzNgC"
   },
   "source": [
    "### **<span style=\"color:red\">Exercise: Open the notebook and play around</span>**\n",
    "\n",
    "* Test that everything works.\n",
    "* Play a bit with the code in Section 1 of the notebook.\n",
    "\n",
    "<img src=\"https://github.com/PGM-Lab/probai-2021-pyro/blob/main/Day1/Figures/blue.png?raw=1\" alt=\"Drawing\" width=2000 height=20>"
   ]
  },
  {
   "cell_type": "markdown",
   "metadata": {
    "id": "WV-iBl4xL-0r"
   },
   "source": [
    "# 2. **Pyro’s models** (http://pyro.ai/examples/intro_part_i.html) :\n",
    "\n",
    "\n",
    "* In Pyro, a probabilistic model is defined as a **stochastic function** (i.e. every time it is run, it returns a new sample).\n",
    "\n",
    "* Each random variable is associated with a **primitive stochastic function** using the construct ``pyro.sample(...)``.\n",
    "\n",
    "\n",
    "### 2.1 A Temperature Model\n",
    "\n",
    "\n",
    "\n",
    "As initial running example, we consider the problem of **modelling the temperature**. We first start with a simple model, where temperture is modeled using a random Normal variable."
   ]
  },
  {
   "cell_type": "code",
   "execution_count": null,
   "metadata": {
    "colab": {
     "base_uri": "https://localhost:8080/"
    },
    "id": "kcU2EmBYL-0s",
    "outputId": "2284f55e-0098-4cb8-ca13-cea5d0bfb473",
    "tags": []
   },
   "outputs": [],
   "source": [
    "def model():\n",
    "    temp = pyro.sample('temp', dist.Normal(15.0, 2.0))\n",
    "    return temp\n",
    "\n",
    "print(model())\n",
    "print(model())"
   ]
  },
  {
   "cell_type": "markdown",
   "metadata": {},
   "source": [
    "See how the model behaves as a stochastic function, which **returns a different value everytime it is invoked**. "
   ]
  },
  {
   "cell_type": "code",
   "execution_count": null,
   "metadata": {
    "tags": []
   },
   "outputs": [],
   "source": [
    "# Visualize the model\n",
    "pyro.render_model(model, render_distributions=True)"
   ]
  },
  {
   "cell_type": "markdown",
   "metadata": {
    "id": "N0pVeOVpL-0s"
   },
   "source": [
    "\n",
    "\n",
    "<img src=\"https://github.com/PGM-Lab/probai-2021-pyro/blob/main/Day1/Figures/blue.png?raw=1\" alt=\"Drawing\" width=2000 height=20>\n"
   ]
  },
  {
   "cell_type": "markdown",
   "metadata": {
    "id": "Z0biYXEVL-0s"
   },
   "source": [
    "### 2.2 A Temperature-Sensor Model"
   ]
  },
  {
   "cell_type": "markdown",
   "metadata": {
    "id": "Jp6wefVaLCnx"
   },
   "source": [
    "In Pyro, a stochastic method is defined as a **composition of primitive stochastic functions**.\n",
    "\n",
    "*The temperature Model:* \n",
    "We consider the presence of a **temperature sensor**. \n",
    "  * The temperature sensor gives **noisy observations** about the real temperature.\n",
    "  * The **error** of the sensor's measurements **is known**.\n"
   ]
  },
  {
   "cell_type": "code",
   "execution_count": null,
   "metadata": {
    "colab": {
     "base_uri": "https://localhost:8080/"
    },
    "id": "VpxheEx-L-0t",
    "outputId": "e3194e9a-b944-4224-e9da-4c4f023c3ad4",
    "tags": []
   },
   "outputs": [],
   "source": [
    "def model():\n",
    "    temp = pyro.sample('temp', dist.Normal(15.0, 2.0))\n",
    "    sensor = pyro.sample('sensor', dist.Normal(temp, 1.0))\n",
    "    return (temp, sensor)\n",
    "\n",
    "# Visualize the model\n",
    "pyro.render_model(model, render_distributions=True)"
   ]
  },
  {
   "cell_type": "code",
   "execution_count": null,
   "metadata": {
    "tags": []
   },
   "outputs": [],
   "source": [
    "# Sample from the model\n",
    "out1 = model()\n",
    "out1"
   ]
  },
  {
   "cell_type": "markdown",
   "metadata": {
    "id": "L5f6BGpkizCh"
   },
   "source": [
    "---\n",
    "\n",
    "<img src=\"https://github.com/PGM-Lab/probai-2021-pyro/blob/main/Day1/Figures/blue.png?raw=1\" alt=\"Drawing\" width=2000 height=20>\n"
   ]
  },
  {
   "cell_type": "markdown",
   "metadata": {
    "id": "XSXTeNtqL-0t"
   },
   "source": [
    "\n",
    "The above method defines a joint probability distribution:\n",
    "$$p(sensor, temp) = p(sensor|temp)p(temp)$$\n",
    "\n",
    "\n",
    "\n",
    "\n",
    "In this case, we have a simple dependency between the variables. But, as we are in a PPL, dependencies can be expressed in terms of complex deterministic functions (more examples later).\n",
    "\n",
    "\n",
    "\n",
    "<img src=\"https://github.com/PGM-Lab/probai-2021-pyro/blob/main/Day1/Figures/blue.png?raw=1\" alt=\"Drawing\" width=2000 height=20>\n"
   ]
  },
  {
   "cell_type": "markdown",
   "metadata": {
    "id": "CCayVyTsL-0t"
   },
   "source": [
    "# 3. **Pyro’s inference** (http://pyro.ai/examples/intro_part_ii.html) :"
   ]
  },
  {
   "cell_type": "markdown",
   "metadata": {
    "id": "QyC3v0cyL-0u"
   },
   "source": [
    "### Auxiliary inference functions (more details on Day 2)\n",
    "\n",
    "To make inference on Pyro, we will use a variational inference method, which performs gradient-based optimization to solve the inference problem. More details will be given on Day 2. "
   ]
  },
  {
   "cell_type": "code",
   "execution_count": null,
   "metadata": {
    "id": "arZOTC7gL-0u",
    "tags": []
   },
   "outputs": [],
   "source": [
    "from torch.distributions import constraints\n",
    "from pyro.optim import SGD\n",
    "from pyro.infer import Trace_ELBO\n",
    "import matplotlib.pyplot as plt\n",
    "from pyro.contrib.autoguide import AutoNormal\n",
    "\n",
    "\n",
    "def svi(model, obs, guide=None, num_steps = 500, plot = False, verbose=False, lr=0.01):\n",
    "    \n",
    "    torch.manual_seed(999)\n",
    "\n",
    "    pyro.clear_param_store()\n",
    "    \n",
    "    if guide is None:\n",
    "        guide = AutoNormal(model)\n",
    "    \n",
    "    svi = pyro.infer.SVI(model=model,\n",
    "                         guide=guide,\n",
    "                         optim=SGD({\"lr\": lr, \"momentum\":0.1}),\n",
    "                         loss=Trace_ELBO())\n",
    "\n",
    "    elbo, a,b  = [], [], []\n",
    "    \n",
    "    for t in range(num_steps):\n",
    "        elbo.append(-svi.step(obs))\n",
    "        if t%100==0:\n",
    "            print('Step: '+str(t)+'. ELBO: ' +str(elbo[-1]))\n",
    "            \n",
    "\n",
    "    if (plot):\n",
    "        plt.plot(elbo[2:])\n",
    "        plt.title(\"ELBO\")\n",
    "        plt.xlabel(\"step\")\n",
    "        plt.ylabel(\"ELBO\");\n",
    "        plt.show()\n",
    "        \n",
    "    if verbose:\n",
    "        print(\"Inference results:\")\n",
    "        for name, value in pyro.get_param_store().items():\n",
    "            print(name, pyro.param(name).item())"
   ]
  },
  {
   "cell_type": "markdown",
   "metadata": {
    "id": "ovLJGQtcPlBt"
   },
   "source": [
    "* To make inference in Pyro over a given model we need to define a *guide*. This *guide* must have the same signature as its counterpart model. \n",
    "\n",
    "* The guide must provide samples for those variables of the model that are not observed, again using the ``pyro.sample`` construct. \n",
    "\n",
    "* Guides are also parametrized using Pyro's parameters (``pyro.param``), so the variational inference algorithm will optimize over these parameters. \n",
    "\n",
    "* All of this will be explained in detail on Day 2."
   ]
  },
  {
   "cell_type": "markdown",
   "metadata": {
    "id": "mkkHJOFBL-0u"
   },
   "source": [
    "<img src=\"https://github.com/PGM-Lab/probai-2021-pyro/blob/main/Day1/Figures/blue.png?raw=1\" alt=\"Drawing\" width=2000 height=20>\n",
    "\n",
    "### 3.1  Conditioning on a single observation\n",
    "\n",
    "Now, we continue with the last model defined in section 2.2, and assume we have a sensor reading and we want to compute the posterior distribution over the real temperature. \n",
    "\n",
    "This can be achived by introducing **observations in the random variable** with the keyword ``obs=``."
   ]
  },
  {
   "cell_type": "code",
   "execution_count": null,
   "metadata": {
    "id": "TSzNRm7wL-0v",
    "tags": []
   },
   "outputs": [],
   "source": [
    "#The observatons   \n",
    "obs = {'sensor': torch.tensor(18.0)}\n",
    "\n",
    "def model(obs):\n",
    "    temp = pyro.sample('temp', dist.Normal(15.0, 2.0))\n",
    "    sensor = pyro.sample('sensor', dist.Normal(temp, 0.1), obs=obs['sensor'])"
   ]
  },
  {
   "cell_type": "code",
   "execution_count": null,
   "metadata": {
    "colab": {
     "base_uri": "https://localhost:8080/",
     "height": 176
    },
    "id": "VZ6QIi2-4jRr",
    "outputId": "f313aada-2796-4d9e-cc17-b6ed89227fec",
    "tags": []
   },
   "outputs": [],
   "source": [
    "#Visualize the model\n",
    "pyro.render_model(model, model_args=(obs, ), render_distributions=True)"
   ]
  },
  {
   "cell_type": "markdown",
   "metadata": {
    "id": "nH3PgF4wL-0w"
   },
   "source": [
    "<img src=\"https://github.com/PGM-Lab/probai-2021-pyro/blob/main/Day1/Figures/blue.png?raw=1\" alt=\"Drawing\" width=2000 height=20>\n",
    "\n",
    "\n",
    "Inference is made using the previously defined auxiliary functions, ``svi`` and ``guide``. This allows us to query the **posterior probability distribution**: \n",
    "\n",
    "\n",
    "$$p(temp | sensor=18)=\\frac{p(sensor=18|temp)p(temp)}{\\int p(sensor=18|temp)p(temp) dtemp}$$\n",
    "\n"
   ]
  },
  {
   "cell_type": "code",
   "execution_count": null,
   "metadata": {
    "colab": {
     "base_uri": "https://localhost:8080/",
     "height": 611
    },
    "id": "VObMyZQ_L-0w",
    "outputId": "3d798591-0254-4638-d4f7-25de02e9603b",
    "tags": []
   },
   "outputs": [],
   "source": [
    "#Run inference\n",
    "svi(model,obs, plot=True)\n",
    "\n",
    "#Print results\n",
    "print(\"P(Temperature|Sensor=18.0) = \")\n",
    "print(dist.Normal(pyro.param(\"AutoNormal.locs.temp\").item(), pyro.param(\"AutoNormal.scales.temp\").item()))\n",
    "print(\"\")"
   ]
  },
  {
   "cell_type": "markdown",
   "metadata": {
    "id": "ZglqMEmSL-0w"
   },
   "source": [
    "\n",
    "* Inference is an **optimization procedure**. \n",
    "\n",
    "* The **ELBO function is maximized** during the variational inference process.\n",
    "\n",
    "<img src=\"https://github.com/PGM-Lab/probai-2021-pyro/blob/main/Day1/Figures/blue.png?raw=1\" alt=\"Drawing\" width=2000 height=20>\n"
   ]
  },
  {
   "cell_type": "markdown",
   "metadata": {
    "id": "WAbW6UoTL-0x"
   },
   "source": [
    "### 3.2  Learning from a bunch of observations\n",
    "\n",
    "* Let us assume that we have a **set of observations** of the temperature at different time steps. \n",
    "\n",
    "* Following a probabilistic modelling approach, we define a **set of random variables**.\n",
    "\n",
    "* One random variable for each **observation** using a standard ``for-loop``."
   ]
  },
  {
   "cell_type": "code",
   "execution_count": null,
   "metadata": {
    "id": "w2bPy-D4L-0x",
    "tags": []
   },
   "outputs": [],
   "source": [
    "#The observatons   \n",
    "obs = {'sensor': torch.tensor([18., 18.7, 19.2, 17.8, 20.3, 22.4, 20.3, 21.2, 19.5, 20.1])}\n",
    "\n",
    "def model(obs):\n",
    "    for i in range(obs['sensor'].shape[0]):\n",
    "        temp = pyro.sample(f'temp_{i}', dist.Normal(15.0, 2.0))\n",
    "        sensor = pyro.sample(f'sensor_{i}', dist.Normal(temp, 1.0), obs=obs['sensor'][i])"
   ]
  },
  {
   "cell_type": "code",
   "execution_count": null,
   "metadata": {
    "colab": {
     "base_uri": "https://localhost:8080/",
     "height": 176
    },
    "id": "6bvwNZvz4jRr",
    "outputId": "5d3bda93-8459-4e55-e4d3-5d420e20e153",
    "tags": []
   },
   "outputs": [],
   "source": [
    "#Visualize the model\n",
    "pyro.render_model(model, model_args=(obs, ))"
   ]
  },
  {
   "cell_type": "code",
   "execution_count": null,
   "metadata": {
    "colab": {
     "base_uri": "https://localhost:8080/"
    },
    "id": "pa9T-qOMkyGw",
    "outputId": "24ddf72f-9da4-48c6-aafd-f816922ccd47",
    "tags": []
   },
   "outputs": [],
   "source": [
    "#Run inference\n",
    "svi(model, obs, verbose=True)"
   ]
  },
  {
   "cell_type": "markdown",
   "metadata": {
    "id": "fjcPTM1PL-0x"
   },
   "source": [
    "\n",
    "<img src=\"https://github.com/PGM-Lab/probai-2021-pyro/blob/main/Day1/Figures/blue.png?raw=1\" alt=\"Drawing\" width=2000 height=20>\n",
    "\n",
    "What if we do **not know the mean temperature**? \n",
    "\n",
    "* We can **infer it from the data** by, e.g., using a **maximum likelihood** approach,\n",
    "$$ \\mu_{t} = \\arg\\max_\\mu \\ln p(s_1,\\ldots,s_n|\\mu) = \\arg\\max_\\mu \\ln \\prod_i \\int_{t_i} p(s_i|t_i)p(t_i|\\mu) dt_i, $$ where $s_i$ and $t_i$ denote the sensor reading and the real temperature at time $i$. \n",
    "\n",
    "* The graphical model:\n",
    "<center>\n",
    "<img src=\"https://github.com/PGM-Lab/probai-2021-pyro/blob/main/Day1/Figures/PGM-Tem_sensor4.png?raw=1\" alt=\"Drawing\" width=\"200\">\n",
    "</center>\n",
    "* For now we do not consider the **underlying inference problem** We just define the model and let the **PPL's engine** make the work for us. \n",
    "\n",
    "* We use Pyro's parameters (defined as ``pyro.param``), which are free variables we can optimize. \n"
   ]
  },
  {
   "cell_type": "code",
   "execution_count": null,
   "metadata": {
    "id": "yXEFGMkzL-0x",
    "tags": []
   },
   "outputs": [],
   "source": [
    "#The observatons   \n",
    "obs = {'sensor': torch.tensor([18., 18.7, 19.2, 17.8, 20.3, 22.4, 20.3, 21.2, 19.5, 20.1])}\n",
    "\n",
    "def model(obs):\n",
    "    mean_temp = pyro.param('mean_temp', torch.tensor(15.0))\n",
    "    for i in range(obs['sensor'].shape[0]):\n",
    "        temp = pyro.sample(f'temp_{i}', dist.Normal(mean_temp, 2.0))\n",
    "        sensor = pyro.sample(f'sensor_{i}', dist.Normal(temp, 1.0), obs=obs['sensor'][i])"
   ]
  },
  {
   "cell_type": "code",
   "execution_count": null,
   "metadata": {
    "colab": {
     "base_uri": "https://localhost:8080/",
     "height": 244
    },
    "id": "Mu5lyrlD4jRs",
    "outputId": "8ffa9f6d-322d-4d91-9b35-31edc90bb374",
    "tags": []
   },
   "outputs": [],
   "source": [
    "#Visualize the model\n",
    "pyro.render_model(model, model_args=(obs, ), render_params=True)"
   ]
  },
  {
   "cell_type": "code",
   "execution_count": null,
   "metadata": {
    "colab": {
     "base_uri": "https://localhost:8080/"
    },
    "id": "GEfOM8zWL-0y",
    "outputId": "f13b9624-d3f9-4d63-aadb-510510cc4e94",
    "tags": []
   },
   "outputs": [],
   "source": [
    "#Run inference\n",
    "svi(model, obs)\n",
    "\n",
    "#Print results\n",
    "print(\"Estimated Mean Temperature (MLE):\")\n",
    "mle_mean_temp = pyro.param(\"mean_temp\").item() \n",
    "print(mle_mean_temp)"
   ]
  },
  {
   "cell_type": "markdown",
   "metadata": {
    "id": "tiCwbfJwL-0y"
   },
   "source": [
    "<img src=\"https://github.com/PGM-Lab/probai-2021-pyro/blob/main/Day1/Figures/blue.png?raw=1\" alt=\"Drawing\" width=2000 height=20>\n",
    "\n",
    "Instead of performing *maximum likelihood* learning, we can perform **Bayesian learning**:\n",
    "\n",
    "* We treat the unknown quantity as a **random variable**.\n",
    "\n",
    "This model can graphically be represented as follows:\n",
    "\n",
    "<center>\n",
    "<img src=\"https://github.com/PGM-Lab/probai-2021-pyro/blob/main/Day1/Figures/PGM-Tem-Sensor2.png?raw=1\" alt=\"Drawing\" width=\"200\">\n",
    "</center>\n",
    "<img src=\"https://github.com/PGM-Lab/probai-2021-pyro/blob/main/Day1/Figures/blue.png?raw=1\" alt=\"Drawing\" width=2000 height=20>\n",
    "\n"
   ]
  },
  {
   "cell_type": "code",
   "execution_count": null,
   "metadata": {
    "id": "CaTdLm6ML-0y",
    "tags": []
   },
   "outputs": [],
   "source": [
    "#The observatons   \n",
    "obs = {'sensor': torch.tensor([18., 18.7, 19.2, 17.8, 20.3, 22.4, 20.3, 21.2, 19.5, 20.1])}\n",
    "\n",
    "def model(obs):\n",
    "    mean_temp = pyro.sample('mean_temp', dist.Normal(15.0, 2.0))\n",
    "    for i in range(obs['sensor'].shape[0]):\n",
    "        temp = pyro.sample(f'temp_{i}', dist.Normal(mean_temp, 2.0))\n",
    "        sensor = pyro.sample(f'sensor_{i}', dist.Normal(temp, 1.0), obs=obs['sensor'][i])"
   ]
  },
  {
   "cell_type": "code",
   "execution_count": null,
   "metadata": {
    "colab": {
     "base_uri": "https://localhost:8080/",
     "height": 272
    },
    "id": "uF-4Gmyb4jRs",
    "outputId": "b65b002e-e9ff-489a-e014-8f7400c1e8d0",
    "tags": []
   },
   "outputs": [],
   "source": [
    "#Visualize the model\n",
    "pyro.render_model(model, model_args=(obs, ))"
   ]
  },
  {
   "cell_type": "markdown",
   "metadata": {
    "id": "jJfVNZFBL-0y"
   },
   "source": [
    "---\n",
    "<img src=\"https://github.com/PGM-Lab/probai-2021-pyro/blob/main/Day1/Figures/blue.png?raw=1\" alt=\"Drawing\" width=2000 height=20>\n",
    "\n",
    "We perform inference over this model:\n",
    "\n",
    " $$ p(\\mu_t | s_1,\\ldots, s_n)=\\frac{p(\\mu_t)\\prod_{i=1}^n \\int p(s_i|t_i)p(t_i|\\mu_t)dt_i }{\\int \\prod_{i=1}^n p(s_i|\\mu_t)p(\\mu_t) d\\mu} $$\n"
   ]
  },
  {
   "cell_type": "code",
   "execution_count": null,
   "metadata": {
    "colab": {
     "base_uri": "https://localhost:8080/"
    },
    "id": "W0YiqM36L-0z",
    "outputId": "51608b2a-f2c5-4e8c-ab13-d8f27135654a",
    "tags": []
   },
   "outputs": [],
   "source": [
    "import time\n",
    "        \n",
    "#Run inference\n",
    "start = time.time()\n",
    "svi(model, obs)\n",
    "\n",
    "#Print results\n",
    "print(\"P(mean_temp|Sensor=[18., 18.7, 19.2, 17.8, 20.3, 22.4, 20.3, 21.2, 19.5, 20.1]) =\")\n",
    "print(dist.Normal(pyro.param(\"AutoNormal.locs.mean_temp\").item(), pyro.param(\"AutoNormal.scales.mean_temp\").item()))\n",
    "print(\"\")\n",
    "end = time.time()\n",
    "print(f\"{(end - start)} seconds\")"
   ]
  },
  {
   "cell_type": "markdown",
   "metadata": {
    "id": "YFKoGLcnL-0z"
   },
   "source": [
    "---\n",
    "* Observe that the result of the learning is **not a point estimate**.\n",
    "\n",
    "* We have a **posterior distribution** which captures **uncertainty** about the estimation.\n",
    "\n",
    "---"
   ]
  },
  {
   "cell_type": "code",
   "execution_count": null,
   "metadata": {
    "colab": {
     "base_uri": "https://localhost:8080/",
     "height": 430
    },
    "id": "ES_yHXNKL-0z",
    "outputId": "6e39a823-226a-4223-c796-f8ae6c2fae1a",
    "tags": []
   },
   "outputs": [],
   "source": [
    "import numpy as np\n",
    "import scipy.stats as stats\n",
    "\n",
    "mu = pyro.param(\"AutoNormal.locs.mean_temp\").item()\n",
    "scale = pyro.param(\"AutoNormal.scales.mean_temp\").item()\n",
    "x = np.linspace(mu - 3*scale, mu + 3*scale, 100)\n",
    "plt.plot(x, stats.norm.pdf(x, mu, scale), label='Posterior over $\\mu$')\n",
    "point = mle_mean_temp # Previously calculated above\n",
    "plt.plot([point, point],[0., 1.], label='MLE point estimate of $\\mu$')\n",
    "plt.legend()\n",
    "plt.show()"
   ]
  },
  {
   "cell_type": "markdown",
   "metadata": {
    "id": "1SXUdMtUL-00"
   },
   "source": [
    "<img src=\"https://github.com/PGM-Lab/probai-2021-pyro/blob/main/Day1/Figures/blue.png?raw=1\" alt=\"Drawing\" width=2000 height=20>\n",
    "\n",
    "\n",
    "### 3.3 The use of ``plate`` construct\n",
    "\n",
    "Pyro can exploit **conditional independencies and vectorization** to make inference much faster. \n",
    "\n",
    "* This can be done with the construct **``plate``**. \n",
    "\n",
    "* With this construct, we can indicate that the variables $s_i$ and $t_i$ are **conditionally indepdendent** from another variables $s_j$ and $t_j$ given $\\mu_t$. \n",
    "\n",
    "<center>\n",
    "<img src=\"https://github.com/PGM-Lab/probai-2021-pyro/blob/main/Day1/Figures/PGM-Tem-Sensor2.png?raw=1\" alt=\"Drawing\" width=\"200\">\n",
    "</center>\n"
   ]
  },
  {
   "cell_type": "code",
   "execution_count": null,
   "metadata": {
    "id": "4LlQKqp4L-00",
    "tags": []
   },
   "outputs": [],
   "source": [
    "#The observatons   \n",
    "obs = {'sensor': torch.tensor([18., 18.7, 19.2, 17.8, 20.3, 22.4, 20.3, 21.2, 19.5, 20.1])}\n",
    "\n",
    "def model(obs):\n",
    "    mean_temp = pyro.sample('mean_temp', dist.Normal(15.0, 2.0))\n",
    "    with pyro.plate('N='+str(obs['sensor'].shape[0]), obs['sensor'].shape[0]):\n",
    "        temp = pyro.sample('temp', dist.Normal(mean_temp, 2.0))\n",
    "        sensor = pyro.sample('sensor', dist.Normal(temp, 1.0), obs=obs['sensor'])"
   ]
  },
  {
   "cell_type": "code",
   "execution_count": null,
   "metadata": {
    "colab": {
     "base_uri": "https://localhost:8080/",
     "height": 324
    },
    "id": "qpt4TFfm4jRt",
    "outputId": "c3c78f04-1184-43c4-cca7-1c94b88cc4c1",
    "tags": []
   },
   "outputs": [],
   "source": [
    "#Visualize the model\n",
    "pyro.render_model(model, model_args=(obs, ), render_distributions=True)"
   ]
  },
  {
   "cell_type": "markdown",
   "metadata": {
    "id": "yAh8vLjLL-00"
   },
   "source": [
    "The ``plate`` construct reflects the standard notational use in graphical models denoting the **repetition of some parts of of the graph**. \n",
    "\n",
    "We can here make a distinction between **local** and **global** random variables: \n",
    "\n",
    "* **Local random variables** caputure **specific information** about the $i$-th data sample (i.e. the real temperature at this moment in time).\n",
    "\n",
    "* **Global random variables** capture **common information** about all the data samples (i.e. the average temperature of all data samples). \n",
    "\n",
    "\n",
    "<img src=\"https://github.com/PGM-Lab/probai-2021-pyro/blob/main/Day1/Figures/blue.png?raw=1\" alt=\"Drawing\" width=2000 height=20>\n",
    "\n",
    "\n",
    "Observe how inference in this model is much **faster**. "
   ]
  },
  {
   "cell_type": "code",
   "execution_count": null,
   "metadata": {
    "colab": {
     "base_uri": "https://localhost:8080/"
    },
    "id": "ASYtP3j0L-01",
    "outputId": "10545070-a781-404d-88ad-2b7dc7167d22",
    "tags": []
   },
   "outputs": [],
   "source": [
    "#Run inference\n",
    "start = time.time()\n",
    "svi(model, obs)\n",
    "\n",
    "#Print results\n",
    "print(\"P(mean_temp|Sensor=[18., 18.7, 19.2, 17.8, 20.3, 22.4, 20.3, 21.2, 19.5, 20.1]) =\")\n",
    "print(dist.Normal(pyro.param(\"AutoNormal.locs.mean_temp\").item(), pyro.param(\"AutoNormal.scales.mean_temp\").item()))\n",
    "print(\"\")\n",
    "end = time.time()\n",
    "print(f\"{(end - start)} seconds\")"
   ]
  },
  {
   "cell_type": "markdown",
   "metadata": {
    "id": "dUDwSWFsL-01"
   },
   "source": [
    "\n",
    "<img src=\"https://github.com/PGM-Lab/probai-2021-pyro/blob/main/Day1/Figures/blue.png?raw=1\" alt=\"Drawing\" width=2000 height=20>\n",
    "\n",
    "\n",
    "### **<span style=\"color:red\">Exercise 1: </span>The role of *prior distributions* in learning**\n",
    "\n",
    "In this exercise we just want to illustrate how the output of learning depends of the particular prior we introduce in the model. Play with different options and extract conclusions:\n",
    "\n",
    "1. What happens if we change the mean of the prior?\n",
    "2. What happens if we change the scale of the prior?\n",
    "3. What happens to the posterior if the number of data samples deacreases and increases?"
   ]
  },
  {
   "cell_type": "code",
   "execution_count": null,
   "metadata": {
    "colab": {
     "base_uri": "https://localhost:8080/",
     "height": 552
    },
    "id": "5OWLg5tvL-01",
    "outputId": "79319e96-2b85-47f5-cf03-29e4b4086dd1",
    "tags": []
   },
   "outputs": [],
   "source": [
    "#The observatons   \n",
    "sample_size = 10\n",
    "obs = {'sensor': torch.tensor(np.random.normal(18,2,sample_size))}\n",
    "\n",
    "def model(obs):\n",
    "    mean_temp = pyro.sample('mean_temp', dist.Normal(15.0, 2.0))\n",
    "    with pyro.plate('N='+str(obs['sensor'].shape[0]), obs['sensor'].shape[0]):\n",
    "        temp = pyro.sample('temp', dist.Normal(mean_temp, 2.0))\n",
    "        sensor = pyro.sample('sensor', dist.Normal(temp, 1.0), obs=obs['sensor'])\n",
    "\n",
    "#Run inference\n",
    "svi(model, obs)\n",
    "\n",
    "#Print results\n",
    "print(\"P(Temperature|Sensor=18.0) = \")\n",
    "print(dist.Normal(pyro.param(\"AutoNormal.locs.mean_temp\").item(), pyro.param(\"AutoNormal.scales.mean_temp\").item()))\n",
    "\n",
    "x = np.linspace(16, 20, 100)\n",
    "plt.plot(x, stats.norm.pdf(x, pyro.param(\"AutoNormal.locs.mean_temp\").item(), pyro.param(\"AutoNormal.scales.mean_temp\").item()), label='Posterior')\n",
    "point = 18\n",
    "plt.plot([point, point],[0., 1.], label='Point Estimate')\n",
    "plt.xlim(16,20)\n",
    "plt.legend()\n",
    "plt.show()\n"
   ]
  },
  {
   "cell_type": "markdown",
   "metadata": {
    "id": "uf7kVC-hL-03"
   },
   "source": [
    "<img src=\"https://github.com/PGM-Lab/probai-2021-pyro/blob/main/Day1/Figures/blue.png?raw=1\" alt=\"Drawing\" width=2000 height=20>\n",
    "\n",
    "\n",
    "# **4.  Icecream Shop**\n",
    "\n",
    "\n",
    "We have an ice-cream shop and assume thaat we **record the ice-cream sales and the average temperature of the day** (using a temperature sensor).\n",
    "\n",
    "* We know that **temperature affects the sales** of ice-creams.\n",
    "\n",
    "* We want to **model** how temperature affects ice-cream sales.\n",
    "\n",
    "<center>\n",
    "<img src=\"https://github.com/PGM-Lab/probai-2021-pyro/raw/main/Day1/Figures/Ice-cream_shop_-_Florida.jpg\" alt=\"Drawing\" width=300 >\n",
    "</center>\n",
    "\n"
   ]
  },
  {
   "cell_type": "markdown",
   "metadata": {
    "id": "uv2fWAHxDRxO"
   },
   "source": [
    "<img src=\"https://github.com/PGM-Lab/probai-2021-pyro/blob/main/Day1/Figures/blue.png?raw=1\" alt=\"Drawing\" width=2000 height=20>\n",
    "\n",
    "* We have **observations** from temperature and sales.\n",
    "\n",
    "* Sales are modeled with a **Poisson** distribution:\n",
    "\n",
    ">- The rate of the Poisson distribution **linearly depends of the real temperature**.\n",
    "\n",
    "The figure below provides a graphical and probabilistic description of the model:\n",
    "<center>\n",
    "<img src=\"https://github.com/PGM-Lab/probai-2021-pyro/blob/main/Day1/Figures/Ice-Cream-Shop-Model.png?raw=1\" alt=\"Drawing\" width=700>\n",
    "</center>\n",
    "\n"
   ]
  },
  {
   "cell_type": "code",
   "execution_count": null,
   "metadata": {
    "colab": {
     "base_uri": "https://localhost:8080/",
     "height": 324
    },
    "id": "HR8bu27OL-03",
    "outputId": "fb12d9b0-7fc8-40dd-d029-f5a88f51b58e",
    "tags": []
   },
   "outputs": [],
   "source": [
    "#The observatons   \n",
    "obs = {'sensor': torch.tensor([18., 18.7, 19.2, 17.8, 20.3, 22.4, 20.3, 21.2, 19.5, 20.1]),\n",
    "       'sales': torch.tensor([46., 47., 49., 44., 50., 54., 51., 52., 49., 53.])}\n",
    "\n",
    "def model(obs):\n",
    "    mean_temp = pyro.sample('mean_temp', dist.Normal(15.0, 2.0))\n",
    "    alpha = pyro.sample('alpha', dist.Normal(0.0, 100.0))\n",
    "    beta = pyro.sample('beta', dist.Normal(0.0, 100.0))\n",
    "\n",
    "    with pyro.plate('N='+str(obs['sensor'].shape[0]), obs['sensor'].shape[0]):\n",
    "        temp = pyro.sample('temp', dist.Normal(mean_temp, 2.0))\n",
    "        sensor = pyro.sample('sensor', dist.Normal(temp, 1.0), obs=obs['sensor'])\n",
    "        rate = torch.max(torch.tensor(0.001), alpha + beta*temp)\n",
    "        sales = pyro.sample('sales', dist.Poisson(rate), obs=obs['sales'])\n",
    "\n",
    "#Visualize the model\n",
    "pyro.render_model(model, model_args=(obs, ), render_distributions=True)"
   ]
  },
  {
   "cell_type": "markdown",
   "metadata": {
    "id": "gT34C5CpDmPZ"
   },
   "source": [
    "<img src=\"https://github.com/PGM-Lab/probai-2021-pyro/blob/main/Day1/Figures/blue.png?raw=1\" alt=\"Drawing\" width=2000 height=20>\n"
   ]
  },
  {
   "cell_type": "markdown",
   "metadata": {
    "id": "6jqw09FND19b"
   },
   "source": [
    "We again run the **(variational) inference engine** for estimating the posterior distributions.\n",
    "* With PPLs, we only care about modeling, **not about the low-level details** of the machine-learning solver.\n"
   ]
  },
  {
   "cell_type": "code",
   "execution_count": null,
   "metadata": {
    "colab": {
     "base_uri": "https://localhost:8080/"
    },
    "id": "gmaOTBYAL-03",
    "outputId": "e8fbe409-abb7-4290-d89c-ce6e81c21652",
    "tags": []
   },
   "outputs": [],
   "source": [
    "#Run inference\n",
    "svi(model, obs, num_steps = 3000, lr = 0.001, plot=True)\n",
    "\n",
    "#Print results    \n",
    "print(\"Posterior temperature mean\")\n",
    "print(dist.Normal(pyro.param(\"AutoNormal.locs.mean_temp\").item(), pyro.param(\"AutoNormal.scales.mean_temp\").item()))\n",
    "print(\"\")\n",
    "print(\"Posterior alpha\")\n",
    "print(dist.Normal(pyro.param(\"AutoNormal.locs.alpha\").item(), pyro.param(\"AutoNormal.scales.alpha\").item()))\n",
    "print(\"\")\n",
    "print(\"Posterior beta\")\n",
    "print(dist.Normal(pyro.param(\"AutoNormal.locs.beta\").item(), pyro.param(\"AutoNormal.scales.beta\").item()))\n"
   ]
  },
  {
   "cell_type": "markdown",
   "metadata": {
    "id": "4ulfx96AL-04"
   },
   "source": [
    "<img src=\"https://github.com/PGM-Lab/probai-2021-pyro/blob/main/Day1/Figures/blue.png?raw=1\" alt=\"Drawing\" width=2000 height=20>\n",
    "\n",
    "\n",
    "### <span style=\"color:red\">Exercise 2: Introduce Humidity in the Icecream shop model </span> \n",
    "* Assume that we also have a bunch of **humidity sensor measurements**.\n",
    "* Assume also that the **sales are also linearly influenced by the humidity**.\n",
    "\n",
    "**Extend the previous model** with information about humidity measurements.\n",
    "\n",
    "The figure provides a graphical and probabilistic specification of the model:\n",
    "<center>\n",
    "<img src=\"https://github.com/PGM-Lab/probai-2021-pyro/blob/main/Day1/Figures/Ice-Cream-Shop-Model-Humidity.png?raw=1\" alt=\"Drawing\" width=900>\n",
    "</center>\n",
    "\n",
    "\n"
   ]
  },
  {
   "cell_type": "code",
   "execution_count": null,
   "metadata": {
    "colab": {
     "base_uri": "https://localhost:8080/",
     "height": 324
    },
    "id": "8UxOUxuTL-04",
    "outputId": "04272ea4-1be6-4ea8-bb72-e7049fba25da",
    "tags": []
   },
   "outputs": [],
   "source": [
    "#The observatons   \n",
    "obs = {'sensor': torch.tensor([18., 18.7, 19.2, 17.8, 20.3, 22.4, 20.3, 21.2, 19.5, 20.1]),\n",
    "       'sales': torch.tensor([46., 47., 49., 44., 50., 54., 51., 52., 49., 53.]),\n",
    "       'sensor_humidity': torch.tensor([82.8, 87.6, 69.1, 74.2, 80.3, 94.2, 91.2, 92.2, 99.1, 93.2])}\n",
    "\n",
    "\n",
    "def model(obs):\n",
    "    mean_temp = pyro.sample('mean_temp', dist.Normal(15.0, 2.0))\n",
    "    ## Introduce a random variable \"mean_humidity\"\n",
    "    mean_humidity = pyro.sample('mean_humidity', dist.Normal(80.0, 5.0))\n",
    "\n",
    "    alpha = pyro.sample('alpha', dist.Normal(0.0, 100.0))\n",
    "    beta = pyro.sample('beta', dist.Normal(0.0, 100.0))\n",
    "    \n",
    "    ## Introduce a coefficient for the humidity \"gamma\"\n",
    "    gamma = pyro.sample('gamma', dist.Normal(0.0, 100.0))\n",
    "\n",
    "    with pyro.plate('N='+str(obs['sensor'].shape[0]), obs['sensor'].shape[0]):\n",
    "        temp = pyro.sample('temp', dist.Normal(mean_temp, 2.0))\n",
    "        sensor = pyro.sample('sensor', dist.Normal(temp, 1.0), obs=obs['sensor'])\n",
    "        #Add the 'humidity' variable and the 'sensor_humidity' variable\n",
    "        humidity = pyro.sample('humidity', dist.Normal(mean_humidity, 2.0))\n",
    "        sensor_humidity = pyro.sample('sensor_humidity', dist.Normal(humidity, 1.0), obs=obs['sensor_humidity'])\n",
    "        #Add the linear dependency for the rate with respect to temp and humidity (keep torch.max to avoid numerical stability issues)\n",
    "        rate = torch.max(torch.tensor(0.001), alpha + beta*temp + gamma*humidity)\n",
    "        sales = pyro.sample('sales', dist.Poisson(rate), obs=obs['sales'])\n",
    "\n",
    "#Visualize the model\n",
    "pyro.render_model(model, model_args=(obs, ), render_distributions=True)"
   ]
  },
  {
   "cell_type": "markdown",
   "metadata": {
    "id": "wC7ceQTkHrrg"
   },
   "source": [
    "<img src=\"https://github.com/PGM-Lab/probai-2021-pyro/blob/main/Day1/Figures/blue.png?raw=1\" alt=\"Drawing\" width=2000 height=20>\n",
    "\n",
    "Again, we rely on the **(variational) inference engine** to get the results.\n"
   ]
  },
  {
   "cell_type": "code",
   "execution_count": null,
   "metadata": {
    "colab": {
     "base_uri": "https://localhost:8080/"
    },
    "id": "Du3hyC0j16tM",
    "outputId": "9ef8cee3-d90d-4199-8872-37ea28f3dc01",
    "tags": []
   },
   "outputs": [],
   "source": [
    "#Run inference\n",
    "svi(model, obs, num_steps=3000, lr=0.001)\n",
    "\n",
    "#Print results    \n",
    "print(\"Posterior temperature mean\")\n",
    "print(dist.Normal(pyro.param(\"AutoNormal.locs.mean_temp\").item(), pyro.param(\"AutoNormal.scales.mean_temp\").item()))\n",
    "print(\"\")\n",
    "print(\"Posterior Humidity Mean\")\n",
    "print(dist.Normal(pyro.param(\"AutoNormal.locs.mean_humidity\").item(), pyro.param(\"AutoNormal.scales.mean_humidity\").item()))\n",
    "print(\"\")\n",
    "print(\"Posterior alpha\")\n",
    "print(dist.Normal(pyro.param(\"AutoNormal.locs.alpha\").item(), pyro.param(\"AutoNormal.scales.alpha\").item()))\n",
    "print(\"\")\n",
    "print(\"Posterior beta\")\n",
    "print(dist.Normal(pyro.param(\"AutoNormal.locs.beta\").item(), pyro.param(\"AutoNormal.scales.beta\").item()))\n",
    "print(\"\")\n",
    "print(\"Posterior Gamma\")\n",
    "print(dist.Normal(pyro.param(\"AutoNormal.locs.gamma\").item(), pyro.param(\"AutoNormal.scales.gamma\").item()))\n"
   ]
  },
  {
   "cell_type": "markdown",
   "metadata": {
    "id": "NCld6GJGL-05"
   },
   "source": [
    "<img src=\"https://github.com/PGM-Lab/probai-2021-pyro/blob/main/Day1/Figures/blue.png?raw=1\" alt=\"Drawing\" width=2000 height=20>\n",
    "\n",
    "# 5.  **Temporal Models**\n",
    "\n",
    "If we believe there is a temporal dependency between the variables, we can also encode this in the model. \n",
    "\n",
    "* E.g. the current **real temperature must be similar to the real temperature in the previous time step**.\n",
    "\n",
    "* This temporal dependency can **be modeled** using a **for-loop** in Pyro\n",
    "\n",
    "Consider the **graphical representation**.\n",
    "\n",
    "\n",
    "<img src=\"https://github.com/PGM-Lab/probai-2021-pyro/raw/main/Day1/Figures/tempmodel-temporal-III.png\" alt=\"Drawing\" style=\"width: 350px;\" >\n",
    "\n"
   ]
  },
  {
   "cell_type": "code",
   "execution_count": null,
   "metadata": {
    "id": "dSzU0cWeL-05",
    "tags": []
   },
   "outputs": [],
   "source": [
    "#The observatons   \n",
    "obs = {'sensor': torch.tensor([18., 18.7, 19.2, 17.8, 20.3, 22.4, 20.3, 21.2, 19.5, 20.1])}\n",
    "\n",
    "def model(obs):\n",
    "    mean_temp = pyro.sample('mean_temp', dist.Normal(15.0, 2.0))\n",
    "    for i in range(obs['sensor'].shape[0]):\n",
    "        if i==0:\n",
    "            temp = pyro.sample(f'temp_{i}', dist.Normal(mean_temp, 2.0))\n",
    "        else:\n",
    "            temp = pyro.sample(f'temp_{i}', dist.Normal(prev_temp, 2.0))\n",
    "        sensor = pyro.sample(f'sensor_{i}', dist.Normal(temp, 1.0), obs=obs['sensor'][i])\n",
    "        prev_temp = temp\n",
    "\n",
    "#Visualize the model\n",
    "pyro.render_model(model, model_args=(obs, ))"
   ]
  },
  {
   "cell_type": "markdown",
   "metadata": {
    "id": "EAnXvUqpJCm1"
   },
   "source": [
    "<img src=\"https://github.com/PGM-Lab/probai-2021-pyro/blob/main/Day1/Figures/blue.png?raw=1\" alt=\"Drawing\" width=2000 height=20>\n",
    "\n",
    "Again, we rely on the **(variational) inference engine** to get the results."
   ]
  },
  {
   "cell_type": "code",
   "execution_count": null,
   "metadata": {
    "cellView": "form",
    "id": "7XaW4rKXL-05"
   },
   "outputs": [],
   "source": [
    "#@title\n",
    "#Define the guide\n",
    "def guide(obs):\n",
    "    mean = pyro.param(\"mean\", torch.mean(obs['sensor']))\n",
    "    scale = pyro.param(\"scale\", torch.tensor(1.), constraint=constraints.positive)\n",
    "    mean_temp = pyro.sample('mean_temp', dist.Normal(mean, scale))\n",
    "    for i in range(obs['sensor'].shape[0]):\n",
    "        mean_i = pyro.param(f'mean_{i}', obs['sensor'][i])\n",
    "        scale_i = pyro.param(f'scale_{i}', torch.tensor(1.), constraint=constraints.positive)\n",
    "        temp = pyro.sample(f'temp_{i}', dist.Normal(mean_i, scale_i))"
   ]
  },
  {
   "cell_type": "code",
   "execution_count": null,
   "metadata": {
    "colab": {
     "base_uri": "https://localhost:8080/"
    },
    "id": "MWWVKOZnWccI",
    "outputId": "8f61999f-69eb-4388-acb9-e23a9516acac"
   },
   "outputs": [],
   "source": [
    "import time\n",
    "        \n",
    "#Run inference\n",
    "svi(model, obs, guide)\n",
    "\n",
    "smooth_temp=[]\n",
    "for i in range(obs['sensor'].shape[0]):\n",
    "    smooth_temp.append(pyro.param(f'mean_{i}').item())\n",
    "\n",
    "print('Finished')"
   ]
  },
  {
   "cell_type": "markdown",
   "metadata": {
    "id": "OJHqOj3VL-06"
   },
   "source": [
    "We can now plot the **observered measurements** of the temperature **against** the inferred **real temperature**.\n",
    "\n",
    "* By querying the **local hidden** we can **smooth** the temperature.\n",
    "\n",
    "* The **recovered temperature** is much less noisy than the measured one. "
   ]
  },
  {
   "cell_type": "code",
   "execution_count": null,
   "metadata": {
    "colab": {
     "base_uri": "https://localhost:8080/",
     "height": 447
    },
    "id": "cesOfH6UL-06",
    "outputId": "9afa4a22-e186-4e7d-807d-2bfc11d74f66"
   },
   "outputs": [],
   "source": [
    "import matplotlib.pyplot as plt\n",
    "plt.plot([18., 18.7, 19.2, 17.8, 20.3, 22.4, 20.3, 21.2, 19.5, 20.1], label='Sensor Temp')\n",
    "plt.plot(smooth_temp, label='Smooth Temp')\n",
    "plt.legend()"
   ]
  },
  {
   "cell_type": "markdown",
   "metadata": {
    "id": "yRDQWC-vL-06"
   },
   "source": [
    "<img src=\"https://github.com/PGM-Lab/probai-2021-pyro/blob/main/Day1/Figures/blue.png?raw=1\" alt=\"Drawing\" width=2000 height=20>\n",
    "\n",
    "### <span style=\"color:red\">Exercise 3:  Temporal Extension of the Iceacream shop model </span> \n",
    "\n",
    "This exercise **extends** Excersise 2.\n",
    "* Assume temperature depends of the **temperature in the previous day**.\n",
    "* Assume humidity depends of the **humidity in the previous day**.\n",
    "* Assume sales depends on the **current temperature and humidity**.\n",
    "* Use the **graphical representation below for reference**.\n",
    "\n",
    "N.b. The plate representation has to be impemented in Pyro using a **``for-loop``**.\n",
    "<img src=\"https://github.com/PGM-Lab/probai-2021-pyro/raw/main/Day1/Figures/icecream-model-temporal.png\" alt=\"Drawing\" width=700 >\n",
    "\n",
    "\n"
   ]
  },
  {
   "cell_type": "code",
   "execution_count": null,
   "metadata": {
    "id": "GevI9bcjL-07",
    "tags": []
   },
   "outputs": [],
   "source": [
    "#The observatons   \n",
    "obs = {'sensor': torch.tensor([18., 18.7, 19.2, 17.8, 20.3, 22.4, 20.3, 21.2, 19.5, 20.1]),\n",
    "       'sales': torch.tensor([46., 47., 49., 44., 50., 54., 51., 52., 49., 53.]),\n",
    "       'sensor_humidity': torch.tensor([82.8, 87.6, 69.1, 74.2, 80.3, 94.2, 91.2, 92.2, 99.1, 93.2])}\n",
    "\n",
    "\n",
    "\n",
    "def model(obs):\n",
    "    mean_temp = pyro.sample('mean_temp', dist.Normal(15.0, 2.0))\n",
    "    ## Introduce a random variable \"mean_humidity\"\n",
    "    mean_humidity = pyro.sample('mean_humidity', dist.Normal(8.0, 2.0))\n",
    "\n",
    "\n",
    "    alpha = pyro.sample('alpha', dist.Normal(0.0, 100.0))\n",
    "    beta = pyro.sample('beta', dist.Normal(0.0, 100.0))\n",
    "    ## Introduce a coefficient for the humidity \"gamma\"\n",
    "    gamma = pyro.sample('gamma', dist.Normal(0.0, 100.0))\n",
    "\n",
    "    for i in range(obs['sensor'].shape[0]):\n",
    "        if i==0:\n",
    "            temp = pyro.sample(f'temp_{i}', dist.Normal(mean_temp, 2.0))\n",
    "            #Introduce the 'humidity' variable at time 0.\n",
    "            humidity = pyro.sample(f'humidity_{i}', dist.Normal(mean_humidity, 2.0))\n",
    "        else:\n",
    "            temp = pyro.sample(f'temp_{i}', dist.Normal(prev_temp, 2.0))\n",
    "            #Introduce the f'humidity_{i}' variable defining the transition\n",
    "            humidity = pyro.sample(f'humidity_{i}', dist.Normal(prev_humidity, 2.0))\n",
    "            \n",
    "        sensor = pyro.sample(f'sensor_{i}', dist.Normal(temp, 1.0), obs=obs['sensor'][i])\n",
    "        #Introduce the f'sensor_humidity_{i}' variable. \n",
    "        sensor_humidity = pyro.sample(f'sensor_humidity_{i}', dist.Normal(humidity, 1.0), obs=obs['sensor_humidity'][i])\n",
    "        \n",
    "        #Add the linear dependency for the rate with respect to temp and humidity (keep torch.max to avoid numerical stability issues)\n",
    "        rate = torch.max(torch.tensor(0.01),alpha + beta*temp + gamma*humidity)\n",
    "        sales = pyro.sample(f'sales_{i}', dist.Poisson(rate), obs=obs['sales'][i])\n",
    "\n",
    "        prev_temp = temp\n",
    "        #Keep humidity for the next time step. \n",
    "        prev_humidity = humidity\n"
   ]
  },
  {
   "cell_type": "markdown",
   "metadata": {
    "id": "BOo487l4L3L1"
   },
   "source": [
    "<img src=\"https://github.com/PGM-Lab/probai-2021-pyro/blob/main/Day1/Figures/blue.png?raw=1\" alt=\"Drawing\" width=2000 height=20>\n",
    "\n",
    "Again, we rely on the **(variational) inference engine** to get the results."
   ]
  },
  {
   "cell_type": "code",
   "execution_count": null,
   "metadata": {
    "cellView": "form",
    "id": "izRFQ0T3L-07"
   },
   "outputs": [],
   "source": [
    "#@title\n",
    "#Define the guide\n",
    "def guide(obs):\n",
    "    mean = pyro.param(\"mean\", torch.mean(obs['sensor']))\n",
    "    scale = pyro.param(\"scale\", torch.tensor(1.), constraint=constraints.greater_than(0.01))\n",
    "    mean_temp = pyro.sample('mean_temp', dist.Normal(mean, scale))\n",
    "\n",
    "    meanH = pyro.param(\"meanH\", torch.mean(obs['sensor_humidity']), constraint=constraints.positive)\n",
    "    scaleH = pyro.param(\"scaleH\", torch.tensor(1.), constraint=constraints.greater_than(0.01))\n",
    "    humidity_mean = pyro.sample('mean_humidity', dist.Normal(meanH, scaleH))\n",
    "\n",
    "\n",
    "    alpha_mean = pyro.param(\"alpha_mean\", torch.mean(obs['sensor']))\n",
    "    alpha_scale = pyro.param(\"alpha_scale\", torch.tensor(1.), constraint=constraints.greater_than(0.01))\n",
    "    alpha = pyro.sample('alpha', dist.Normal(alpha_mean, alpha_scale))\n",
    "\n",
    "    beta_mean = pyro.param(\"beta_mean\", torch.tensor(0.0))\n",
    "    beta_scale = pyro.param(\"beta_scale\", torch.tensor(1.), constraint=constraints.greater_than(0.01))\n",
    "    beta = pyro.sample('beta', dist.Normal(beta_mean, beta_scale))\n",
    "\n",
    "    gamma_mean = pyro.param(\"gamma_mean\", torch.tensor(0.0))\n",
    "    gamma_scale = pyro.param(\"gamma_scale\", torch.tensor(1.), constraint=constraints.greater_than(0.01))\n",
    "    gamma = pyro.sample('gamma', dist.Normal(gamma_mean, gamma_scale))\n",
    "\n",
    "    for i in range(obs['sensor'].shape[0]):\n",
    "        mean_i = pyro.param(f'mean_{i}', obs['sensor'][i])\n",
    "        scale_i = pyro.param(f'scale_{i}', torch.tensor(1.), constraint=constraints.greater_than(0.01))\n",
    "        temp = pyro.sample(f'temp_{i}', dist.Normal(mean_i, scale_i))\n",
    "        meanH_i = pyro.param(f'meanH_{i}', obs['sensor_humidity'][i])\n",
    "        scaleH_i = pyro.param(f'scaleH_{i}', torch.tensor(1.), constraint=constraints.greater_than(0.01))\n",
    "        humidity_i = pyro.sample(f'humidity_{i}', dist.Normal(meanH_i, scaleH_i))"
   ]
  },
  {
   "cell_type": "code",
   "execution_count": null,
   "metadata": {
    "colab": {
     "base_uri": "https://localhost:8080/"
    },
    "id": "tMWwy2UNL-07",
    "outputId": "5fe70d07-5453-418d-961d-26ef2959040c"
   },
   "outputs": [],
   "source": [
    "import time\n",
    "        \n",
    "#Run inference\n",
    "svi(model, obs, guide=guide, num_steps = 1000, lr=0.001)\n",
    "\n",
    "smooth_temp=[]\n",
    "smooth_humidity=[]\n",
    "\n",
    "for i in range(obs['sensor'].shape[0]):\n",
    "    smooth_temp.append(pyro.param(f'mean_{i}').item())\n",
    "    smooth_humidity.append(pyro.param(f'meanH_{i}').item())\n",
    "\n",
    "print('Finished')"
   ]
  },
  {
   "cell_type": "markdown",
   "metadata": {
    "id": "LosM2wXBMAFX"
   },
   "source": [
    "<img src=\"https://github.com/PGM-Lab/probai-2021-pyro/blob/main/Day1/Figures/blue.png?raw=1\" alt=\"Drawing\" width=2000 height=20>\n",
    "\n",
    "* We can plot the observered measurements of the temperature against the **inferred real temperature** by our model. \n",
    "\n",
    "* The **recovered temperature** is much less noisy than the real one.\n"
   ]
  },
  {
   "cell_type": "code",
   "execution_count": null,
   "metadata": {
    "colab": {
     "base_uri": "https://localhost:8080/",
     "height": 447
    },
    "id": "7kr1dbx-L-07",
    "outputId": "5fc2cbb6-563c-44b5-a5ae-b19cfa6fbb5c"
   },
   "outputs": [],
   "source": [
    "plt.plot([18., 18.7, 19.2, 17.8, 20.3, 22.4, 20.3, 21.2, 19.5, 20.1], label='Sensor Temp')\n",
    "plt.plot(smooth_temp, label='Smooth Temp')\n",
    "plt.legend()"
   ]
  },
  {
   "cell_type": "markdown",
   "metadata": {
    "id": "QStTTd9nN56M"
   },
   "source": [
    "---\n",
    "* We can plot the observered measurements of the humidity against the **inferred real humidity** by our model. \n",
    "\n",
    "* The **recovered humidity** is much less noisy than the real one.\n",
    "\n",
    "---\n"
   ]
  },
  {
   "cell_type": "code",
   "execution_count": null,
   "metadata": {
    "colab": {
     "base_uri": "https://localhost:8080/",
     "height": 447
    },
    "id": "WD7n3v9oL-08",
    "outputId": "65d0a3e6-5a84-449d-e284-4a633c2b98e9"
   },
   "outputs": [],
   "source": [
    "humidity = torch.tensor([82.8, 87.6, 69.1, 74.2, 80.3, 94.2, 91.2, 92.2, 99.1, 93.2])\n",
    "plt.plot(humidity.detach().numpy(), label='Sensor Humidity')\n",
    "plt.plot(smooth_humidity, label='Smooth Humidity')\n",
    "plt.legend()"
   ]
  },
  {
   "cell_type": "markdown",
   "metadata": {
    "id": "858lPsjJOTJd"
   },
   "source": [
    "<img src=\"https://github.com/PGM-Lab/probai-2021-pyro/blob/main/Day1/Figures/blue.png?raw=1\" alt=\"Drawing\" width=2000 height=20>\n"
   ]
  }
 ],
 "metadata": {
  "colab": {
   "include_colab_link": true,
   "name": "solutions_PPLs_Intro.ipynb",
   "provenance": [],
   "toc_visible": true
  },
  "kernelspec": {
   "display_name": "Python 3 (ipykernel)",
   "language": "python",
   "name": "python3"
  },
  "language_info": {
   "codemirror_mode": {
    "name": "ipython",
    "version": 3
   },
   "file_extension": ".py",
   "mimetype": "text/x-python",
   "name": "python",
   "nbconvert_exporter": "python",
   "pygments_lexer": "ipython3",
   "version": "3.9.0"
  }
 },
 "nbformat": 4,
 "nbformat_minor": 4
}
